{
 "cells": [
  {
   "cell_type": "markdown",
   "id": "6f81099a",
   "metadata": {
    "deletable": false,
    "editable": false,
    "nbgrader": {
     "cell_type": "markdown",
     "checksum": "7a32ea3bae3c11eaa1cf0e8aa893adc8",
     "grade": false,
     "grade_id": "cell-afd69c5bb87602d0",
     "locked": true,
     "schema_version": 3,
     "solution": false,
     "task": false
    }
   },
   "source": [
    "## Objective\n",
    "In this lab, you will learn how to use Scikit-Learn to build and evaluate a basic linear regression model for predicting house prices. You will go through the steps of loading and exploring a dataset, preprocessing the data, building a model, and evaluating its performance.\n",
    "\n",
    "## Scenario\n",
    "Welcome to your new role as a data analyst intern at a real estate firm! Your manager has tasked you with developing a simple machine learning model to predict house prices based on historical data. This model will help the firm estimate the value of new properties quickly and efficiently.\n",
    "\n",
    "## Materials Provided\n",
    "- A dataset (`house_prices.csv`) preloaded into a pandas DataFrame named `df`.\n",
    "- Python environment with Scikit-Learn, pandas, and other essential libraries pre-installed.\n",
    "\n",
    "## Hints and Grading Notes\n",
    "- Refer to the **pandas Cheat Sheet** for quick syntax reference on DataFrame operations.\n",
    "- Check the **Scikit-Learn Documentation** for examples and explanations of machine learning models.\n",
    "- Please review **Your first machine learning model: A guide** for guidance.\n",
    "\n",
    "## High-Level Tasks\n",
    "1. **Load and Explore the Data**\n",
    "2. **Data Preprocessing**\n",
    "3. **Build and Train a Linear Regression Model**\n",
    "4. **Make Predictions and Evaluate the Model**\n",
    "5. **Bonus Challenge (Optional)**"
   ]
  },
  {
   "cell_type": "markdown",
   "id": "8b8ea264-1bf6-4356-81b3-6ce61570a764",
   "metadata": {
    "deletable": false,
    "editable": false,
    "nbgrader": {
     "cell_type": "markdown",
     "checksum": "9065388590fa92433f65a460f011eaef",
     "grade": false,
     "grade_id": "cell-15894f490cd33a57",
     "locked": true,
     "schema_version": 3,
     "solution": false,
     "task": false
    }
   },
   "source": [
    "## Lab Instructions\n",
    "### 1. Load and Explore the Data\n",
    "#### Step 1.1: Import the required Python library and preview dataset.\n",
    "Use the provided code cell to display the first 5 rows of the dataset. Examine the dataset. Notice most fields have values, but the `condition` column has a number of values listed as `NaN`. This will be cleaned up in a later step."
   ]
  },
  {
   "cell_type": "code",
   "execution_count": 1,
   "id": "66f7b16d",
   "metadata": {
    "deletable": false,
    "editable": false,
    "nbgrader": {
     "cell_type": "code",
     "checksum": "51ff32f8e7d6d9cffd5ee1a1590ca65d",
     "grade": false,
     "grade_id": "cell-5a3af6671038d08b",
     "locked": true,
     "schema_version": 3,
     "solution": false,
     "task": false
    }
   },
   "outputs": [],
   "source": [
    "%%bash\n",
    "# Note: If you choose to use this notebook on your machine, you will need to ensure pandas and scikit-learn are installed.\n",
    "# This does not have to be run for this lab. It is provided for your local testing.\n",
    "# If you are running locally, uncomment the line below and run this cell. \n",
    "\n",
    "#pip install pandas scikit-learn"
   ]
  },
  {
   "cell_type": "code",
   "execution_count": 9,
   "id": "2976fcaf",
   "metadata": {},
   "outputs": [],
   "source": [
    "from sklearn.model_selection import train_test_split\n",
    "from sklearn.linear_model import LogisticRegression\n",
    "from sklearn.metrics import (\n",
    "    accuracy_score,\n",
    "    precision_score,\n",
    "    recall_score,\n",
    "    roc_auc_score,\n",
    "    classification_report,\n",
    "    roc_curve,\n",
    ")"
   ]
  },
  {
   "cell_type": "code",
   "execution_count": 2,
   "id": "e3403cce",
   "metadata": {
    "deletable": false,
    "editable": false,
    "nbgrader": {
     "cell_type": "code",
     "checksum": "0063f6beb1a452a7e7db384e7bb5cb42",
     "grade": false,
     "grade_id": "cell-4a9456723c1a45d8",
     "locked": true,
     "schema_version": 3,
     "solution": false,
     "task": false
    }
   },
   "outputs": [
    {
     "data": {
      "text/html": [
       "<div>\n",
       "<style scoped>\n",
       "    .dataframe tbody tr th:only-of-type {\n",
       "        vertical-align: middle;\n",
       "    }\n",
       "\n",
       "    .dataframe tbody tr th {\n",
       "        vertical-align: top;\n",
       "    }\n",
       "\n",
       "    .dataframe thead th {\n",
       "        text-align: right;\n",
       "    }\n",
       "</style>\n",
       "<table border=\"1\" class=\"dataframe\">\n",
       "  <thead>\n",
       "    <tr style=\"text-align: right;\">\n",
       "      <th></th>\n",
       "      <th>price</th>\n",
       "      <th>bedrooms</th>\n",
       "      <th>bathrooms</th>\n",
       "      <th>sqft_living</th>\n",
       "      <th>sqft_lot</th>\n",
       "      <th>floors</th>\n",
       "      <th>waterfront</th>\n",
       "      <th>view</th>\n",
       "      <th>condition</th>\n",
       "      <th>sqft_above</th>\n",
       "      <th>sqft_basement</th>\n",
       "      <th>yr_built</th>\n",
       "      <th>yr_renovated</th>\n",
       "    </tr>\n",
       "  </thead>\n",
       "  <tbody>\n",
       "    <tr>\n",
       "      <th>0</th>\n",
       "      <td>376000.0</td>\n",
       "      <td>3.0</td>\n",
       "      <td>2.00</td>\n",
       "      <td>1340</td>\n",
       "      <td>1384</td>\n",
       "      <td>3.0</td>\n",
       "      <td>0</td>\n",
       "      <td>0</td>\n",
       "      <td>NaN</td>\n",
       "      <td>1340</td>\n",
       "      <td>0</td>\n",
       "      <td>2008</td>\n",
       "      <td>0</td>\n",
       "    </tr>\n",
       "    <tr>\n",
       "      <th>1</th>\n",
       "      <td>800000.0</td>\n",
       "      <td>4.0</td>\n",
       "      <td>3.25</td>\n",
       "      <td>3540</td>\n",
       "      <td>159430</td>\n",
       "      <td>2.0</td>\n",
       "      <td>0</td>\n",
       "      <td>0</td>\n",
       "      <td>NaN</td>\n",
       "      <td>3540</td>\n",
       "      <td>0</td>\n",
       "      <td>2007</td>\n",
       "      <td>0</td>\n",
       "    </tr>\n",
       "    <tr>\n",
       "      <th>2</th>\n",
       "      <td>2238888.0</td>\n",
       "      <td>5.0</td>\n",
       "      <td>6.50</td>\n",
       "      <td>7270</td>\n",
       "      <td>130017</td>\n",
       "      <td>2.0</td>\n",
       "      <td>0</td>\n",
       "      <td>0</td>\n",
       "      <td>NaN</td>\n",
       "      <td>6420</td>\n",
       "      <td>850</td>\n",
       "      <td>2010</td>\n",
       "      <td>0</td>\n",
       "    </tr>\n",
       "    <tr>\n",
       "      <th>3</th>\n",
       "      <td>324000.0</td>\n",
       "      <td>3.0</td>\n",
       "      <td>2.25</td>\n",
       "      <td>998</td>\n",
       "      <td>904</td>\n",
       "      <td>2.0</td>\n",
       "      <td>0</td>\n",
       "      <td>0</td>\n",
       "      <td>NaN</td>\n",
       "      <td>798</td>\n",
       "      <td>200</td>\n",
       "      <td>2007</td>\n",
       "      <td>0</td>\n",
       "    </tr>\n",
       "    <tr>\n",
       "      <th>4</th>\n",
       "      <td>549900.0</td>\n",
       "      <td>5.0</td>\n",
       "      <td>2.75</td>\n",
       "      <td>3060</td>\n",
       "      <td>7015</td>\n",
       "      <td>1.0</td>\n",
       "      <td>0</td>\n",
       "      <td>0</td>\n",
       "      <td>5.0</td>\n",
       "      <td>1600</td>\n",
       "      <td>1460</td>\n",
       "      <td>1979</td>\n",
       "      <td>0</td>\n",
       "    </tr>\n",
       "  </tbody>\n",
       "</table>\n",
       "</div>"
      ],
      "text/plain": [
       "       price  bedrooms  bathrooms  sqft_living  sqft_lot  floors  waterfront  \\\n",
       "0   376000.0       3.0       2.00         1340      1384     3.0           0   \n",
       "1   800000.0       4.0       3.25         3540    159430     2.0           0   \n",
       "2  2238888.0       5.0       6.50         7270    130017     2.0           0   \n",
       "3   324000.0       3.0       2.25          998       904     2.0           0   \n",
       "4   549900.0       5.0       2.75         3060      7015     1.0           0   \n",
       "\n",
       "   view  condition  sqft_above  sqft_basement  yr_built  yr_renovated  \n",
       "0     0        NaN        1340              0      2008             0  \n",
       "1     0        NaN        3540              0      2007             0  \n",
       "2     0        NaN        6420            850      2010             0  \n",
       "3     0        NaN         798            200      2007             0  \n",
       "4     0        5.0        1600           1460      1979             0  "
      ]
     },
     "execution_count": 2,
     "metadata": {},
     "output_type": "execute_result"
    }
   ],
   "source": [
    "# Provided for you - no changes necessary.\n",
    "import pandas as pd\n",
    "df = pd.read_csv(\"house_prices.csv\")\n",
    "\n",
    "# Display the first 5 rows of the DataFrame\n",
    "df.head()"
   ]
  },
  {
   "cell_type": "markdown",
   "id": "ba7f301a-5ebb-4786-80de-b857e644cdef",
   "metadata": {
    "deletable": false,
    "editable": false,
    "nbgrader": {
     "cell_type": "markdown",
     "checksum": "9b453fa3ed89cba13dd10856796338a8",
     "grade": false,
     "grade_id": "cell-72d4ae1c19d90038",
     "locked": true,
     "schema_version": 3,
     "solution": false,
     "task": false
    }
   },
   "source": [
    "#### Step 1.2: Examine Column Names and Data Types\n",
    "Inspect the column names and data types using `df.info()`.\n",
    "Code is provided for you."
   ]
  },
  {
   "cell_type": "code",
   "execution_count": 3,
   "id": "65f615d8",
   "metadata": {
    "deletable": false,
    "editable": false,
    "nbgrader": {
     "cell_type": "code",
     "checksum": "b469df8de700b418d77b1a5eb23edb47",
     "grade": false,
     "grade_id": "cell-119afc916474ea32",
     "locked": true,
     "schema_version": 3,
     "solution": false,
     "task": false
    }
   },
   "outputs": [
    {
     "name": "stdout",
     "output_type": "stream",
     "text": [
      "<class 'pandas.core.frame.DataFrame'>\n",
      "RangeIndex: 4140 entries, 0 to 4139\n",
      "Data columns (total 13 columns):\n",
      " #   Column         Non-Null Count  Dtype  \n",
      "---  ------         --------------  -----  \n",
      " 0   price          4140 non-null   float64\n",
      " 1   bedrooms       4140 non-null   float64\n",
      " 2   bathrooms      4140 non-null   float64\n",
      " 3   sqft_living    4140 non-null   int64  \n",
      " 4   sqft_lot       4140 non-null   int64  \n",
      " 5   floors         4140 non-null   float64\n",
      " 6   waterfront     4140 non-null   int64  \n",
      " 7   view           4140 non-null   int64  \n",
      " 8   condition      3595 non-null   float64\n",
      " 9   sqft_above     4140 non-null   int64  \n",
      " 10  sqft_basement  4140 non-null   int64  \n",
      " 11  yr_built       4140 non-null   int64  \n",
      " 12  yr_renovated   4140 non-null   int64  \n",
      "dtypes: float64(5), int64(8)\n",
      "memory usage: 420.6 KB\n"
     ]
    }
   ],
   "source": [
    "# Provided for you - no changes necessary.\n",
    "# Display column names and data types\n",
    "df.info()"
   ]
  },
  {
   "cell_type": "markdown",
   "id": "a4f852e3-3426-425c-b388-eafa4fc9e893",
   "metadata": {
    "deletable": false,
    "editable": false,
    "nbgrader": {
     "cell_type": "markdown",
     "checksum": "f29ea02412a56eacd085fb80bcc8c773",
     "grade": false,
     "grade_id": "cell-7c9fa37126334d3c",
     "locked": true,
     "schema_version": 3,
     "solution": false,
     "task": false
    }
   },
   "source": [
    "#### Step 1.3: Get Summary Statistics\n",
    "Get summary statistics of numerical columns using `df.describe()` and `df.dtypes`.\n",
    "Code is provided for you."
   ]
  },
  {
   "cell_type": "code",
   "execution_count": 4,
   "id": "88507c80-fe3d-4fa0-b07f-2dfd62013982",
   "metadata": {
    "deletable": false,
    "editable": false,
    "nbgrader": {
     "cell_type": "code",
     "checksum": "42107711bb4daef1a49035226db431c0",
     "grade": false,
     "grade_id": "cell-0f35e9a71aee0e33",
     "locked": true,
     "schema_version": 3,
     "solution": false,
     "task": false
    }
   },
   "outputs": [
    {
     "data": {
      "text/html": [
       "<div>\n",
       "<style scoped>\n",
       "    .dataframe tbody tr th:only-of-type {\n",
       "        vertical-align: middle;\n",
       "    }\n",
       "\n",
       "    .dataframe tbody tr th {\n",
       "        vertical-align: top;\n",
       "    }\n",
       "\n",
       "    .dataframe thead th {\n",
       "        text-align: right;\n",
       "    }\n",
       "</style>\n",
       "<table border=\"1\" class=\"dataframe\">\n",
       "  <thead>\n",
       "    <tr style=\"text-align: right;\">\n",
       "      <th></th>\n",
       "      <th>price</th>\n",
       "      <th>bedrooms</th>\n",
       "      <th>bathrooms</th>\n",
       "      <th>sqft_living</th>\n",
       "      <th>sqft_lot</th>\n",
       "      <th>floors</th>\n",
       "      <th>waterfront</th>\n",
       "      <th>view</th>\n",
       "      <th>condition</th>\n",
       "      <th>sqft_above</th>\n",
       "      <th>sqft_basement</th>\n",
       "      <th>yr_built</th>\n",
       "      <th>yr_renovated</th>\n",
       "    </tr>\n",
       "  </thead>\n",
       "  <tbody>\n",
       "    <tr>\n",
       "      <th>count</th>\n",
       "      <td>4.140000e+03</td>\n",
       "      <td>4140.000000</td>\n",
       "      <td>4140.000000</td>\n",
       "      <td>4140.000000</td>\n",
       "      <td>4.140000e+03</td>\n",
       "      <td>4140.000000</td>\n",
       "      <td>4140.000000</td>\n",
       "      <td>4140.000000</td>\n",
       "      <td>3595.000000</td>\n",
       "      <td>4140.000000</td>\n",
       "      <td>4140.000000</td>\n",
       "      <td>4140.000000</td>\n",
       "      <td>4140.000000</td>\n",
       "    </tr>\n",
       "    <tr>\n",
       "      <th>mean</th>\n",
       "      <td>5.530629e+05</td>\n",
       "      <td>3.400483</td>\n",
       "      <td>2.163043</td>\n",
       "      <td>2143.638889</td>\n",
       "      <td>1.469764e+04</td>\n",
       "      <td>1.514130</td>\n",
       "      <td>0.007488</td>\n",
       "      <td>0.246618</td>\n",
       "      <td>3.521001</td>\n",
       "      <td>1831.351449</td>\n",
       "      <td>312.287440</td>\n",
       "      <td>1970.814010</td>\n",
       "      <td>808.368357</td>\n",
       "    </tr>\n",
       "    <tr>\n",
       "      <th>std</th>\n",
       "      <td>5.836865e+05</td>\n",
       "      <td>0.903939</td>\n",
       "      <td>0.784733</td>\n",
       "      <td>957.481621</td>\n",
       "      <td>3.587684e+04</td>\n",
       "      <td>0.534941</td>\n",
       "      <td>0.086219</td>\n",
       "      <td>0.790619</td>\n",
       "      <td>0.703193</td>\n",
       "      <td>861.382947</td>\n",
       "      <td>464.349222</td>\n",
       "      <td>29.807941</td>\n",
       "      <td>979.380535</td>\n",
       "    </tr>\n",
       "    <tr>\n",
       "      <th>min</th>\n",
       "      <td>0.000000e+00</td>\n",
       "      <td>0.000000</td>\n",
       "      <td>0.000000</td>\n",
       "      <td>370.000000</td>\n",
       "      <td>6.380000e+02</td>\n",
       "      <td>1.000000</td>\n",
       "      <td>0.000000</td>\n",
       "      <td>0.000000</td>\n",
       "      <td>1.000000</td>\n",
       "      <td>370.000000</td>\n",
       "      <td>0.000000</td>\n",
       "      <td>1900.000000</td>\n",
       "      <td>0.000000</td>\n",
       "    </tr>\n",
       "    <tr>\n",
       "      <th>25%</th>\n",
       "      <td>3.200000e+05</td>\n",
       "      <td>3.000000</td>\n",
       "      <td>1.750000</td>\n",
       "      <td>1470.000000</td>\n",
       "      <td>5.000000e+03</td>\n",
       "      <td>1.000000</td>\n",
       "      <td>0.000000</td>\n",
       "      <td>0.000000</td>\n",
       "      <td>3.000000</td>\n",
       "      <td>1190.000000</td>\n",
       "      <td>0.000000</td>\n",
       "      <td>1951.000000</td>\n",
       "      <td>0.000000</td>\n",
       "    </tr>\n",
       "    <tr>\n",
       "      <th>50%</th>\n",
       "      <td>4.600000e+05</td>\n",
       "      <td>3.000000</td>\n",
       "      <td>2.250000</td>\n",
       "      <td>1980.000000</td>\n",
       "      <td>7.676000e+03</td>\n",
       "      <td>1.500000</td>\n",
       "      <td>0.000000</td>\n",
       "      <td>0.000000</td>\n",
       "      <td>3.000000</td>\n",
       "      <td>1600.000000</td>\n",
       "      <td>0.000000</td>\n",
       "      <td>1976.000000</td>\n",
       "      <td>0.000000</td>\n",
       "    </tr>\n",
       "    <tr>\n",
       "      <th>75%</th>\n",
       "      <td>6.591250e+05</td>\n",
       "      <td>4.000000</td>\n",
       "      <td>2.500000</td>\n",
       "      <td>2620.000000</td>\n",
       "      <td>1.100000e+04</td>\n",
       "      <td>2.000000</td>\n",
       "      <td>0.000000</td>\n",
       "      <td>0.000000</td>\n",
       "      <td>4.000000</td>\n",
       "      <td>2310.000000</td>\n",
       "      <td>602.500000</td>\n",
       "      <td>1997.000000</td>\n",
       "      <td>1999.000000</td>\n",
       "    </tr>\n",
       "    <tr>\n",
       "      <th>max</th>\n",
       "      <td>2.659000e+07</td>\n",
       "      <td>8.000000</td>\n",
       "      <td>6.750000</td>\n",
       "      <td>10040.000000</td>\n",
       "      <td>1.074218e+06</td>\n",
       "      <td>3.500000</td>\n",
       "      <td>1.000000</td>\n",
       "      <td>4.000000</td>\n",
       "      <td>5.000000</td>\n",
       "      <td>8020.000000</td>\n",
       "      <td>4820.000000</td>\n",
       "      <td>2014.000000</td>\n",
       "      <td>2014.000000</td>\n",
       "    </tr>\n",
       "  </tbody>\n",
       "</table>\n",
       "</div>"
      ],
      "text/plain": [
       "              price     bedrooms    bathrooms   sqft_living      sqft_lot  \\\n",
       "count  4.140000e+03  4140.000000  4140.000000   4140.000000  4.140000e+03   \n",
       "mean   5.530629e+05     3.400483     2.163043   2143.638889  1.469764e+04   \n",
       "std    5.836865e+05     0.903939     0.784733    957.481621  3.587684e+04   \n",
       "min    0.000000e+00     0.000000     0.000000    370.000000  6.380000e+02   \n",
       "25%    3.200000e+05     3.000000     1.750000   1470.000000  5.000000e+03   \n",
       "50%    4.600000e+05     3.000000     2.250000   1980.000000  7.676000e+03   \n",
       "75%    6.591250e+05     4.000000     2.500000   2620.000000  1.100000e+04   \n",
       "max    2.659000e+07     8.000000     6.750000  10040.000000  1.074218e+06   \n",
       "\n",
       "            floors   waterfront         view    condition   sqft_above  \\\n",
       "count  4140.000000  4140.000000  4140.000000  3595.000000  4140.000000   \n",
       "mean      1.514130     0.007488     0.246618     3.521001  1831.351449   \n",
       "std       0.534941     0.086219     0.790619     0.703193   861.382947   \n",
       "min       1.000000     0.000000     0.000000     1.000000   370.000000   \n",
       "25%       1.000000     0.000000     0.000000     3.000000  1190.000000   \n",
       "50%       1.500000     0.000000     0.000000     3.000000  1600.000000   \n",
       "75%       2.000000     0.000000     0.000000     4.000000  2310.000000   \n",
       "max       3.500000     1.000000     4.000000     5.000000  8020.000000   \n",
       "\n",
       "       sqft_basement     yr_built  yr_renovated  \n",
       "count    4140.000000  4140.000000   4140.000000  \n",
       "mean      312.287440  1970.814010    808.368357  \n",
       "std       464.349222    29.807941    979.380535  \n",
       "min         0.000000  1900.000000      0.000000  \n",
       "25%         0.000000  1951.000000      0.000000  \n",
       "50%         0.000000  1976.000000      0.000000  \n",
       "75%       602.500000  1997.000000   1999.000000  \n",
       "max      4820.000000  2014.000000   2014.000000  "
      ]
     },
     "execution_count": 4,
     "metadata": {},
     "output_type": "execute_result"
    }
   ],
   "source": [
    "# Provided for you - no changes necessary.\n",
    "# Summary statistics of numerical columns\n",
    "df.describe()"
   ]
  },
  {
   "cell_type": "code",
   "execution_count": 5,
   "id": "9a5d5c29-31a8-4f54-9a12-63c55a131439",
   "metadata": {
    "deletable": false,
    "editable": false,
    "nbgrader": {
     "cell_type": "code",
     "checksum": "9d767aa7d34df389bfef606291174997",
     "grade": false,
     "grade_id": "cell-e6e30dc645e003e0",
     "locked": true,
     "schema_version": 3,
     "solution": false,
     "task": false
    }
   },
   "outputs": [
    {
     "data": {
      "text/plain": [
       "price            float64\n",
       "bedrooms         float64\n",
       "bathrooms        float64\n",
       "sqft_living        int64\n",
       "sqft_lot           int64\n",
       "floors           float64\n",
       "waterfront         int64\n",
       "view               int64\n",
       "condition        float64\n",
       "sqft_above         int64\n",
       "sqft_basement      int64\n",
       "yr_built           int64\n",
       "yr_renovated       int64\n",
       "dtype: object"
      ]
     },
     "execution_count": 5,
     "metadata": {},
     "output_type": "execute_result"
    }
   ],
   "source": [
    "# Provided for you - no changes necessary.\n",
    "# Observe data types of df\n",
    "df.dtypes"
   ]
  },
  {
   "cell_type": "markdown",
   "id": "c9549031-d6f3-412e-8652-016fa45373ec",
   "metadata": {
    "deletable": false,
    "editable": false,
    "nbgrader": {
     "cell_type": "markdown",
     "checksum": "774fb48072732802d476cc21a69563ff",
     "grade": false,
     "grade_id": "cell-0dabc871eaf85822",
     "locked": true,
     "schema_version": 3,
     "solution": false,
     "task": false
    }
   },
   "source": [
    "### 2. Data Preprocessing\n",
    "#### Step 2.1: Handle Missing Values\n",
    "Identify and handle any missing values. Below, the code to show how many fields are missing values are provided. Notice the `condition` field has a large number of missing values. For this activity, fill the missing values with the median to retain as much data as possible without introducing bias.\n",
    "\n",
    "This step will not be graded, but is important to clean the data.\n",
    "\n",
    "Replace the `# Your code here` in the line of code below with the code to calculate the median of the condition field.\n",
    "\n",
    "`df['condition'] = df['condition'].fillna(# Your code here)`\n",
    "\n",
    "\n",
    "If done correctly, the first row of the dataset should now have a value for the condition column instead of the NaN value found in step 1."
   ]
  },
  {
   "cell_type": "code",
   "execution_count": 8,
   "id": "5943c083",
   "metadata": {},
   "outputs": [],
   "source": [
    "# Show where and how many missing values are in data set\n",
    "# Code provided\n",
    "df.isnull().sum()\n",
    "\n",
    "# Calculate the median of the 'condition' field and fill missing values in “condition” with it\n",
    "df['condition'] = df['condition'].fillna(df['condition'].median())\n",
    "    \n",
    "# Display the DataFrame head (after filling in code in the above line)\n",
    "#df.head()"
   ]
  },
  {
   "cell_type": "markdown",
   "id": "269ece86-2119-4025-8b27-cdca2e8ab034",
   "metadata": {
    "deletable": false,
    "editable": false,
    "nbgrader": {
     "cell_type": "markdown",
     "checksum": "47e15d008429a15875eb6eeb58dac134",
     "grade": false,
     "grade_id": "cell-c79661df26d7e279",
     "locked": true,
     "schema_version": 3,
     "solution": false,
     "task": false
    }
   },
   "source": [
    "#### Step 2.2: Select Relevant Features\n",
    "You will be analyzing the data to pull out the desired features and target variable. Select the features (`'sqft_living'`, `'bedrooms'`, `'bathrooms'`, `'floors'`) and the target variable (`'price'`).\n",
    "\n",
    "Be sure to use the listed variable names. The expected shapes are listed at the end of the cell for reference."
   ]
  },
  {
   "cell_type": "code",
   "execution_count": 10,
   "id": "4f1cf729",
   "metadata": {},
   "outputs": [
    {
     "name": "stdout",
     "output_type": "stream",
     "text": [
      "Shape of X: (4140, 4)\n",
      "Expected X should be displayed as (4140, 4).\n",
      "Shape of y: (4140,)\n",
      "Expected y should be displayed as (4140,).\n"
     ]
    }
   ],
   "source": [
    "# Select relevant features and target variable\n",
    "\n",
    "X = df[['bedrooms', 'bathrooms', 'sqft_living', 'floors']]\n",
    "y = df['price']\n",
    "\n",
    "# Check shape of features and target (provided)\n",
    "print(f'Shape of X: {X.shape}')\n",
    "print(\"Expected X should be displayed as (4140, 4).\")\n",
    "\n",
    "print(f'Shape of y: {y.shape}')\n",
    "print(\"Expected y should be displayed as (4140,).\")\n"
   ]
  },
  {
   "cell_type": "code",
   "execution_count": null,
   "id": "69c5dff2",
   "metadata": {
    "deletable": false,
    "editable": false,
    "nbgrader": {
     "cell_type": "code",
     "checksum": "bcf4d87359af48fe6191c68b53c1d1fc",
     "grade": true,
     "grade_id": "cell-9b2b11b8cb1c6957",
     "locked": true,
     "points": 2,
     "schema_version": 3,
     "solution": false,
     "task": false
    }
   },
   "outputs": [],
   "source": [
    "# Checking Your Results"
   ]
  },
  {
   "cell_type": "markdown",
   "id": "a3d0c733-1983-430d-8cf7-de599c8371c2",
   "metadata": {
    "deletable": false,
    "editable": false,
    "nbgrader": {
     "cell_type": "markdown",
     "checksum": "2bd8bd3aeb52eaab953708b4b99f6026",
     "grade": false,
     "grade_id": "cell-88cde1a198e1fa06",
     "locked": true,
     "schema_version": 3,
     "solution": false,
     "task": false
    }
   },
   "source": [
    "#### Step 2.3: Split the Data\n",
    "Split the data into training and testing sets (80% train, 20% test) using `train_test_split` from Scikit-Learn.\n",
    "\n",
    "Make sure to set the `random_state` parameter to 42 to ensure reproducibility and obtain the same results as the expected solution. You will use the variables `X_train`, `X_test`, `y_train`, and `y_test`. The code to verify the shape has been provided at the end of the cell."
   ]
  },
  {
   "cell_type": "code",
   "execution_count": 11,
   "id": "99eb7bcf",
   "metadata": {},
   "outputs": [
    {
     "name": "stdout",
     "output_type": "stream",
     "text": [
      "Shape of X_train: (2898, 4)\n",
      "Expected X_train should be displayed as (3312, 4)\n",
      "Shape of X_test: (1242, 4)\n",
      "Expected X_test should be displayed as (828, 4)\n"
     ]
    }
   ],
   "source": [
    "from sklearn.model_selection import train_test_split\n",
    "\n",
    "# Split the data\n",
    "#X_train, X_test, y_train, y_test = # Your code here\n",
    "\n",
    "X_train, X_test, y_train, y_test = train_test_split(X, y, test_size=0.2, random_state=42)\n",
    "\n",
    "# Check shape of splits\n",
    "print(f'Shape of X_train: {X_train.shape}')\n",
    "print(\"Expected X_train should be displayed as (3312, 4)\")\n",
    "\n",
    "print(f'Shape of X_test: {X_test.shape}')\n",
    "print(\"Expected X_test should be displayed as (828, 4)\")"
   ]
  },
  {
   "cell_type": "code",
   "execution_count": 12,
   "id": "cc5d208a-1c71-498c-9e1d-dfbe2642374b",
   "metadata": {
    "deletable": false,
    "editable": false,
    "nbgrader": {
     "cell_type": "code",
     "checksum": "cea2e270cbee22024f3166551ebc450d",
     "grade": true,
     "grade_id": "cell-7c96e8d9c62c8a8b",
     "locked": true,
     "points": 4,
     "schema_version": 3,
     "solution": false,
     "task": false
    }
   },
   "outputs": [],
   "source": [
    "# Checking Your Results"
   ]
  },
  {
   "cell_type": "markdown",
   "id": "37eb5f4c-4510-4772-b16f-955b43980ea5",
   "metadata": {
    "deletable": false,
    "editable": false,
    "nbgrader": {
     "cell_type": "markdown",
     "checksum": "67601077c421d19c0af96726025e17ce",
     "grade": false,
     "grade_id": "cell-093ccb404596dbef",
     "locked": true,
     "schema_version": 3,
     "solution": false,
     "task": false
    }
   },
   "source": [
    "### 3. Build and Train a Linear Regression Model\n",
    "#### Step 3.1: Import LinearRegression and fit the model to training data\n",
    "Import `LinearRegression` from `sklearn.linear_model` and create an instance of the `LinearRegression` model. You will fit the model to the training data. Code has been provided. This step will just provide an output of a LinearRegression object. It will be evaluated in step 4."
   ]
  },
  {
   "cell_type": "code",
   "execution_count": 13,
   "id": "ce2e0477-1fa7-4fcb-9e61-6c7d5eeb1261",
   "metadata": {
    "deletable": false,
    "editable": false,
    "nbgrader": {
     "cell_type": "code",
     "checksum": "52b0d56353c6fb871454b623c746f367",
     "grade": false,
     "grade_id": "cell-7fe967b24c835c63",
     "locked": true,
     "schema_version": 3,
     "solution": false,
     "task": false
    }
   },
   "outputs": [
    {
     "data": {
      "text/html": [
       "<style>#sk-container-id-1 {color: black;background-color: white;}#sk-container-id-1 pre{padding: 0;}#sk-container-id-1 div.sk-toggleable {background-color: white;}#sk-container-id-1 label.sk-toggleable__label {cursor: pointer;display: block;width: 100%;margin-bottom: 0;padding: 0.3em;box-sizing: border-box;text-align: center;}#sk-container-id-1 label.sk-toggleable__label-arrow:before {content: \"▸\";float: left;margin-right: 0.25em;color: #696969;}#sk-container-id-1 label.sk-toggleable__label-arrow:hover:before {color: black;}#sk-container-id-1 div.sk-estimator:hover label.sk-toggleable__label-arrow:before {color: black;}#sk-container-id-1 div.sk-toggleable__content {max-height: 0;max-width: 0;overflow: hidden;text-align: left;background-color: #f0f8ff;}#sk-container-id-1 div.sk-toggleable__content pre {margin: 0.2em;color: black;border-radius: 0.25em;background-color: #f0f8ff;}#sk-container-id-1 input.sk-toggleable__control:checked~div.sk-toggleable__content {max-height: 200px;max-width: 100%;overflow: auto;}#sk-container-id-1 input.sk-toggleable__control:checked~label.sk-toggleable__label-arrow:before {content: \"▾\";}#sk-container-id-1 div.sk-estimator input.sk-toggleable__control:checked~label.sk-toggleable__label {background-color: #d4ebff;}#sk-container-id-1 div.sk-label input.sk-toggleable__control:checked~label.sk-toggleable__label {background-color: #d4ebff;}#sk-container-id-1 input.sk-hidden--visually {border: 0;clip: rect(1px 1px 1px 1px);clip: rect(1px, 1px, 1px, 1px);height: 1px;margin: -1px;overflow: hidden;padding: 0;position: absolute;width: 1px;}#sk-container-id-1 div.sk-estimator {font-family: monospace;background-color: #f0f8ff;border: 1px dotted black;border-radius: 0.25em;box-sizing: border-box;margin-bottom: 0.5em;}#sk-container-id-1 div.sk-estimator:hover {background-color: #d4ebff;}#sk-container-id-1 div.sk-parallel-item::after {content: \"\";width: 100%;border-bottom: 1px solid gray;flex-grow: 1;}#sk-container-id-1 div.sk-label:hover label.sk-toggleable__label {background-color: #d4ebff;}#sk-container-id-1 div.sk-serial::before {content: \"\";position: absolute;border-left: 1px solid gray;box-sizing: border-box;top: 0;bottom: 0;left: 50%;z-index: 0;}#sk-container-id-1 div.sk-serial {display: flex;flex-direction: column;align-items: center;background-color: white;padding-right: 0.2em;padding-left: 0.2em;position: relative;}#sk-container-id-1 div.sk-item {position: relative;z-index: 1;}#sk-container-id-1 div.sk-parallel {display: flex;align-items: stretch;justify-content: center;background-color: white;position: relative;}#sk-container-id-1 div.sk-item::before, #sk-container-id-1 div.sk-parallel-item::before {content: \"\";position: absolute;border-left: 1px solid gray;box-sizing: border-box;top: 0;bottom: 0;left: 50%;z-index: -1;}#sk-container-id-1 div.sk-parallel-item {display: flex;flex-direction: column;z-index: 1;position: relative;background-color: white;}#sk-container-id-1 div.sk-parallel-item:first-child::after {align-self: flex-end;width: 50%;}#sk-container-id-1 div.sk-parallel-item:last-child::after {align-self: flex-start;width: 50%;}#sk-container-id-1 div.sk-parallel-item:only-child::after {width: 0;}#sk-container-id-1 div.sk-dashed-wrapped {border: 1px dashed gray;margin: 0 0.4em 0.5em 0.4em;box-sizing: border-box;padding-bottom: 0.4em;background-color: white;}#sk-container-id-1 div.sk-label label {font-family: monospace;font-weight: bold;display: inline-block;line-height: 1.2em;}#sk-container-id-1 div.sk-label-container {text-align: center;}#sk-container-id-1 div.sk-container {/* jupyter's `normalize.less` sets `[hidden] { display: none; }` but bootstrap.min.css set `[hidden] { display: none !important; }` so we also need the `!important` here to be able to override the default hidden behavior on the sphinx rendered scikit-learn.org. See: https://github.com/scikit-learn/scikit-learn/issues/21755 */display: inline-block !important;position: relative;}#sk-container-id-1 div.sk-text-repr-fallback {display: none;}</style><div id=\"sk-container-id-1\" class=\"sk-top-container\"><div class=\"sk-text-repr-fallback\"><pre>LinearRegression()</pre><b>In a Jupyter environment, please rerun this cell to show the HTML representation or trust the notebook. <br />On GitHub, the HTML representation is unable to render, please try loading this page with nbviewer.org.</b></div><div class=\"sk-container\" hidden><div class=\"sk-item\"><div class=\"sk-estimator sk-toggleable\"><input class=\"sk-toggleable__control sk-hidden--visually\" id=\"sk-estimator-id-1\" type=\"checkbox\" checked><label for=\"sk-estimator-id-1\" class=\"sk-toggleable__label sk-toggleable__label-arrow\">LinearRegression</label><div class=\"sk-toggleable__content\"><pre>LinearRegression()</pre></div></div></div></div></div>"
      ],
      "text/plain": [
       "LinearRegression()"
      ]
     },
     "execution_count": 13,
     "metadata": {},
     "output_type": "execute_result"
    }
   ],
   "source": [
    "# No changes required to this cell\n",
    "from sklearn.linear_model import LinearRegression\n",
    "\n",
    "# Create an instance of the LinearRegression model\n",
    "model = LinearRegression()\n",
    "\n",
    "# Fit the model\n",
    "model.fit(X_train, y_train)\n",
    "\n",
    "# There will be no output except a LinearRegression object from this step."
   ]
  },
  {
   "cell_type": "markdown",
   "id": "fd4420dc-d1aa-43cb-aa63-bf0e6e306005",
   "metadata": {
    "deletable": false,
    "editable": false,
    "nbgrader": {
     "cell_type": "markdown",
     "checksum": "8d137d3d95679b10d314bd9e87156afe",
     "grade": false,
     "grade_id": "cell-73370a9489c1636f",
     "locked": true,
     "schema_version": 3,
     "solution": false,
     "task": false
    }
   },
   "source": [
    "### 4. Make Predictions and Evaluate the Model\n",
    "#### Step 4.1: Make Predictions\n",
    "Use the trained model to make predictions on the testing data (provided).\n",
    "\n",
    "You will then calculate the Mean Squared Error (MSE) as `mse`, R-squared value as `r_squared`, and Mean Absolute Error as `mae` to evaluate the model's performance, then check your results by printing them in the following cell. "
   ]
  },
  {
   "cell_type": "code",
   "execution_count": 14,
   "id": "f3ddbdec",
   "metadata": {},
   "outputs": [
    {
     "name": "stdout",
     "output_type": "stream",
     "text": [
      "Your Mean Squared Error (MSE): 82364777163.90239\n",
      "Expected MSE should be around 74224655277.46896\n",
      "Your R-squared: 0.4318576412319648\n",
      "Expected R-squared should be around 0.2919889333519581\n",
      "Your Mean Absolute Error (MAE): 177838.82978891145\n",
      "Expected MAE should be around 181509.94407826668\n"
     ]
    }
   ],
   "source": [
    "from sklearn.metrics import mean_squared_error, r2_score, mean_absolute_error\n",
    "\n",
    "y_pred = model.predict(X_test)\n",
    "\n",
    "#accuracy = round(accuracy_score(y_test, y_pred), 3)\n",
    "#precision = round(precision_score(y_test, y_pred), 3)\n",
    "#recall = round(recall_score(y_test, y_pred), 3)\n",
    "#f1 = round(f1_score(y_test, y_pred), 3)\n",
    "\n",
    "# Calculate the Mean Squared Error (MSE)\n",
    "mse = mean_squared_error(y_test, y_pred)\n",
    "\n",
    "# Calculate the R-squared value\n",
    "r_squared = r2_score(y_test, y_pred)\n",
    "\n",
    "# Calculate the Mean Absolute Error (MAE)\n",
    "mae = mean_absolute_error(y_test, y_pred)\n",
    "\n",
    "# Test values (provided for you)\n",
    "print(f\"Your Mean Squared Error (MSE): {mse}\")\n",
    "print(\"Expected MSE should be around 74224655277.46896\")\n",
    "\n",
    "print(f\"Your R-squared: {r_squared}\")\n",
    "print(\"Expected R-squared should be around 0.2919889333519581\")\n",
    "\n",
    "print(f\"Your Mean Absolute Error (MAE): {mae}\")\n",
    "print(\"Expected MAE should be around 181509.94407826668\")"
   ]
  },
  {
   "cell_type": "code",
   "execution_count": null,
   "id": "b555427f",
   "metadata": {
    "deletable": false,
    "editable": false,
    "nbgrader": {
     "cell_type": "code",
     "checksum": "cd7d6667de6de4920a801f02e123bc23",
     "grade": true,
     "grade_id": "cell-e2db0a2c4d3275e8",
     "locked": true,
     "points": 3,
     "schema_version": 3,
     "solution": false,
     "task": false
    }
   },
   "outputs": [],
   "source": [
    "# Checking Your Results (MSE)"
   ]
  },
  {
   "cell_type": "code",
   "execution_count": null,
   "id": "51ca2f79",
   "metadata": {
    "deletable": false,
    "editable": false,
    "nbgrader": {
     "cell_type": "code",
     "checksum": "2f1264263c8f9e9eb8455f832e3e9d65",
     "grade": true,
     "grade_id": "cell-e5330f2b326f6ae2",
     "locked": true,
     "points": 3,
     "schema_version": 3,
     "solution": false,
     "task": false
    }
   },
   "outputs": [],
   "source": [
    "# Checking Your Results (R-squared)"
   ]
  },
  {
   "cell_type": "code",
   "execution_count": null,
   "id": "fd075a76",
   "metadata": {
    "deletable": false,
    "editable": false,
    "nbgrader": {
     "cell_type": "code",
     "checksum": "e48395bfc84138f877bd6ceb04c37f76",
     "grade": true,
     "grade_id": "cell-e008c67bba1822a5",
     "locked": true,
     "points": 3,
     "schema_version": 3,
     "solution": false,
     "task": false
    }
   },
   "outputs": [],
   "source": [
    "# Checking Your Results (MAE)"
   ]
  },
  {
   "cell_type": "markdown",
   "id": "bc32e302-4c75-432e-8103-2ec9f53b2379",
   "metadata": {
    "deletable": false,
    "editable": false,
    "nbgrader": {
     "cell_type": "markdown",
     "checksum": "5ccadf27e3f26e7684eda59f94bf4c09",
     "grade": false,
     "grade_id": "cell-bf78703e5929194e",
     "locked": true,
     "schema_version": 3,
     "solution": false,
     "task": false
    }
   },
   "source": [
    "#### Step 4.2: Check residual stats\n",
    "In linear regression, residuals are the differences between actual values. They matter because they indicate how well the model fits the data—smaller residuals suggest better predictions. Add the code below to calculate the residuals."
   ]
  },
  {
   "cell_type": "code",
   "execution_count": 15,
   "id": "e4c812a2-5f42-47b2-8fa3-55e63dad47aa",
   "metadata": {},
   "outputs": [
    {
     "name": "stdout",
     "output_type": "stream",
     "text": [
      "Residual mean: -18617.632271494072\n",
      "Expected residual mean should be around -10095.795891582062.\n",
      "Residual std deviation: 286503.49266978237\n",
      "Expected residual standard deviation should be around 272419.4534816532.\n"
     ]
    }
   ],
   "source": [
    "# Check residual stats -- y test values minus y predicted values\n",
    "residuals = residuals = y_test - y_pred \n",
    "\n",
    "print(f'Residual mean: {residuals.mean()}')\n",
    "print(\"Expected residual mean should be around -10095.795891582062.\")\n",
    "\n",
    "print(f'Residual std deviation: {residuals.std()}')\n",
    "print(\"Expected residual standard deviation should be around 272419.4534816532.\")"
   ]
  },
  {
   "cell_type": "code",
   "execution_count": null,
   "id": "67913070",
   "metadata": {
    "deletable": false,
    "editable": false,
    "nbgrader": {
     "cell_type": "code",
     "checksum": "3fc16ef5cafbcc1cd3236a28cb26be55",
     "grade": true,
     "grade_id": "cell-b687a067b87a6cc2",
     "locked": true,
     "points": 4,
     "schema_version": 3,
     "solution": false,
     "task": false
    }
   },
   "outputs": [],
   "source": [
    "# Checking Your Results"
   ]
  },
  {
   "cell_type": "markdown",
   "id": "fc15fd8c-2b45-4ffa-8175-41040325a26e",
   "metadata": {
    "deletable": false,
    "editable": false,
    "nbgrader": {
     "cell_type": "markdown",
     "checksum": "fdfa6bf5bdb103a7b9c850c61f22b599",
     "grade": false,
     "grade_id": "cell-2703c4f8eb725676",
     "locked": true,
     "schema_version": 3,
     "solution": false,
     "task": false
    }
   },
   "source": [
    "## Submit your assignment, or explore further\n",
    "You can submit your assignment now to receive a grade from the system. There is some optional material below demonstrating two other regression algorithms that are not graded."
   ]
  },
  {
   "cell_type": "markdown",
   "id": "d8275643-c009-4ef3-b6c0-c2791068ffc5",
   "metadata": {
    "deletable": false,
    "editable": false,
    "nbgrader": {
     "cell_type": "markdown",
     "checksum": "3739c17aaaf5df6256ba757676dacbd3",
     "grade": false,
     "grade_id": "cell-be9af89de7da88b9",
     "locked": true,
     "schema_version": 3,
     "solution": false,
     "task": false
    }
   },
   "source": [
    "### 5. Bonus Material (Optional)\n",
    "#### Step 5.1: Experiment with a Different Regression Algorithm\n",
    "Examine the results with different regression algorithms (e.g., `DecisionTreeRegressor` or `RandomForestRegressor`) and compare its performance to the Linear Regression model using the same evaluation metrics.\n",
    "\n",
    "The `random_state` variable is set to 42 to ensure reproducability and ensure the same results are obtained as the previous part of the assignment."
   ]
  },
  {
   "cell_type": "code",
   "execution_count": null,
   "id": "947800fb",
   "metadata": {},
   "outputs": [],
   "source": [
    "# Ungraded; available for your exploration\n",
    "from sklearn.tree import DecisionTreeRegressor\n",
    "\n",
    "tree = DecisionTreeRegressor(random_state=42)\n",
    "tree.fit(X_train, y_train)\n",
    "tree_pred = tree.predict(X_test)\n",
    "\n",
    "tree_mse = mean_squared_error(y_test, tree_pred)\n",
    "tree_r2 = r2_score(y_test, tree_pred)\n",
    "tree_mae = mean_absolute_error(y_test, tree_pred)\n",
    "\n",
    "print(f\"DecisionTreeRegressor MSE: {tree_mse}\")\n",
    "print(f\"DecisionTreeRegressor R-squared: {tree_r2}\")\n",
    "print(f\"DecisionTreeRegressor MAE: {tree_mae}\")"
   ]
  },
  {
   "cell_type": "code",
   "execution_count": null,
   "id": "2c822bc2",
   "metadata": {},
   "outputs": [],
   "source": [
    "# Ungraded; available for your exploration\n",
    "from sklearn.ensemble import RandomForestRegressor\n",
    "\n",
    "forest = RandomForestRegressor(random_state=42)\n",
    "forest.fit(X_train, y_train)\n",
    "forest_pred = forest.predict(X_test)\n",
    "\n",
    "forest_mse = mean_squared_error(y_test, forest_pred)\n",
    "forest_r2 = r2_score(y_test, forest_pred)\n",
    "forest_mae = mean_absolute_error(y_test, forest_pred)\n",
    "\n",
    "print(f\"RandomForestRegressor MSE: {forest_mse}\")\n",
    "print(f\"RandomForestRegressor R-squared: {forest_r2}\")\n",
    "print(f\"RandomForestRegressor MAE: {forest_mae}\")"
   ]
  },
  {
   "cell_type": "markdown",
   "id": "626d5ebc-4dbb-4e4e-9148-a1720584afff",
   "metadata": {
    "deletable": false,
    "editable": false,
    "nbgrader": {
     "cell_type": "markdown",
     "checksum": "39dcc61923cad4e25e90f18c93589106",
     "grade": false,
     "grade_id": "cell-1944a08645eb0718",
     "locked": true,
     "schema_version": 3,
     "solution": false,
     "task": false
    }
   },
   "source": [
    "## This completes this assignment. Be sure to submit your assignment for a grade."
   ]
  }
 ],
 "metadata": {
  "kernelspec": {
   "display_name": "Python 3 (ipykernel)",
   "language": "python",
   "name": "python3"
  },
  "language_info": {
   "codemirror_mode": {
    "name": "ipython",
    "version": 3
   },
   "file_extension": ".py",
   "mimetype": "text/x-python",
   "name": "python",
   "nbconvert_exporter": "python",
   "pygments_lexer": "ipython3",
   "version": "3.9.6"
  }
 },
 "nbformat": 4,
 "nbformat_minor": 5
}
