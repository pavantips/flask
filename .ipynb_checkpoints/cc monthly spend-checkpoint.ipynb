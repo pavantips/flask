{
 "cells": [
  {
   "cell_type": "code",
   "execution_count": 1,
   "id": "fe9ef0ee-3ff2-4039-88a3-15e09eb096db",
   "metadata": {},
   "outputs": [
    {
     "name": "stdout",
     "output_type": "stream",
     "text": [
      "hello world\n"
     ]
    }
   ],
   "source": [
    "print (\"hello world\")"
   ]
  },
  {
   "cell_type": "code",
   "execution_count": 2,
   "id": "a8b5dbe9-6bd9-49ab-a5c9-e0d3d97167dc",
   "metadata": {},
   "outputs": [
    {
     "name": "stdout",
     "output_type": "stream",
     "text": [
      "success\n"
     ]
    }
   ],
   "source": [
    "print (\"success\")"
   ]
  },
  {
   "cell_type": "code",
   "execution_count": 3,
   "id": "6e8bebdc-3f96-4c75-a042-73e91dc787c3",
   "metadata": {},
   "outputs": [
    {
     "name": "stdout",
     "output_type": "stream",
     "text": [
      "4\n"
     ]
    }
   ],
   "source": [
    "print (2+2)"
   ]
  },
  {
   "cell_type": "code",
   "execution_count": 4,
   "id": "e025340b-77ed-44ab-b3f4-d2ead1d81258",
   "metadata": {},
   "outputs": [
    {
     "name": "stdout",
     "output_type": "stream",
     "text": [
      "100\n"
     ]
    }
   ],
   "source": [
    "print (10*10)"
   ]
  },
  {
   "cell_type": "code",
   "execution_count": 4,
   "id": "37854133-e0a6-4d0c-88f9-cc14c0029c65",
   "metadata": {},
   "outputs": [
    {
     "name": "stdout",
     "output_type": "stream",
     "text": [
      "All packages imported successfully!\n"
     ]
    }
   ],
   "source": [
    "import numpy as np\n",
    "import pandas as pd\n",
    "import matplotlib.pyplot as plt\n",
    "print(\"All packages imported successfully!\")"
   ]
  },
  {
   "cell_type": "code",
   "execution_count": 4,
   "id": "1586f7a2-3d05-4a5a-be9c-0f1c3e7b2a25",
   "metadata": {},
   "outputs": [
    {
     "name": "stdout",
     "output_type": "stream",
     "text": [
      "am here\n"
     ]
    }
   ],
   "source": [
    "print (\"am here\")"
   ]
  },
  {
   "cell_type": "code",
   "execution_count": 5,
   "id": "8c92e365-52c0-4c87-98c3-af056f821a3c",
   "metadata": {},
   "outputs": [],
   "source": [
    "import numpy as np"
   ]
  },
  {
   "cell_type": "code",
   "execution_count": 6,
   "id": "b3a5b3c2-d360-4696-982e-d724a412bb25",
   "metadata": {},
   "outputs": [
    {
     "name": "stdout",
     "output_type": "stream",
     "text": [
      "The average of the numbers is: 3.8\n"
     ]
    }
   ],
   "source": [
    "# Create an array of numbers\n",
    "numbers = np.array([1, 5, 3, 8, 2])\n",
    "\n",
    "# Calculate the average\n",
    "average = np.mean(numbers)\n",
    "\n",
    "# Display the result\n",
    "print(\"The average of the numbers is:\", average)"
   ]
  },
  {
   "cell_type": "code",
   "execution_count": 10,
   "id": "2b27dd18-dbb0-498b-9c82-bc5d26aa2527",
   "metadata": {},
   "outputs": [
    {
     "name": "stdout",
     "output_type": "stream",
     "text": [
      "    Planet  Diameter (km)  Number of Moons\n",
      "0  Mercury           4879                0\n",
      "1    Venus          12104                0\n",
      "2    Earth          12756                1\n",
      "3     Mars           6792                2\n",
      "4  Jupiter         142984               79\n",
      "<class 'pandas.core.frame.DataFrame'>\n",
      "RangeIndex: 8 entries, 0 to 7\n",
      "Data columns (total 3 columns):\n",
      " #   Column           Non-Null Count  Dtype \n",
      "---  ------           --------------  ----- \n",
      " 0   Planet           8 non-null      object\n",
      " 1   Diameter (km)    8 non-null      int64 \n",
      " 2   Number of Moons  8 non-null      int64 \n",
      "dtypes: int64(2), object(1)\n",
      "memory usage: 320.0+ bytes\n",
      "None\n"
     ]
    }
   ],
   "source": [
    "import pandas as pd\n",
    "\n",
    "# Read the CSV file into a DataFrame\n",
    "planets_df = pd.read_csv(\"planets_with_moons_all.csv\")\n",
    "\n",
    "# Display the first 5 rows\n",
    "print(planets_df.head())\n",
    "\n",
    "# Print information about the DataFrame\n",
    "print(planets_df.info())"
   ]
  },
  {
   "cell_type": "code",
   "execution_count": 7,
   "id": "431ffe7b-f848-4224-8ada-68f9fd24c1d3",
   "metadata": {},
   "outputs": [
    {
     "name": "stdout",
     "output_type": "stream",
     "text": [
      "Defaulting to user installation because normal site-packages is not writeable\n",
      "Collecting openpyxl\n",
      "  Downloading openpyxl-3.1.5-py2.py3-none-any.whl (250 kB)\n",
      "\u001b[K     |████████████████████████████████| 250 kB 3.8 MB/s eta 0:00:01\n",
      "\u001b[?25hCollecting et-xmlfile\n",
      "  Downloading et_xmlfile-2.0.0-py3-none-any.whl (18 kB)\n",
      "Installing collected packages: et-xmlfile, openpyxl\n",
      "Successfully installed et-xmlfile-2.0.0 openpyxl-3.1.5\n",
      "\u001b[33mWARNING: You are using pip version 21.2.4; however, version 25.2 is available.\n",
      "You should consider upgrading via the '/Library/Developer/CommandLineTools/usr/bin/python3 -m pip install --upgrade pip' command.\u001b[0m\n",
      "Note: you may need to restart the kernel to use updated packages.\n"
     ]
    }
   ],
   "source": [
    "pip install openpyxl"
   ]
  },
  {
   "cell_type": "code",
   "execution_count": 7,
   "id": "d890d95f-5b77-4d08-866c-d3b7be67d956",
   "metadata": {},
   "outputs": [
    {
     "name": "stdout",
     "output_type": "stream",
     "text": [
      "<class 'pandas.core.frame.DataFrame'>\n",
      "RangeIndex: 411 entries, 0 to 410\n",
      "Data columns (total 13 columns):\n",
      " #   Column                        Non-Null Count  Dtype  \n",
      "---  ------                        --------------  -----  \n",
      " 0   Date                          411 non-null    object \n",
      " 1   Description                   411 non-null    object \n",
      " 2   Card Member                   411 non-null    object \n",
      " 3   Account #                     411 non-null    int64  \n",
      " 4   Amount                        411 non-null    float64\n",
      " 5   Extended Details              411 non-null    object \n",
      " 6   Appears On Your Statement As  411 non-null    object \n",
      " 7   Address                       390 non-null    object \n",
      " 8   City/State                    390 non-null    object \n",
      " 9   Zip Code                      390 non-null    object \n",
      " 10  Country                       390 non-null    object \n",
      " 11  Reference                     411 non-null    int64  \n",
      " 12  Category                      403 non-null    object \n",
      "dtypes: float64(1), int64(2), object(10)\n",
      "memory usage: 41.9+ KB\n",
      "None\n"
     ]
    }
   ],
   "source": [
    "import pandas as pd\n",
    "\n",
    "# Read the CSV file into a DataFrame\n",
    "transactions = pd.read_excel(\"amex.xlsx\")\n",
    "\n",
    "# Display the first 5 rows\n",
    "print(transactions.info())\n"
   ]
  },
  {
   "cell_type": "code",
   "execution_count": 9,
   "id": "1e54e5de-9c99-40d8-895e-aa57b281fb66",
   "metadata": {},
   "outputs": [
    {
     "data": {
      "text/html": [
       "<div>\n",
       "<style scoped>\n",
       "    .dataframe tbody tr th:only-of-type {\n",
       "        vertical-align: middle;\n",
       "    }\n",
       "\n",
       "    .dataframe tbody tr th {\n",
       "        vertical-align: top;\n",
       "    }\n",
       "\n",
       "    .dataframe thead th {\n",
       "        text-align: right;\n",
       "    }\n",
       "</style>\n",
       "<table border=\"1\" class=\"dataframe\">\n",
       "  <thead>\n",
       "    <tr style=\"text-align: right;\">\n",
       "      <th></th>\n",
       "      <th>Date</th>\n",
       "      <th>Description</th>\n",
       "      <th>Card Member</th>\n",
       "      <th>Account #</th>\n",
       "      <th>Amount</th>\n",
       "      <th>Extended Details</th>\n",
       "      <th>Appears On Your Statement As</th>\n",
       "      <th>Address</th>\n",
       "      <th>City/State</th>\n",
       "      <th>Zip Code</th>\n",
       "      <th>Country</th>\n",
       "      <th>Reference</th>\n",
       "      <th>Category</th>\n",
       "    </tr>\n",
       "  </thead>\n",
       "  <tbody>\n",
       "    <tr>\n",
       "      <th>35</th>\n",
       "      <td>08/30/2025</td>\n",
       "      <td>WAL-MART SUPERCENTERELK GROVE VILLAGE   IL</td>\n",
       "      <td>PAVAN TIPPARAJU</td>\n",
       "      <td>-1003</td>\n",
       "      <td>158.11</td>\n",
       "      <td>52422213314 DISCOUNT STORE\\nWAL-MART SUPERCENT...</td>\n",
       "      <td>WAL-MART SUPERCENTERELK GROVE VILLAGE   IL</td>\n",
       "      <td>801 MEACHAM RD</td>\n",
       "      <td>ELK GROVE VILLAGE\\nIL</td>\n",
       "      <td>60007</td>\n",
       "      <td>UNITED STATES</td>\n",
       "      <td>320252420453141697</td>\n",
       "      <td>Merchandise &amp; Supplies-Wholesale Stores</td>\n",
       "    </tr>\n",
       "    <tr>\n",
       "      <th>42</th>\n",
       "      <td>08/26/2025</td>\n",
       "      <td>Amazon Prime        Amazon.com          WA</td>\n",
       "      <td>PAVAN TIPPARAJU</td>\n",
       "      <td>-1003</td>\n",
       "      <td>139.00</td>\n",
       "      <td>69CMWA0EL5F SUBSCRIPTION\\nAmazon Prime\\nAmazon...</td>\n",
       "      <td>Amazon Prime        Amazon.com          WA</td>\n",
       "      <td>440 TERRY AVE NORTH</td>\n",
       "      <td>SEATTLE\\nWA</td>\n",
       "      <td>98109</td>\n",
       "      <td>UNITED STATES</td>\n",
       "      <td>320252380334399730</td>\n",
       "      <td>Merchandise &amp; Supplies-Mail Order</td>\n",
       "    </tr>\n",
       "    <tr>\n",
       "      <th>48</th>\n",
       "      <td>08/24/2025</td>\n",
       "      <td>PRIMARK WOODFIELD MASCHAUMBURG          IL</td>\n",
       "      <td>PAVAN TIPPARAJU</td>\n",
       "      <td>-1003</td>\n",
       "      <td>132.55</td>\n",
       "      <td>069685211   347-937-1947\\nPRIMARK WOODFIELD MA...</td>\n",
       "      <td>PRIMARK WOODFIELD MASCHAUMBURG          IL</td>\n",
       "      <td>WOODFIELD MALL\\n2 WOODFIELD MALL</td>\n",
       "      <td>SCHAUMBURG\\nIL</td>\n",
       "      <td>60173</td>\n",
       "      <td>UNITED STATES</td>\n",
       "      <td>320252370320321011</td>\n",
       "      <td>Merchandise &amp; Supplies-Clothing Stores</td>\n",
       "    </tr>\n",
       "    <tr>\n",
       "      <th>69</th>\n",
       "      <td>08/16/2025</td>\n",
       "      <td>AplPay DICK'S SPORTICORAOPOLIS          PA</td>\n",
       "      <td>PAVAN TIPPARAJU</td>\n",
       "      <td>-1003</td>\n",
       "      <td>150.49</td>\n",
       "      <td>20250816002 SPORTING GOODS STORE\\nAplPay DICK'...</td>\n",
       "      <td>AplPay DICK'S SPORTICORAOPOLIS          PA</td>\n",
       "      <td>328 WEST ARMY TRL RD</td>\n",
       "      <td>BLOOMINGDALE\\nIL</td>\n",
       "      <td>60108</td>\n",
       "      <td>UNITED STATES</td>\n",
       "      <td>320252280062061294</td>\n",
       "      <td>Merchandise &amp; Supplies-Sporting Goods Stores</td>\n",
       "    </tr>\n",
       "    <tr>\n",
       "      <th>73</th>\n",
       "      <td>08/16/2025</td>\n",
       "      <td>TST* VANAM 300727179SCHAUMBURG          IL</td>\n",
       "      <td>PAVAN TIPPARAJU</td>\n",
       "      <td>-1003</td>\n",
       "      <td>141.00</td>\n",
       "      <td>99999995228 8152019007\\nTST* VANAM 300727179\\n...</td>\n",
       "      <td>TST* VANAM 300727179SCHAUMBURG          IL</td>\n",
       "      <td>337 WEST GOLF RD</td>\n",
       "      <td>SCHAUMBURG\\nIL</td>\n",
       "      <td>60195-3607</td>\n",
       "      <td>UNITED STATES</td>\n",
       "      <td>320252280064268935</td>\n",
       "      <td>Restaurant-Restaurant</td>\n",
       "    </tr>\n",
       "    <tr>\n",
       "      <th>77</th>\n",
       "      <td>08/12/2025</td>\n",
       "      <td>TST* GLOBAL BREW TAPSCHAUMBURG          IL</td>\n",
       "      <td>PAVAN TIPPARAJU</td>\n",
       "      <td>-1003</td>\n",
       "      <td>108.29</td>\n",
       "      <td>99999995224 2245208686\\nTST* GLOBAL BREW TAP H...</td>\n",
       "      <td>TST* GLOBAL BREW TAPSCHAUMBURG          IL</td>\n",
       "      <td>339 WEST GOLF RD</td>\n",
       "      <td>SCHAUMBURG\\nIL</td>\n",
       "      <td>60195-3607</td>\n",
       "      <td>UNITED STATES</td>\n",
       "      <td>320252240953402633</td>\n",
       "      <td>Restaurant-Restaurant</td>\n",
       "    </tr>\n",
       "    <tr>\n",
       "      <th>131</th>\n",
       "      <td>07/18/2025</td>\n",
       "      <td>AplPay SHRI SHIRDI SRolling Meadows     IL</td>\n",
       "      <td>PAVAN TIPPARAJU</td>\n",
       "      <td>-1003</td>\n",
       "      <td>251.00</td>\n",
       "      <td>xeDajJhmuTV squareup.com/receipts\\nAplPay SHRI...</td>\n",
       "      <td>AplPay SHRI SHIRDI SRolling Meadows     IL</td>\n",
       "      <td>5999 NEW WILKE RD\\nBUILDING 3</td>\n",
       "      <td>ROLLING MEADOWS\\nIL</td>\n",
       "      <td>60008</td>\n",
       "      <td>UNITED STATES</td>\n",
       "      <td>320251990264746196</td>\n",
       "      <td>Business Services-Other Services</td>\n",
       "    </tr>\n",
       "    <tr>\n",
       "      <th>179</th>\n",
       "      <td>06/20/2025</td>\n",
       "      <td>A+VEH REG RENEW SV#0SCHAUMBURG          IL</td>\n",
       "      <td>PAVAN TIPPARAJU</td>\n",
       "      <td>-1003</td>\n",
       "      <td>160.50</td>\n",
       "      <td>21105175172 AUTO SERVICE\\nA+VEH REG RENEW SV#0...</td>\n",
       "      <td>A+VEH REG RENEW SV#0SCHAUMBURG          IL</td>\n",
       "      <td>1675 MITCHELL BLVD</td>\n",
       "      <td>SCHAUMBURG\\nIL</td>\n",
       "      <td>60193</td>\n",
       "      <td>UNITED STATES</td>\n",
       "      <td>320251720513264767</td>\n",
       "      <td>Transportation-Auto Services</td>\n",
       "    </tr>\n",
       "    <tr>\n",
       "      <th>181</th>\n",
       "      <td>06/20/2025</td>\n",
       "      <td>FSP*GO APE BEMIS WOOFREDERICK           MD</td>\n",
       "      <td>PAVAN TIPPARAJU</td>\n",
       "      <td>-1003</td>\n",
       "      <td>294.00</td>\n",
       "      <td>99999995172 8009718271\\nFSP*GO APE BEMIS WOODS...</td>\n",
       "      <td>FSP*GO APE BEMIS WOOFREDERICK           MD</td>\n",
       "      <td>241 EAST 4TH ST\\nSTE 105 SUITE 105</td>\n",
       "      <td>FREDERICK\\nMD</td>\n",
       "      <td>21701-3601</td>\n",
       "      <td>UNITED STATES</td>\n",
       "      <td>320251720500654778</td>\n",
       "      <td>Travel-Travel Agencies</td>\n",
       "    </tr>\n",
       "    <tr>\n",
       "      <th>184</th>\n",
       "      <td>06/19/2025</td>\n",
       "      <td>WOODFIELD NISSAN INCHOFFMAN ESTAT       IL</td>\n",
       "      <td>PAVAN TIPPARAJU</td>\n",
       "      <td>-1003</td>\n",
       "      <td>116.10</td>\n",
       "      <td>32069415171 AUTO DEALER (NEW/USED\\nWOODFIELD N...</td>\n",
       "      <td>WOODFIELD NISSAN INCHOFFMAN ESTAT       IL</td>\n",
       "      <td>700 WEST HIGGINS RD</td>\n",
       "      <td>HOFFMAN ESTATES\\nIL</td>\n",
       "      <td>60169</td>\n",
       "      <td>UNITED STATES</td>\n",
       "      <td>320251710461263799</td>\n",
       "      <td>Transportation-Vehicle Leasing &amp; Purchase</td>\n",
       "    </tr>\n",
       "    <tr>\n",
       "      <th>206</th>\n",
       "      <td>06/06/2025</td>\n",
       "      <td>BEST BUY            SCHAUMBURG          IL</td>\n",
       "      <td>PAVAN TIPPARAJU</td>\n",
       "      <td>-1003</td>\n",
       "      <td>185.90</td>\n",
       "      <td>006405358   888BESTBUY\\nBEST BUY\\nSCHAUMBURG\\n...</td>\n",
       "      <td>BEST BUY            SCHAUMBURG          IL</td>\n",
       "      <td>900 EAST GOLF RD BLDG\\nJ</td>\n",
       "      <td>SCHAUMBURG\\nIL</td>\n",
       "      <td>60173</td>\n",
       "      <td>UNITED STATES</td>\n",
       "      <td>320251580118686134</td>\n",
       "      <td>Merchandise &amp; Supplies-Electronics Stores</td>\n",
       "    </tr>\n",
       "    <tr>\n",
       "      <th>214</th>\n",
       "      <td>06/03/2025</td>\n",
       "      <td>OLD NAVY US 5733    SCHAUMBURG          IL</td>\n",
       "      <td>PAVAN TIPPARAJU</td>\n",
       "      <td>-1003</td>\n",
       "      <td>120.69</td>\n",
       "      <td>057334011650573340116540001 60173\\nOLD NAVY US...</td>\n",
       "      <td>OLD NAVY US 5733    SCHAUMBURG          IL</td>\n",
       "      <td>1498 GOLF RD</td>\n",
       "      <td>SCHAUMBURG\\nIL</td>\n",
       "      <td>60173</td>\n",
       "      <td>UNITED STATES</td>\n",
       "      <td>320251550035515333</td>\n",
       "      <td>Merchandise &amp; Supplies-Clothing Stores</td>\n",
       "    </tr>\n",
       "    <tr>\n",
       "      <th>226</th>\n",
       "      <td>05/27/2025</td>\n",
       "      <td>PY *TABLA MODERN INDSCHAUMBURG          IL</td>\n",
       "      <td>PAVAN TIPPARAJU</td>\n",
       "      <td>-1003</td>\n",
       "      <td>246.34</td>\n",
       "      <td>99999995148 2247660982\\nPY *TABLA MODERN INDIA...</td>\n",
       "      <td>PY *TABLA MODERN INDSCHAUMBURG          IL</td>\n",
       "      <td>1091 NORTH SALEM DR</td>\n",
       "      <td>SCHAUMBURG\\nIL</td>\n",
       "      <td>60194-1331</td>\n",
       "      <td>UNITED STATES</td>\n",
       "      <td>320251480829042971</td>\n",
       "      <td>Restaurant-Restaurant</td>\n",
       "    </tr>\n",
       "    <tr>\n",
       "      <th>263</th>\n",
       "      <td>05/10/2025</td>\n",
       "      <td>SHRI SHIRDI SAI MANDRolling Meadows     IL</td>\n",
       "      <td>PAVAN TIPPARAJU</td>\n",
       "      <td>-1003</td>\n",
       "      <td>150.00</td>\n",
       "      <td>BqRGUM0gwuB squareup.com/receipts\\nSHRI SHIRDI...</td>\n",
       "      <td>SHRI SHIRDI SAI MANDRolling Meadows     IL</td>\n",
       "      <td>5999 NEW WILKE RD\\nBUILDING 3</td>\n",
       "      <td>ROLLING MEADOWS\\nIL</td>\n",
       "      <td>60008</td>\n",
       "      <td>UNITED STATES</td>\n",
       "      <td>320251300337923372</td>\n",
       "      <td>Business Services-Other Services</td>\n",
       "    </tr>\n",
       "    <tr>\n",
       "      <th>303</th>\n",
       "      <td>04/19/2025</td>\n",
       "      <td>SCHAUMBURG PARK DISTSCHAUMBURG          IL</td>\n",
       "      <td>PAVAN TIPPARAJU</td>\n",
       "      <td>-1003</td>\n",
       "      <td>288.00</td>\n",
       "      <td>xiTfbkc4603 8479852115\\nSCHAUMBURG PARK DISTRI...</td>\n",
       "      <td>SCHAUMBURG PARK DISTSCHAUMBURG          IL</td>\n",
       "      <td>10182 TELESIS CT\\nSTE 100</td>\n",
       "      <td>SAN DIEGO\\nCA</td>\n",
       "      <td>92121-4777</td>\n",
       "      <td>UNITED STATES</td>\n",
       "      <td>320251100780395113</td>\n",
       "      <td>Other-Miscellaneous</td>\n",
       "    </tr>\n",
       "    <tr>\n",
       "      <th>324</th>\n",
       "      <td>04/11/2025</td>\n",
       "      <td>PATEL BROTHERS OF SCSCHAUMBURG          IL</td>\n",
       "      <td>PAVAN TIPPARAJU</td>\n",
       "      <td>-1003</td>\n",
       "      <td>152.26</td>\n",
       "      <td>00010001005 8476754455\\nPATEL BROTHERS OF SCHA...</td>\n",
       "      <td>PATEL BROTHERS OF SCSCHAUMBURG          IL</td>\n",
       "      <td>830 WEST GOLF RD</td>\n",
       "      <td>SCHAUMBURG\\nIL</td>\n",
       "      <td>60194</td>\n",
       "      <td>UNITED STATES</td>\n",
       "      <td>320251020563073144</td>\n",
       "      <td>Merchandise &amp; Supplies-Groceries</td>\n",
       "    </tr>\n",
       "    <tr>\n",
       "      <th>363</th>\n",
       "      <td>03/21/2025</td>\n",
       "      <td>BEST BUY            SCHAUMBURG          IL</td>\n",
       "      <td>PAVAN TIPPARAJU</td>\n",
       "      <td>-1003</td>\n",
       "      <td>177.09</td>\n",
       "      <td>007002284   888BESTBUY\\nBEST BUY\\nSCHAUMBURG\\n...</td>\n",
       "      <td>BEST BUY            SCHAUMBURG          IL</td>\n",
       "      <td>900 EAST GOLF RD BLDG\\nJ</td>\n",
       "      <td>SCHAUMBURG\\nIL</td>\n",
       "      <td>60173</td>\n",
       "      <td>UNITED STATES</td>\n",
       "      <td>320250800969124534</td>\n",
       "      <td>Merchandise &amp; Supplies-Electronics Stores</td>\n",
       "    </tr>\n",
       "    <tr>\n",
       "      <th>371</th>\n",
       "      <td>03/16/2025</td>\n",
       "      <td>TST* GOLCONDA 001218NAPERVILLE          IL</td>\n",
       "      <td>PAVAN TIPPARAJU</td>\n",
       "      <td>-1003</td>\n",
       "      <td>108.85</td>\n",
       "      <td>21105175076 RESTAURANT\\nTST* GOLCONDA 00121828...</td>\n",
       "      <td>TST* GOLCONDA 001218NAPERVILLE          IL</td>\n",
       "      <td>1568 WEST OGDEN AVE</td>\n",
       "      <td>NAPERVILLE\\nIL</td>\n",
       "      <td>60540</td>\n",
       "      <td>UNITED STATES</td>\n",
       "      <td>320250760869401196</td>\n",
       "      <td>Restaurant-Restaurant</td>\n",
       "    </tr>\n",
       "    <tr>\n",
       "      <th>375</th>\n",
       "      <td>03/11/2025</td>\n",
       "      <td>AMAZON MARKEPLACE NA PA</td>\n",
       "      <td>PAVAN TIPPARAJU</td>\n",
       "      <td>-1003</td>\n",
       "      <td>174.89</td>\n",
       "      <td>55HH21E6E0M MERCHANDISE\\nAMAZON MARKETPLACE NA...</td>\n",
       "      <td>AMAZON MARKETPLACE NAMZN.COM/BILL       WA</td>\n",
       "      <td>410 TERRY AVE N</td>\n",
       "      <td>SEATTLE\\nWA</td>\n",
       "      <td>98109</td>\n",
       "      <td>UNITED STATES</td>\n",
       "      <td>320250700712551937</td>\n",
       "      <td>Merchandise &amp; Supplies-Internet Purchase</td>\n",
       "    </tr>\n",
       "    <tr>\n",
       "      <th>376</th>\n",
       "      <td>03/09/2025</td>\n",
       "      <td>AVEDA EXPERIENCE CENNEW YORK            NY</td>\n",
       "      <td>PAVAN TIPPARAJU</td>\n",
       "      <td>-1003</td>\n",
       "      <td>126.60</td>\n",
       "      <td>00121809002 COSMETIC STORE\\nAVEDA EXPERIENCE C...</td>\n",
       "      <td>AVEDA EXPERIENCE CENNEW YORK            NY</td>\n",
       "      <td>1325 EAST WOODFIELD RD</td>\n",
       "      <td>SCHAUMBURG\\nIL</td>\n",
       "      <td>60173-4931</td>\n",
       "      <td>UNITED STATES</td>\n",
       "      <td>320250680653126857</td>\n",
       "      <td>Merchandise &amp; Supplies-Department Stores</td>\n",
       "    </tr>\n",
       "    <tr>\n",
       "      <th>393</th>\n",
       "      <td>02/17/2025</td>\n",
       "      <td>WAL-MART SUPERCENTERELK GROVE VILLAGE   IL</td>\n",
       "      <td>PAVAN TIPPARAJU</td>\n",
       "      <td>-1003</td>\n",
       "      <td>106.86</td>\n",
       "      <td>50490019676 DISCOUNT STORE\\nWAL-MART SUPERCENT...</td>\n",
       "      <td>WAL-MART SUPERCENTERELK GROVE VILLAGE   IL</td>\n",
       "      <td>801 MEACHAM RD</td>\n",
       "      <td>ELK GROVE VILLAGE\\nIL</td>\n",
       "      <td>60007</td>\n",
       "      <td>UNITED STATES</td>\n",
       "      <td>320250480128895852</td>\n",
       "      <td>Merchandise &amp; Supplies-Wholesale Stores</td>\n",
       "    </tr>\n",
       "    <tr>\n",
       "      <th>394</th>\n",
       "      <td>02/15/2025</td>\n",
       "      <td>CORT FURNITURE RENTACHANTILLY           VA</td>\n",
       "      <td>PAVAN TIPPARAJU</td>\n",
       "      <td>-1003</td>\n",
       "      <td>161.99</td>\n",
       "      <td>04634455987 888-360-2678\\nCORT FURNITURE RENTA...</td>\n",
       "      <td>CORT FURNITURE RENTACHANTILLY           VA</td>\n",
       "      <td>SUITE 110\\n14850 CONFERENCECENTER DR</td>\n",
       "      <td>CHANTILLY\\nVA</td>\n",
       "      <td>20151</td>\n",
       "      <td>UNITED STATES</td>\n",
       "      <td>320250470111295312</td>\n",
       "      <td>Merchandise &amp; Supplies-Furnishing</td>\n",
       "    </tr>\n",
       "    <tr>\n",
       "      <th>396</th>\n",
       "      <td>02/15/2025</td>\n",
       "      <td>SCHAUMBURG PARK DISTSCHAUMBURG          IL</td>\n",
       "      <td>PAVAN TIPPARAJU</td>\n",
       "      <td>-1003</td>\n",
       "      <td>379.00</td>\n",
       "      <td>xYuMwaGG778 8479852115\\nSCHAUMBURG PARK DISTRI...</td>\n",
       "      <td>SCHAUMBURG PARK DISTSCHAUMBURG          IL</td>\n",
       "      <td>10182 TELESIS CT\\nSTE 100</td>\n",
       "      <td>SAN DIEGO\\nCA</td>\n",
       "      <td>92121-4777</td>\n",
       "      <td>UNITED STATES</td>\n",
       "      <td>320250470099027500</td>\n",
       "      <td>Other-Miscellaneous</td>\n",
       "    </tr>\n",
       "  </tbody>\n",
       "</table>\n",
       "</div>"
      ],
      "text/plain": [
       "           Date                                 Description      Card Member  \\\n",
       "35   08/30/2025  WAL-MART SUPERCENTERELK GROVE VILLAGE   IL  PAVAN TIPPARAJU   \n",
       "42   08/26/2025  Amazon Prime        Amazon.com          WA  PAVAN TIPPARAJU   \n",
       "48   08/24/2025  PRIMARK WOODFIELD MASCHAUMBURG          IL  PAVAN TIPPARAJU   \n",
       "69   08/16/2025  AplPay DICK'S SPORTICORAOPOLIS          PA  PAVAN TIPPARAJU   \n",
       "73   08/16/2025  TST* VANAM 300727179SCHAUMBURG          IL  PAVAN TIPPARAJU   \n",
       "77   08/12/2025  TST* GLOBAL BREW TAPSCHAUMBURG          IL  PAVAN TIPPARAJU   \n",
       "131  07/18/2025  AplPay SHRI SHIRDI SRolling Meadows     IL  PAVAN TIPPARAJU   \n",
       "179  06/20/2025  A+VEH REG RENEW SV#0SCHAUMBURG          IL  PAVAN TIPPARAJU   \n",
       "181  06/20/2025  FSP*GO APE BEMIS WOOFREDERICK           MD  PAVAN TIPPARAJU   \n",
       "184  06/19/2025  WOODFIELD NISSAN INCHOFFMAN ESTAT       IL  PAVAN TIPPARAJU   \n",
       "206  06/06/2025  BEST BUY            SCHAUMBURG          IL  PAVAN TIPPARAJU   \n",
       "214  06/03/2025  OLD NAVY US 5733    SCHAUMBURG          IL  PAVAN TIPPARAJU   \n",
       "226  05/27/2025  PY *TABLA MODERN INDSCHAUMBURG          IL  PAVAN TIPPARAJU   \n",
       "263  05/10/2025  SHRI SHIRDI SAI MANDRolling Meadows     IL  PAVAN TIPPARAJU   \n",
       "303  04/19/2025  SCHAUMBURG PARK DISTSCHAUMBURG          IL  PAVAN TIPPARAJU   \n",
       "324  04/11/2025  PATEL BROTHERS OF SCSCHAUMBURG          IL  PAVAN TIPPARAJU   \n",
       "363  03/21/2025  BEST BUY            SCHAUMBURG          IL  PAVAN TIPPARAJU   \n",
       "371  03/16/2025  TST* GOLCONDA 001218NAPERVILLE          IL  PAVAN TIPPARAJU   \n",
       "375  03/11/2025                     AMAZON MARKEPLACE NA PA  PAVAN TIPPARAJU   \n",
       "376  03/09/2025  AVEDA EXPERIENCE CENNEW YORK            NY  PAVAN TIPPARAJU   \n",
       "393  02/17/2025  WAL-MART SUPERCENTERELK GROVE VILLAGE   IL  PAVAN TIPPARAJU   \n",
       "394  02/15/2025  CORT FURNITURE RENTACHANTILLY           VA  PAVAN TIPPARAJU   \n",
       "396  02/15/2025  SCHAUMBURG PARK DISTSCHAUMBURG          IL  PAVAN TIPPARAJU   \n",
       "\n",
       "     Account #  Amount                                   Extended Details  \\\n",
       "35       -1003  158.11  52422213314 DISCOUNT STORE\\nWAL-MART SUPERCENT...   \n",
       "42       -1003  139.00  69CMWA0EL5F SUBSCRIPTION\\nAmazon Prime\\nAmazon...   \n",
       "48       -1003  132.55  069685211   347-937-1947\\nPRIMARK WOODFIELD MA...   \n",
       "69       -1003  150.49  20250816002 SPORTING GOODS STORE\\nAplPay DICK'...   \n",
       "73       -1003  141.00  99999995228 8152019007\\nTST* VANAM 300727179\\n...   \n",
       "77       -1003  108.29  99999995224 2245208686\\nTST* GLOBAL BREW TAP H...   \n",
       "131      -1003  251.00  xeDajJhmuTV squareup.com/receipts\\nAplPay SHRI...   \n",
       "179      -1003  160.50  21105175172 AUTO SERVICE\\nA+VEH REG RENEW SV#0...   \n",
       "181      -1003  294.00  99999995172 8009718271\\nFSP*GO APE BEMIS WOODS...   \n",
       "184      -1003  116.10  32069415171 AUTO DEALER (NEW/USED\\nWOODFIELD N...   \n",
       "206      -1003  185.90  006405358   888BESTBUY\\nBEST BUY\\nSCHAUMBURG\\n...   \n",
       "214      -1003  120.69  057334011650573340116540001 60173\\nOLD NAVY US...   \n",
       "226      -1003  246.34  99999995148 2247660982\\nPY *TABLA MODERN INDIA...   \n",
       "263      -1003  150.00  BqRGUM0gwuB squareup.com/receipts\\nSHRI SHIRDI...   \n",
       "303      -1003  288.00  xiTfbkc4603 8479852115\\nSCHAUMBURG PARK DISTRI...   \n",
       "324      -1003  152.26  00010001005 8476754455\\nPATEL BROTHERS OF SCHA...   \n",
       "363      -1003  177.09  007002284   888BESTBUY\\nBEST BUY\\nSCHAUMBURG\\n...   \n",
       "371      -1003  108.85  21105175076 RESTAURANT\\nTST* GOLCONDA 00121828...   \n",
       "375      -1003  174.89  55HH21E6E0M MERCHANDISE\\nAMAZON MARKETPLACE NA...   \n",
       "376      -1003  126.60  00121809002 COSMETIC STORE\\nAVEDA EXPERIENCE C...   \n",
       "393      -1003  106.86  50490019676 DISCOUNT STORE\\nWAL-MART SUPERCENT...   \n",
       "394      -1003  161.99  04634455987 888-360-2678\\nCORT FURNITURE RENTA...   \n",
       "396      -1003  379.00  xYuMwaGG778 8479852115\\nSCHAUMBURG PARK DISTRI...   \n",
       "\n",
       "                   Appears On Your Statement As  \\\n",
       "35   WAL-MART SUPERCENTERELK GROVE VILLAGE   IL   \n",
       "42   Amazon Prime        Amazon.com          WA   \n",
       "48   PRIMARK WOODFIELD MASCHAUMBURG          IL   \n",
       "69   AplPay DICK'S SPORTICORAOPOLIS          PA   \n",
       "73   TST* VANAM 300727179SCHAUMBURG          IL   \n",
       "77   TST* GLOBAL BREW TAPSCHAUMBURG          IL   \n",
       "131  AplPay SHRI SHIRDI SRolling Meadows     IL   \n",
       "179  A+VEH REG RENEW SV#0SCHAUMBURG          IL   \n",
       "181  FSP*GO APE BEMIS WOOFREDERICK           MD   \n",
       "184  WOODFIELD NISSAN INCHOFFMAN ESTAT       IL   \n",
       "206  BEST BUY            SCHAUMBURG          IL   \n",
       "214  OLD NAVY US 5733    SCHAUMBURG          IL   \n",
       "226  PY *TABLA MODERN INDSCHAUMBURG          IL   \n",
       "263  SHRI SHIRDI SAI MANDRolling Meadows     IL   \n",
       "303  SCHAUMBURG PARK DISTSCHAUMBURG          IL   \n",
       "324  PATEL BROTHERS OF SCSCHAUMBURG          IL   \n",
       "363  BEST BUY            SCHAUMBURG          IL   \n",
       "371  TST* GOLCONDA 001218NAPERVILLE          IL   \n",
       "375  AMAZON MARKETPLACE NAMZN.COM/BILL       WA   \n",
       "376  AVEDA EXPERIENCE CENNEW YORK            NY   \n",
       "393  WAL-MART SUPERCENTERELK GROVE VILLAGE   IL   \n",
       "394  CORT FURNITURE RENTACHANTILLY           VA   \n",
       "396  SCHAUMBURG PARK DISTSCHAUMBURG          IL   \n",
       "\n",
       "                                  Address             City/State    Zip Code  \\\n",
       "35                         801 MEACHAM RD  ELK GROVE VILLAGE\\nIL       60007   \n",
       "42                    440 TERRY AVE NORTH            SEATTLE\\nWA       98109   \n",
       "48       WOODFIELD MALL\\n2 WOODFIELD MALL         SCHAUMBURG\\nIL       60173   \n",
       "69                   328 WEST ARMY TRL RD       BLOOMINGDALE\\nIL       60108   \n",
       "73                       337 WEST GOLF RD         SCHAUMBURG\\nIL  60195-3607   \n",
       "77                       339 WEST GOLF RD         SCHAUMBURG\\nIL  60195-3607   \n",
       "131         5999 NEW WILKE RD\\nBUILDING 3    ROLLING MEADOWS\\nIL       60008   \n",
       "179                    1675 MITCHELL BLVD         SCHAUMBURG\\nIL       60193   \n",
       "181    241 EAST 4TH ST\\nSTE 105 SUITE 105          FREDERICK\\nMD  21701-3601   \n",
       "184                   700 WEST HIGGINS RD    HOFFMAN ESTATES\\nIL       60169   \n",
       "206              900 EAST GOLF RD BLDG\\nJ         SCHAUMBURG\\nIL       60173   \n",
       "214                          1498 GOLF RD         SCHAUMBURG\\nIL       60173   \n",
       "226                   1091 NORTH SALEM DR         SCHAUMBURG\\nIL  60194-1331   \n",
       "263         5999 NEW WILKE RD\\nBUILDING 3    ROLLING MEADOWS\\nIL       60008   \n",
       "303             10182 TELESIS CT\\nSTE 100          SAN DIEGO\\nCA  92121-4777   \n",
       "324                      830 WEST GOLF RD         SCHAUMBURG\\nIL       60194   \n",
       "363              900 EAST GOLF RD BLDG\\nJ         SCHAUMBURG\\nIL       60173   \n",
       "371                   1568 WEST OGDEN AVE         NAPERVILLE\\nIL       60540   \n",
       "375                       410 TERRY AVE N            SEATTLE\\nWA       98109   \n",
       "376                1325 EAST WOODFIELD RD         SCHAUMBURG\\nIL  60173-4931   \n",
       "393                        801 MEACHAM RD  ELK GROVE VILLAGE\\nIL       60007   \n",
       "394  SUITE 110\\n14850 CONFERENCECENTER DR          CHANTILLY\\nVA       20151   \n",
       "396             10182 TELESIS CT\\nSTE 100          SAN DIEGO\\nCA  92121-4777   \n",
       "\n",
       "           Country           Reference  \\\n",
       "35   UNITED STATES  320252420453141697   \n",
       "42   UNITED STATES  320252380334399730   \n",
       "48   UNITED STATES  320252370320321011   \n",
       "69   UNITED STATES  320252280062061294   \n",
       "73   UNITED STATES  320252280064268935   \n",
       "77   UNITED STATES  320252240953402633   \n",
       "131  UNITED STATES  320251990264746196   \n",
       "179  UNITED STATES  320251720513264767   \n",
       "181  UNITED STATES  320251720500654778   \n",
       "184  UNITED STATES  320251710461263799   \n",
       "206  UNITED STATES  320251580118686134   \n",
       "214  UNITED STATES  320251550035515333   \n",
       "226  UNITED STATES  320251480829042971   \n",
       "263  UNITED STATES  320251300337923372   \n",
       "303  UNITED STATES  320251100780395113   \n",
       "324  UNITED STATES  320251020563073144   \n",
       "363  UNITED STATES  320250800969124534   \n",
       "371  UNITED STATES  320250760869401196   \n",
       "375  UNITED STATES  320250700712551937   \n",
       "376  UNITED STATES  320250680653126857   \n",
       "393  UNITED STATES  320250480128895852   \n",
       "394  UNITED STATES  320250470111295312   \n",
       "396  UNITED STATES  320250470099027500   \n",
       "\n",
       "                                         Category  \n",
       "35        Merchandise & Supplies-Wholesale Stores  \n",
       "42              Merchandise & Supplies-Mail Order  \n",
       "48         Merchandise & Supplies-Clothing Stores  \n",
       "69   Merchandise & Supplies-Sporting Goods Stores  \n",
       "73                          Restaurant-Restaurant  \n",
       "77                          Restaurant-Restaurant  \n",
       "131              Business Services-Other Services  \n",
       "179                  Transportation-Auto Services  \n",
       "181                        Travel-Travel Agencies  \n",
       "184     Transportation-Vehicle Leasing & Purchase  \n",
       "206     Merchandise & Supplies-Electronics Stores  \n",
       "214        Merchandise & Supplies-Clothing Stores  \n",
       "226                         Restaurant-Restaurant  \n",
       "263              Business Services-Other Services  \n",
       "303                           Other-Miscellaneous  \n",
       "324              Merchandise & Supplies-Groceries  \n",
       "363     Merchandise & Supplies-Electronics Stores  \n",
       "371                         Restaurant-Restaurant  \n",
       "375      Merchandise & Supplies-Internet Purchase  \n",
       "376      Merchandise & Supplies-Department Stores  \n",
       "393       Merchandise & Supplies-Wholesale Stores  \n",
       "394             Merchandise & Supplies-Furnishing  \n",
       "396                           Other-Miscellaneous  "
      ]
     },
     "execution_count": 9,
     "metadata": {},
     "output_type": "execute_result"
    }
   ],
   "source": [
    "transactions[transactions['Amount'] > 100]"
   ]
  },
  {
   "cell_type": "code",
   "execution_count": 13,
   "id": "a5e97b0e-2818-4767-9ebb-392fbaf20dde",
   "metadata": {},
   "outputs": [
    {
     "data": {
      "text/html": [
       "<div>\n",
       "<style scoped>\n",
       "    .dataframe tbody tr th:only-of-type {\n",
       "        vertical-align: middle;\n",
       "    }\n",
       "\n",
       "    .dataframe tbody tr th {\n",
       "        vertical-align: top;\n",
       "    }\n",
       "\n",
       "    .dataframe thead th {\n",
       "        text-align: right;\n",
       "    }\n",
       "</style>\n",
       "<table border=\"1\" class=\"dataframe\">\n",
       "  <thead>\n",
       "    <tr style=\"text-align: right;\">\n",
       "      <th></th>\n",
       "      <th>Date</th>\n",
       "      <th>Description</th>\n",
       "      <th>Card Member</th>\n",
       "      <th>Account #</th>\n",
       "      <th>Amount</th>\n",
       "      <th>Extended Details</th>\n",
       "      <th>Appears On Your Statement As</th>\n",
       "      <th>Address</th>\n",
       "      <th>City/State</th>\n",
       "      <th>Zip Code</th>\n",
       "      <th>Country</th>\n",
       "      <th>Reference</th>\n",
       "      <th>Category</th>\n",
       "    </tr>\n",
       "  </thead>\n",
       "  <tbody>\n",
       "  </tbody>\n",
       "</table>\n",
       "</div>"
      ],
      "text/plain": [
       "Empty DataFrame\n",
       "Columns: [Date, Description, Card Member, Account #, Amount, Extended Details, Appears On Your Statement As, Address, City/State, Zip Code, Country, Reference, Category]\n",
       "Index: []"
      ]
     },
     "execution_count": 13,
     "metadata": {},
     "output_type": "execute_result"
    }
   ],
   "source": [
    "transactions[transactions['Card Member'] == \"Pavan Tipparaju\"]\n"
   ]
  },
  {
   "cell_type": "code",
   "execution_count": 5,
   "id": "3b4e3696-4e81-4a12-833d-808887b22c6f",
   "metadata": {},
   "outputs": [
    {
     "name": "stdout",
     "output_type": "stream",
     "text": [
      "     Amount                 Date\n",
      "0     46.51           09/20/2025\n",
      "1    -10.99           09/20/2025\n",
      "2     61.00           09/20/2025\n",
      "3     23.57           09/18/2025\n",
      "4     15.07           09/18/2025\n",
      "..      ...                  ...\n",
      "631    5.99  2025-01-07 00:00:00\n",
      "632     NaN  2025-01-06 00:00:00\n",
      "633   55.65  2025-01-04 00:00:00\n",
      "634   29.44  2025-01-03 00:00:00\n",
      "635   36.61  2025-01-02 00:00:00\n",
      "\n",
      "[636 rows x 2 columns]\n"
     ]
    }
   ],
   "source": [
    "import pandas as pd\n",
    "\n",
    "transactions = pd.read_excel(\"amex.xlsx\")\n",
    "\n",
    "df = pd.DataFrame(transactions, columns=['Amount', 'Date'])\n",
    "\n",
    "print(df)\n",
    "\n"
   ]
  },
  {
   "cell_type": "code",
   "execution_count": 6,
   "id": "50a9356e-c6aa-48cc-89db-5d6af89ae59e",
   "metadata": {},
   "outputs": [
    {
     "name": "stdout",
     "output_type": "stream",
     "text": [
      "Monthly Spending:\n",
      "January 2025 - $1200.87\n",
      "February 2025 - $2286.01\n",
      "March 2025 - $1860.39\n",
      "April 2025 - $2117.07\n",
      "May 2025 - $1948.73\n",
      "June 2025 - $-1059.03\n",
      "July 2025 - $2555.88\n",
      "August 2025 - $1699.04\n",
      "September 2025 - $-564.97\n"
     ]
    }
   ],
   "source": [
    "transactions['Date'] = pd.to_datetime(transactions['Date'])\n",
    "\n",
    "# Group by month and sum the amounts\n",
    "monthly_spend = transactions.groupby(transactions['Date'].dt.to_period('M'))['Amount'].sum()\n",
    "\n",
    "# Display the results\n",
    "print(\"Monthly Spending:\")\n",
    "for month, amount in monthly_spend.items():\n",
    "    print(f\"{month.strftime('%B %Y')} - ${amount:.2f}\")"
   ]
  },
  {
   "cell_type": "code",
   "execution_count": 8,
   "id": "9c0e494d-f453-4851-864d-03c2b3686686",
   "metadata": {},
   "outputs": [
    {
     "name": "stdout",
     "output_type": "stream",
     "text": [
      "           Date                                 Description      Card Member  \\\n",
      "0    09/20/2025                     AMAZON MARKEPLACE NA PA  PAVAN TIPPARAJU   \n",
      "1    09/20/2025  AMAZON MARKETPLACE PAMZN.COM/BILL       WA  PAVAN TIPPARAJU   \n",
      "3    09/18/2025                     AMAZON MARKEPLACE NA PA  PAVAN TIPPARAJU   \n",
      "4    09/18/2025  AMAZON MARKETPLACE PAMZN.COM/BILL       WA  PAVAN TIPPARAJU   \n",
      "5    09/18/2025       Redeem Cash Back at Amazon.com Credit  PAVAN TIPPARAJU   \n",
      "..          ...                                         ...              ...   \n",
      "404  01/12/2025                     AMAZON MARKEPLACE NA PA  PAVAN TIPPARAJU   \n",
      "405  01/10/2025  AMAZON MARKETPLACE PAMZN.COM/BILL       WA  PAVAN TIPPARAJU   \n",
      "406  01/09/2025                     AMAZON MARKEPLACE NA PA  PAVAN TIPPARAJU   \n",
      "407  01/09/2025                     AMAZON MARKEPLACE NA PA  PAVAN TIPPARAJU   \n",
      "408  01/09/2025       Redeem Cash Back at Amazon.com Credit  PAVAN TIPPARAJU   \n",
      "\n",
      "     Account #  Amount                                   Extended Details  \\\n",
      "0      -1003.0   46.51  3L1O8NYQ9K2 MERCHANDISE\\nAMAZON MARKETPLACE NA...   \n",
      "1      -1003.0  -10.99  1F7Z00ABJL7 AMZN.COM/BILL\\nAMAZON MARKETPLACE ...   \n",
      "3      -1003.0   23.57  6QQMRYUFS5G MERCHANDISE\\nAMAZON MARKETPLACE NA...   \n",
      "4      -1003.0   15.07  QRP8FD2TWB0 AMZN.COM/BILL\\nAMAZON MARKETPLACE ...   \n",
      "5      -1003.0  -15.07            Redeem Cash Back at Amazon.com Credit\\n   \n",
      "..         ...     ...                                                ...   \n",
      "404    -1003.0   36.22  7D1HHFPKSJV MERCHANDISE\\nAMAZON MARKETPLACE NA...   \n",
      "405    -1003.0    3.15  EYWAOC2VYA1 AMZN.COM/BILL\\nAMAZON MARKETPLACE ...   \n",
      "406    -1003.0    9.83  6IXO57XZLTA MERCHANDISE\\nAMAZON MARKETPLACE NA...   \n",
      "407    -1003.0   19.75  15SZS74TOMF MERCHANDISE\\nAMAZON MARKETPLACE NA...   \n",
      "408    -1003.0   -3.15            Redeem Cash Back at Amazon.com Credit\\n   \n",
      "\n",
      "                   Appears On Your Statement As          Address   City/State  \\\n",
      "0    AMAZON MARKETPLACE NAMZN.COM/BILL       WA  410 TERRY AVE N  SEATTLE\\nWA   \n",
      "1    AMAZON MARKETPLACE PAMZN.COM/BILL       WA  440 TERRY AVE N  SEATTLE\\nWA   \n",
      "3    AMAZON MARKETPLACE NAMZN.COM/BILL       WA  410 TERRY AVE N  SEATTLE\\nWA   \n",
      "4    AMAZON MARKETPLACE PAMZN.COM/BILL       WA  440 TERRY AVE N  SEATTLE\\nWA   \n",
      "5         Redeem Cash Back at Amazon.com Credit              NaN          NaN   \n",
      "..                                          ...              ...          ...   \n",
      "404  AMAZON MARKETPLACE NAMZN.COM/BILL       WA  410 TERRY AVE N  SEATTLE\\nWA   \n",
      "405  AMAZON MARKETPLACE PAMZN.COM/BILL       WA  440 TERRY AVE N  SEATTLE\\nWA   \n",
      "406  AMAZON MARKETPLACE NAMZN.COM/BILL       WA  410 TERRY AVE N  SEATTLE\\nWA   \n",
      "407  AMAZON MARKETPLACE NAMZN.COM/BILL       WA  410 TERRY AVE N  SEATTLE\\nWA   \n",
      "408       Redeem Cash Back at Amazon.com Credit              NaN          NaN   \n",
      "\n",
      "    Zip Code        Country     Reference  \\\n",
      "0      98109  UNITED STATES  3.202526e+17   \n",
      "1      98109  UNITED STATES  3.202526e+17   \n",
      "3      98109  UNITED STATES  3.202526e+17   \n",
      "4      98109  UNITED STATES  3.202526e+17   \n",
      "5        NaN            NaN  3.202526e+17   \n",
      "..       ...            ...           ...   \n",
      "404    98109  UNITED STATES  3.202501e+17   \n",
      "405    98109  UNITED STATES  3.202501e+17   \n",
      "406    98109  UNITED STATES  3.202501e+17   \n",
      "407    98109  UNITED STATES  3.202501e+17   \n",
      "408      NaN            NaN  3.202501e+17   \n",
      "\n",
      "                                     Category  \n",
      "0    Merchandise & Supplies-Internet Purchase  \n",
      "1    Merchandise & Supplies-Internet Purchase  \n",
      "3    Merchandise & Supplies-Internet Purchase  \n",
      "4    Merchandise & Supplies-Internet Purchase  \n",
      "5       Fees & Adjustments-Fees & Adjustments  \n",
      "..                                        ...  \n",
      "404  Merchandise & Supplies-Internet Purchase  \n",
      "405  Merchandise & Supplies-Internet Purchase  \n",
      "406  Merchandise & Supplies-Internet Purchase  \n",
      "407  Merchandise & Supplies-Internet Purchase  \n",
      "408     Fees & Adjustments-Fees & Adjustments  \n",
      "\n",
      "[99 rows x 13 columns]\n"
     ]
    }
   ],
   "source": [
    "import pandas as pd\n",
    "transactions = pd.read_excel(\"amex.xlsx\")\n",
    "amazon_transactions = transactions[transactions['Description'].str.contains('Amazon', case=False, na=False)]\n",
    "print(amazon_transactions)"
   ]
  },
  {
   "cell_type": "code",
   "execution_count": 11,
   "id": "e78d1df5-c62c-432a-b015-5b7ff196094d",
   "metadata": {},
   "outputs": [
    {
     "name": "stdout",
     "output_type": "stream",
     "text": [
      "       Account #       Amount     Reference\n",
      "count      411.0   616.000000  4.110000e+02\n",
      "mean     -1003.0    19.551932  3.190127e+17\n",
      "std          0.0   204.880058  1.446588e+16\n",
      "min      -1003.0 -3840.810000  1.504181e+17\n",
      "25%      -1003.0     9.660000  3.202511e+17\n",
      "50%      -1003.0    21.230000  3.202516e+17\n",
      "75%      -1003.0    49.895000  3.202521e+17\n",
      "max      -1003.0   379.000000  3.202526e+17\n"
     ]
    }
   ],
   "source": [
    "# After loading your data\n",
    "\n",
    "import pandas as pd\n",
    "transactions = pd.read_excel(\"amex.xlsx\")\n",
    "\n"
   ]
  },
  {
   "cell_type": "code",
   "execution_count": 13,
   "id": "e5f827fb-36aa-478b-ab42-667feb1d10f1",
   "metadata": {},
   "outputs": [
    {
     "name": "stdout",
     "output_type": "stream",
     "text": [
      "=== GETTING TO KNOW YOUR DATA ===\n",
      "Rows: 636, Columns: 13\n"
     ]
    }
   ],
   "source": [
    "import pandas as pd\n",
    "transactions = pd.read_excel(\"amex.xlsx\")\n",
    "\n",
    "\n",
    "print(\"=== GETTING TO KNOW YOUR DATA ===\")\n",
    "# See the shape of your data\n",
    "print(f\"Rows: {transactions.shape[0]}, Columns: {transactions.shape[1]}\")"
   ]
  },
  {
   "cell_type": "code",
   "execution_count": 15,
   "id": "94f40ed7-94bc-4a7c-8fd6-091a8437ec98",
   "metadata": {},
   "outputs": [
    {
     "name": "stdout",
     "output_type": "stream",
     "text": [
      "=== GETTING TO KNOW YOUR DATA ===\n",
      "\n",
      "Column names:\n",
      "['Date', 'Description', 'Card Member', 'Account #', 'Amount', 'Extended Details', 'Appears On Your Statement As', 'Address', 'City/State', 'Zip Code', 'Country', 'Reference', 'Category']\n"
     ]
    }
   ],
   "source": [
    "import pandas as pd\n",
    "transactions = pd.read_excel(\"amex.xlsx\")\n",
    "\n",
    "\n",
    "print(\"=== GETTING TO KNOW YOUR DATA ===\")\n",
    "\n",
    "print(\"\\nColumn names:\")\n",
    "print(transactions.columns.tolist())"
   ]
  },
  {
   "cell_type": "code",
   "execution_count": 17,
   "id": "338dced2-6965-48ed-9dfb-0a6de7e2a82c",
   "metadata": {},
   "outputs": [
    {
     "name": "stdout",
     "output_type": "stream",
     "text": [
      "\n",
      "DataFrame info:\n",
      "<class 'pandas.core.frame.DataFrame'>\n",
      "RangeIndex: 636 entries, 0 to 635\n",
      "Data columns (total 13 columns):\n",
      " #   Column                        Non-Null Count  Dtype  \n",
      "---  ------                        --------------  -----  \n",
      " 0   Date                          635 non-null    object \n",
      " 1   Description                   635 non-null    object \n",
      " 2   Card Member                   608 non-null    object \n",
      " 3   Account #                     411 non-null    float64\n",
      " 4   Amount                        616 non-null    float64\n",
      " 5   Extended Details              411 non-null    object \n",
      " 6   Appears On Your Statement As  411 non-null    object \n",
      " 7   Address                       390 non-null    object \n",
      " 8   City/State                    390 non-null    object \n",
      " 9   Zip Code                      390 non-null    object \n",
      " 10  Country                       390 non-null    object \n",
      " 11  Reference                     411 non-null    float64\n",
      " 12  Category                      403 non-null    object \n",
      "dtypes: float64(3), object(10)\n",
      "memory usage: 64.7+ KB\n",
      "None\n"
     ]
    }
   ],
   "source": [
    "\n",
    "import pandas as pd\n",
    "transactions = pd.read_excel(\"amex.xlsx\")\n",
    "\n",
    "print(\"\\nDataFrame info:\")\n",
    "print(transactions.info())\n"
   ]
  },
  {
   "cell_type": "code",
   "execution_count": 22,
   "id": "1d015a37-69f4-49a1-a8d5-581ccd881dba",
   "metadata": {},
   "outputs": [
    {
     "name": "stdout",
     "output_type": "stream",
     "text": [
      "Transactions over $100: 55\n",
      "Top 10 largest transactions:\n",
      "                    Date                                 Description  Amount\n",
      "396           02/15/2025  SCHAUMBURG PARK DISTSCHAUMBURG          IL  379.00\n",
      "181           06/20/2025  FSP*GO APE BEMIS WOOFREDERICK           MD  294.00\n",
      "303           04/19/2025  SCHAUMBURG PARK DISTSCHAUMBURG          IL  288.00\n",
      "131           07/18/2025  AplPay SHRI SHIRDI SRolling Meadows     IL  251.00\n",
      "593  2025-02-17 00:00:00             PAYPAL *HINDUTEMPLE SAN JOSE IL  251.00\n",
      "226           05/27/2025  PY *TABLA MODERN INDSCHAUMBURG          IL  246.34\n",
      "428  2025-08-22 00:00:00            SHS*DUPAGEMEDGRP 630-469-9200 IL  231.49\n",
      "571  2025-03-18 00:00:00              NIC*-DOE FLDOE BEC EGOV.COM FL  225.00\n",
      "565  2025-03-23 00:00:00    PAYPAL *VIATOR-TRIP IT-16402-935-7733 CA  216.00\n",
      "602  2025-02-04 00:00:00         PAYPAL *PHDATHLETIC 402-935-7733 CA  200.00\n"
     ]
    },
    {
     "ename": "AttributeError",
     "evalue": "Can only use .dt accessor with datetimelike values",
     "output_type": "error",
     "traceback": [
      "\u001b[0;31m---------------------------------------------------------------------------\u001b[0m",
      "\u001b[0;31mAttributeError\u001b[0m                            Traceback (most recent call last)",
      "Cell \u001b[0;32mIn[22], line 12\u001b[0m\n\u001b[1;32m      9\u001b[0m \u001b[38;5;28mprint\u001b[39m(\u001b[38;5;124m\"\u001b[39m\u001b[38;5;124mTop 10 largest transactions:\u001b[39m\u001b[38;5;124m\"\u001b[39m)\n\u001b[1;32m     10\u001b[0m \u001b[38;5;28mprint\u001b[39m(biggest_purchases[[\u001b[38;5;124m'\u001b[39m\u001b[38;5;124mDate\u001b[39m\u001b[38;5;124m'\u001b[39m, \u001b[38;5;124m'\u001b[39m\u001b[38;5;124mDescription\u001b[39m\u001b[38;5;124m'\u001b[39m, \u001b[38;5;124m'\u001b[39m\u001b[38;5;124mAmount\u001b[39m\u001b[38;5;124m'\u001b[39m]])\n\u001b[0;32m---> 12\u001b[0m monthly_spending \u001b[38;5;241m=\u001b[39m transactions\u001b[38;5;241m.\u001b[39mgroupby(\u001b[43mtransactions\u001b[49m\u001b[43m[\u001b[49m\u001b[38;5;124;43m'\u001b[39;49m\u001b[38;5;124;43mDate\u001b[39;49m\u001b[38;5;124;43m'\u001b[39;49m\u001b[43m]\u001b[49m\u001b[38;5;241;43m.\u001b[39;49m\u001b[43mdt\u001b[49m\u001b[38;5;241m.\u001b[39mto_period(\u001b[38;5;124m'\u001b[39m\u001b[38;5;124mM\u001b[39m\u001b[38;5;124m'\u001b[39m))[\u001b[38;5;124m'\u001b[39m\u001b[38;5;124mAmount\u001b[39m\u001b[38;5;124m'\u001b[39m]\u001b[38;5;241m.\u001b[39msum()\n\u001b[1;32m     13\u001b[0m \u001b[38;5;28mprint\u001b[39m(\u001b[38;5;124m\"\u001b[39m\u001b[38;5;124mMonthly spending:\u001b[39m\u001b[38;5;124m\"\u001b[39m)\n\u001b[1;32m     14\u001b[0m \u001b[38;5;28mprint\u001b[39m(monthly_spending)\n",
      "File \u001b[0;32m~/Library/Python/3.9/lib/python/site-packages/pandas/core/generic.py:6318\u001b[0m, in \u001b[0;36mNDFrame.__getattr__\u001b[0;34m(self, name)\u001b[0m\n\u001b[1;32m   6311\u001b[0m \u001b[38;5;28;01mif\u001b[39;00m (\n\u001b[1;32m   6312\u001b[0m     name \u001b[38;5;129;01mnot\u001b[39;00m \u001b[38;5;129;01min\u001b[39;00m \u001b[38;5;28mself\u001b[39m\u001b[38;5;241m.\u001b[39m_internal_names_set\n\u001b[1;32m   6313\u001b[0m     \u001b[38;5;129;01mand\u001b[39;00m name \u001b[38;5;129;01mnot\u001b[39;00m \u001b[38;5;129;01min\u001b[39;00m \u001b[38;5;28mself\u001b[39m\u001b[38;5;241m.\u001b[39m_metadata\n\u001b[1;32m   6314\u001b[0m     \u001b[38;5;129;01mand\u001b[39;00m name \u001b[38;5;129;01mnot\u001b[39;00m \u001b[38;5;129;01min\u001b[39;00m \u001b[38;5;28mself\u001b[39m\u001b[38;5;241m.\u001b[39m_accessors\n\u001b[1;32m   6315\u001b[0m     \u001b[38;5;129;01mand\u001b[39;00m \u001b[38;5;28mself\u001b[39m\u001b[38;5;241m.\u001b[39m_info_axis\u001b[38;5;241m.\u001b[39m_can_hold_identifiers_and_holds_name(name)\n\u001b[1;32m   6316\u001b[0m ):\n\u001b[1;32m   6317\u001b[0m     \u001b[38;5;28;01mreturn\u001b[39;00m \u001b[38;5;28mself\u001b[39m[name]\n\u001b[0;32m-> 6318\u001b[0m \u001b[38;5;28;01mreturn\u001b[39;00m \u001b[38;5;28;43mobject\u001b[39;49m\u001b[38;5;241;43m.\u001b[39;49m\u001b[38;5;21;43m__getattribute__\u001b[39;49m\u001b[43m(\u001b[49m\u001b[38;5;28;43mself\u001b[39;49m\u001b[43m,\u001b[49m\u001b[43m \u001b[49m\u001b[43mname\u001b[49m\u001b[43m)\u001b[49m\n",
      "File \u001b[0;32m~/Library/Python/3.9/lib/python/site-packages/pandas/core/accessor.py:224\u001b[0m, in \u001b[0;36mCachedAccessor.__get__\u001b[0;34m(self, obj, cls)\u001b[0m\n\u001b[1;32m    221\u001b[0m \u001b[38;5;28;01mif\u001b[39;00m obj \u001b[38;5;129;01mis\u001b[39;00m \u001b[38;5;28;01mNone\u001b[39;00m:\n\u001b[1;32m    222\u001b[0m     \u001b[38;5;66;03m# we're accessing the attribute of the class, i.e., Dataset.geo\u001b[39;00m\n\u001b[1;32m    223\u001b[0m     \u001b[38;5;28;01mreturn\u001b[39;00m \u001b[38;5;28mself\u001b[39m\u001b[38;5;241m.\u001b[39m_accessor\n\u001b[0;32m--> 224\u001b[0m accessor_obj \u001b[38;5;241m=\u001b[39m \u001b[38;5;28;43mself\u001b[39;49m\u001b[38;5;241;43m.\u001b[39;49m\u001b[43m_accessor\u001b[49m\u001b[43m(\u001b[49m\u001b[43mobj\u001b[49m\u001b[43m)\u001b[49m\n\u001b[1;32m    225\u001b[0m \u001b[38;5;66;03m# Replace the property with the accessor object. Inspired by:\u001b[39;00m\n\u001b[1;32m    226\u001b[0m \u001b[38;5;66;03m# https://www.pydanny.com/cached-property.html\u001b[39;00m\n\u001b[1;32m    227\u001b[0m \u001b[38;5;66;03m# We need to use object.__setattr__ because we overwrite __setattr__ on\u001b[39;00m\n\u001b[1;32m    228\u001b[0m \u001b[38;5;66;03m# NDFrame\u001b[39;00m\n\u001b[1;32m    229\u001b[0m \u001b[38;5;28mobject\u001b[39m\u001b[38;5;241m.\u001b[39m\u001b[38;5;21m__setattr__\u001b[39m(obj, \u001b[38;5;28mself\u001b[39m\u001b[38;5;241m.\u001b[39m_name, accessor_obj)\n",
      "File \u001b[0;32m~/Library/Python/3.9/lib/python/site-packages/pandas/core/indexes/accessors.py:643\u001b[0m, in \u001b[0;36mCombinedDatetimelikeProperties.__new__\u001b[0;34m(cls, data)\u001b[0m\n\u001b[1;32m    640\u001b[0m \u001b[38;5;28;01melif\u001b[39;00m \u001b[38;5;28misinstance\u001b[39m(data\u001b[38;5;241m.\u001b[39mdtype, PeriodDtype):\n\u001b[1;32m    641\u001b[0m     \u001b[38;5;28;01mreturn\u001b[39;00m PeriodProperties(data, orig)\n\u001b[0;32m--> 643\u001b[0m \u001b[38;5;28;01mraise\u001b[39;00m \u001b[38;5;167;01mAttributeError\u001b[39;00m(\u001b[38;5;124m\"\u001b[39m\u001b[38;5;124mCan only use .dt accessor with datetimelike values\u001b[39m\u001b[38;5;124m\"\u001b[39m)\n",
      "\u001b[0;31mAttributeError\u001b[0m: Can only use .dt accessor with datetimelike values"
     ]
    }
   ],
   "source": [
    "import pandas as pd\n",
    "transactions = pd.read_excel(\"amex.xlsx\")\n",
    "\n",
    "large_transactions = transactions[transactions['Amount'] > 100]\n",
    "print(f\"Transactions over $100: {len(large_transactions)}\")\n",
    "\n",
    "\n",
    "biggest_purchases = transactions.nlargest(10, 'Amount')\n",
    "print(\"Top 10 largest transactions:\")\n",
    "print(biggest_purchases[['Date', 'Description', 'Amount']])\n",
    "\n",
    "monthly_spending = transactions.groupby(transactions['Date'].dt.to_period('M'))['Amount'].sum()\n",
    "print(\"Monthly spending:\")\n",
    "print(monthly_spending)"
   ]
  },
  {
   "cell_type": "code",
   "execution_count": 23,
   "id": "a4955253-1b56-495a-bf81-1fedea7f0bab",
   "metadata": {},
   "outputs": [
    {
     "name": "stdout",
     "output_type": "stream",
     "text": [
      "Date column info after conversion:\n",
      "datetime64[ns]\n",
      "0   2025-09-20\n",
      "1   2025-09-20\n",
      "2   2025-09-20\n",
      "3   2025-09-18\n",
      "4   2025-09-18\n",
      "Name: Date, dtype: datetime64[ns]\n"
     ]
    }
   ],
   "source": [
    "transactions['Date'] = pd.to_datetime(transactions['Date'])\n",
    "\n",
    "# Check that it worked\n",
    "print(\"Date column info after conversion:\")\n",
    "print(transactions['Date'].dtype)\n",
    "print(transactions['Date'].head())"
   ]
  },
  {
   "cell_type": "code",
   "execution_count": 24,
   "id": "481be2db-f566-40f6-a76b-3bda5d2aeeca",
   "metadata": {},
   "outputs": [
    {
     "name": "stdout",
     "output_type": "stream",
     "text": [
      "Transactions over $100: 55\n",
      "Top 10 largest transactions:\n",
      "                    Date                                 Description  Amount\n",
      "396           02/15/2025  SCHAUMBURG PARK DISTSCHAUMBURG          IL  379.00\n",
      "181           06/20/2025  FSP*GO APE BEMIS WOOFREDERICK           MD  294.00\n",
      "303           04/19/2025  SCHAUMBURG PARK DISTSCHAUMBURG          IL  288.00\n",
      "131           07/18/2025  AplPay SHRI SHIRDI SRolling Meadows     IL  251.00\n",
      "593  2025-02-17 00:00:00             PAYPAL *HINDUTEMPLE SAN JOSE IL  251.00\n",
      "226           05/27/2025  PY *TABLA MODERN INDSCHAUMBURG          IL  246.34\n",
      "428  2025-08-22 00:00:00            SHS*DUPAGEMEDGRP 630-469-9200 IL  231.49\n",
      "571  2025-03-18 00:00:00              NIC*-DOE FLDOE BEC EGOV.COM FL  225.00\n",
      "565  2025-03-23 00:00:00    PAYPAL *VIATOR-TRIP IT-16402-935-7733 CA  216.00\n",
      "602  2025-02-04 00:00:00         PAYPAL *PHDATHLETIC 402-935-7733 CA  200.00\n"
     ]
    },
    {
     "ename": "AttributeError",
     "evalue": "Can only use .dt accessor with datetimelike values",
     "output_type": "error",
     "traceback": [
      "\u001b[0;31m---------------------------------------------------------------------------\u001b[0m",
      "\u001b[0;31mAttributeError\u001b[0m                            Traceback (most recent call last)",
      "Cell \u001b[0;32mIn[24], line 12\u001b[0m\n\u001b[1;32m      9\u001b[0m \u001b[38;5;28mprint\u001b[39m(\u001b[38;5;124m\"\u001b[39m\u001b[38;5;124mTop 10 largest transactions:\u001b[39m\u001b[38;5;124m\"\u001b[39m)\n\u001b[1;32m     10\u001b[0m \u001b[38;5;28mprint\u001b[39m(biggest_purchases[[\u001b[38;5;124m'\u001b[39m\u001b[38;5;124mDate\u001b[39m\u001b[38;5;124m'\u001b[39m, \u001b[38;5;124m'\u001b[39m\u001b[38;5;124mDescription\u001b[39m\u001b[38;5;124m'\u001b[39m, \u001b[38;5;124m'\u001b[39m\u001b[38;5;124mAmount\u001b[39m\u001b[38;5;124m'\u001b[39m]])\n\u001b[0;32m---> 12\u001b[0m monthly_spending \u001b[38;5;241m=\u001b[39m transactions\u001b[38;5;241m.\u001b[39mgroupby(\u001b[43mtransactions\u001b[49m\u001b[43m[\u001b[49m\u001b[38;5;124;43m'\u001b[39;49m\u001b[38;5;124;43mDate\u001b[39;49m\u001b[38;5;124;43m'\u001b[39;49m\u001b[43m]\u001b[49m\u001b[38;5;241;43m.\u001b[39;49m\u001b[43mdt\u001b[49m\u001b[38;5;241m.\u001b[39mto_period(\u001b[38;5;124m'\u001b[39m\u001b[38;5;124mM\u001b[39m\u001b[38;5;124m'\u001b[39m))[\u001b[38;5;124m'\u001b[39m\u001b[38;5;124mAmount\u001b[39m\u001b[38;5;124m'\u001b[39m]\u001b[38;5;241m.\u001b[39msum()\n\u001b[1;32m     13\u001b[0m \u001b[38;5;28mprint\u001b[39m(\u001b[38;5;124m\"\u001b[39m\u001b[38;5;124mMonthly spending:\u001b[39m\u001b[38;5;124m\"\u001b[39m)\n\u001b[1;32m     14\u001b[0m \u001b[38;5;28mprint\u001b[39m(monthly_spending)\n",
      "File \u001b[0;32m~/Library/Python/3.9/lib/python/site-packages/pandas/core/generic.py:6318\u001b[0m, in \u001b[0;36mNDFrame.__getattr__\u001b[0;34m(self, name)\u001b[0m\n\u001b[1;32m   6311\u001b[0m \u001b[38;5;28;01mif\u001b[39;00m (\n\u001b[1;32m   6312\u001b[0m     name \u001b[38;5;129;01mnot\u001b[39;00m \u001b[38;5;129;01min\u001b[39;00m \u001b[38;5;28mself\u001b[39m\u001b[38;5;241m.\u001b[39m_internal_names_set\n\u001b[1;32m   6313\u001b[0m     \u001b[38;5;129;01mand\u001b[39;00m name \u001b[38;5;129;01mnot\u001b[39;00m \u001b[38;5;129;01min\u001b[39;00m \u001b[38;5;28mself\u001b[39m\u001b[38;5;241m.\u001b[39m_metadata\n\u001b[1;32m   6314\u001b[0m     \u001b[38;5;129;01mand\u001b[39;00m name \u001b[38;5;129;01mnot\u001b[39;00m \u001b[38;5;129;01min\u001b[39;00m \u001b[38;5;28mself\u001b[39m\u001b[38;5;241m.\u001b[39m_accessors\n\u001b[1;32m   6315\u001b[0m     \u001b[38;5;129;01mand\u001b[39;00m \u001b[38;5;28mself\u001b[39m\u001b[38;5;241m.\u001b[39m_info_axis\u001b[38;5;241m.\u001b[39m_can_hold_identifiers_and_holds_name(name)\n\u001b[1;32m   6316\u001b[0m ):\n\u001b[1;32m   6317\u001b[0m     \u001b[38;5;28;01mreturn\u001b[39;00m \u001b[38;5;28mself\u001b[39m[name]\n\u001b[0;32m-> 6318\u001b[0m \u001b[38;5;28;01mreturn\u001b[39;00m \u001b[38;5;28;43mobject\u001b[39;49m\u001b[38;5;241;43m.\u001b[39;49m\u001b[38;5;21;43m__getattribute__\u001b[39;49m\u001b[43m(\u001b[49m\u001b[38;5;28;43mself\u001b[39;49m\u001b[43m,\u001b[49m\u001b[43m \u001b[49m\u001b[43mname\u001b[49m\u001b[43m)\u001b[49m\n",
      "File \u001b[0;32m~/Library/Python/3.9/lib/python/site-packages/pandas/core/accessor.py:224\u001b[0m, in \u001b[0;36mCachedAccessor.__get__\u001b[0;34m(self, obj, cls)\u001b[0m\n\u001b[1;32m    221\u001b[0m \u001b[38;5;28;01mif\u001b[39;00m obj \u001b[38;5;129;01mis\u001b[39;00m \u001b[38;5;28;01mNone\u001b[39;00m:\n\u001b[1;32m    222\u001b[0m     \u001b[38;5;66;03m# we're accessing the attribute of the class, i.e., Dataset.geo\u001b[39;00m\n\u001b[1;32m    223\u001b[0m     \u001b[38;5;28;01mreturn\u001b[39;00m \u001b[38;5;28mself\u001b[39m\u001b[38;5;241m.\u001b[39m_accessor\n\u001b[0;32m--> 224\u001b[0m accessor_obj \u001b[38;5;241m=\u001b[39m \u001b[38;5;28;43mself\u001b[39;49m\u001b[38;5;241;43m.\u001b[39;49m\u001b[43m_accessor\u001b[49m\u001b[43m(\u001b[49m\u001b[43mobj\u001b[49m\u001b[43m)\u001b[49m\n\u001b[1;32m    225\u001b[0m \u001b[38;5;66;03m# Replace the property with the accessor object. Inspired by:\u001b[39;00m\n\u001b[1;32m    226\u001b[0m \u001b[38;5;66;03m# https://www.pydanny.com/cached-property.html\u001b[39;00m\n\u001b[1;32m    227\u001b[0m \u001b[38;5;66;03m# We need to use object.__setattr__ because we overwrite __setattr__ on\u001b[39;00m\n\u001b[1;32m    228\u001b[0m \u001b[38;5;66;03m# NDFrame\u001b[39;00m\n\u001b[1;32m    229\u001b[0m \u001b[38;5;28mobject\u001b[39m\u001b[38;5;241m.\u001b[39m\u001b[38;5;21m__setattr__\u001b[39m(obj, \u001b[38;5;28mself\u001b[39m\u001b[38;5;241m.\u001b[39m_name, accessor_obj)\n",
      "File \u001b[0;32m~/Library/Python/3.9/lib/python/site-packages/pandas/core/indexes/accessors.py:643\u001b[0m, in \u001b[0;36mCombinedDatetimelikeProperties.__new__\u001b[0;34m(cls, data)\u001b[0m\n\u001b[1;32m    640\u001b[0m \u001b[38;5;28;01melif\u001b[39;00m \u001b[38;5;28misinstance\u001b[39m(data\u001b[38;5;241m.\u001b[39mdtype, PeriodDtype):\n\u001b[1;32m    641\u001b[0m     \u001b[38;5;28;01mreturn\u001b[39;00m PeriodProperties(data, orig)\n\u001b[0;32m--> 643\u001b[0m \u001b[38;5;28;01mraise\u001b[39;00m \u001b[38;5;167;01mAttributeError\u001b[39;00m(\u001b[38;5;124m\"\u001b[39m\u001b[38;5;124mCan only use .dt accessor with datetimelike values\u001b[39m\u001b[38;5;124m\"\u001b[39m)\n",
      "\u001b[0;31mAttributeError\u001b[0m: Can only use .dt accessor with datetimelike values"
     ]
    }
   ],
   "source": [
    "import pandas as pd\n",
    "transactions = pd.read_excel(\"amex.xlsx\")\n",
    "\n",
    "large_transactions = transactions[transactions['Amount'] > 100]\n",
    "print(f\"Transactions over $100: {len(large_transactions)}\")\n",
    "\n",
    "\n",
    "biggest_purchases = transactions.nlargest(10, 'Amount')\n",
    "print(\"Top 10 largest transactions:\")\n",
    "print(biggest_purchases[['Date', 'Description', 'Amount']])\n",
    "\n",
    "monthly_spending = transactions.groupby(transactions['Date'].dt.to_period('M'))['Amount'].sum()\n",
    "print(\"Monthly spending:\")\n",
    "print(monthly_spending)"
   ]
  },
  {
   "cell_type": "code",
   "execution_count": 14,
   "id": "abb790f8-a59b-48e0-9372-8631cdb171f7",
   "metadata": {},
   "outputs": [
    {
     "name": "stdout",
     "output_type": "stream",
     "text": [
      "Total transactions: 635\n",
      "Total spent: $12,043.99\n",
      "Average transaction: $19.55\n",
      "Biggest single purchase: $379.00\n",
      "\n",
      "Spending by day of week:\n",
      "Day_of_Week\n",
      "5    2790.75\n",
      "3    2436.01\n",
      "6    2389.05\n",
      "1    2330.40\n",
      "4    2259.79\n",
      "7    2204.38\n",
      "2   -2366.39\n",
      "Name: Amount, dtype: float64\n",
      "                    Date  Day_of_Week  \\\n",
      "0             09/20/2025            7   \n",
      "1             09/20/2025            7   \n",
      "2             09/20/2025            7   \n",
      "3             09/18/2025            5   \n",
      "4             09/18/2025            5   \n",
      "..                   ...          ...   \n",
      "630  2025-01-07 00:00:00            3   \n",
      "631  2025-01-06 00:00:00            2   \n",
      "632  2025-01-04 00:00:00            7   \n",
      "633  2025-01-03 00:00:00            6   \n",
      "634  2025-01-02 00:00:00            5   \n",
      "\n",
      "                                    Description       Card Member  Account #  \\\n",
      "0                       AMAZON MARKEPLACE NA PA   PAVAN TIPPARAJU    -1003.0   \n",
      "1    AMAZON MARKETPLACE PAMZN.COM/BILL       WA   PAVAN TIPPARAJU    -1003.0   \n",
      "2    AplPay TST* VANAM 00SCHAUMBURG          IL   PAVAN TIPPARAJU    -1003.0   \n",
      "3                       AMAZON MARKEPLACE NA PA   PAVAN TIPPARAJU    -1003.0   \n",
      "4    AMAZON MARKETPLACE PAMZN.COM/BILL       WA   PAVAN TIPPARAJU    -1003.0   \n",
      "..                                          ...               ...        ...   \n",
      "630               PP*P330C9DE2C 402-935-7733 NY               NaN        NaN   \n",
      "631                   ONLINE PAYMENT, THANK YOU   PAVAN TIPPARAJU        NaN   \n",
      "632                     ALDI 40017 ELK GROVE IL  SWETHA TIPPARAJU        NaN   \n",
      "633              COSTCO GAS #0387 SCHAUMBURG IL   PAVAN TIPPARAJU        NaN   \n",
      "634      TL* TLGOEBBERTS FARM A TICKETLEAP.COPA   PAVAN TIPPARAJU        NaN   \n",
      "\n",
      "     Amount                                   Extended Details  \\\n",
      "0     46.51  3L1O8NYQ9K2 MERCHANDISE\\nAMAZON MARKETPLACE NA...   \n",
      "1    -10.99  1F7Z00ABJL7 AMZN.COM/BILL\\nAMAZON MARKETPLACE ...   \n",
      "2     61.00  21105175264 RESTAURANT\\nAplPay TST* VANAM 0024...   \n",
      "3     23.57  6QQMRYUFS5G MERCHANDISE\\nAMAZON MARKETPLACE NA...   \n",
      "4     15.07  QRP8FD2TWB0 AMZN.COM/BILL\\nAMAZON MARKETPLACE ...   \n",
      "..      ...                                                ...   \n",
      "630    5.99                                                NaN   \n",
      "631     NaN                                                NaN   \n",
      "632   55.65                                                NaN   \n",
      "633   29.44                                                NaN   \n",
      "634   36.61                                                NaN   \n",
      "\n",
      "                   Appears On Your Statement As            Address  \\\n",
      "0    AMAZON MARKETPLACE NAMZN.COM/BILL       WA    410 TERRY AVE N   \n",
      "1    AMAZON MARKETPLACE PAMZN.COM/BILL       WA    440 TERRY AVE N   \n",
      "2    AplPay TST* VANAM 00SCHAUMBURG          IL  2575 BASIN TRL LN   \n",
      "3    AMAZON MARKETPLACE NAMZN.COM/BILL       WA    410 TERRY AVE N   \n",
      "4    AMAZON MARKETPLACE PAMZN.COM/BILL       WA    440 TERRY AVE N   \n",
      "..                                          ...                ...   \n",
      "630                                         NaN                NaN   \n",
      "631                                         NaN                NaN   \n",
      "632                                         NaN                NaN   \n",
      "633                                         NaN                NaN   \n",
      "634                                         NaN                NaN   \n",
      "\n",
      "         City/State Zip Code        Country     Reference  \\\n",
      "0       SEATTLE\\nWA    98109  UNITED STATES  3.202526e+17   \n",
      "1       SEATTLE\\nWA    98109  UNITED STATES  3.202526e+17   \n",
      "2    NAPERVILLE\\nIL    60563  UNITED STATES  3.202526e+17   \n",
      "3       SEATTLE\\nWA    98109  UNITED STATES  3.202526e+17   \n",
      "4       SEATTLE\\nWA    98109  UNITED STATES  3.202526e+17   \n",
      "..              ...      ...            ...           ...   \n",
      "630             NaN      NaN            NaN           NaN   \n",
      "631             NaN      NaN            NaN           NaN   \n",
      "632             NaN      NaN            NaN           NaN   \n",
      "633             NaN      NaN            NaN           NaN   \n",
      "634             NaN      NaN            NaN           NaN   \n",
      "\n",
      "                                     Category  \n",
      "0    Merchandise & Supplies-Internet Purchase  \n",
      "1    Merchandise & Supplies-Internet Purchase  \n",
      "2                       Restaurant-Restaurant  \n",
      "3    Merchandise & Supplies-Internet Purchase  \n",
      "4    Merchandise & Supplies-Internet Purchase  \n",
      "..                                        ...  \n",
      "630                                       NaN  \n",
      "631                                       NaN  \n",
      "632                                       NaN  \n",
      "633                                       NaN  \n",
      "634                                       NaN  \n",
      "\n",
      "[635 rows x 14 columns]\n"
     ]
    }
   ],
   "source": [
    "import pandas as pd\n",
    "\n",
    "# Read the CSV file into a DataFrame\n",
    "transactions = pd.read_excel(\"amex.xlsx\")\n",
    "\n",
    "#print (transactions)\n",
    "\n",
    "print(f\"Total transactions: {len(transactions)}\")\n",
    "\n",
    "print(f\"Total spent: ${transactions['Amount'].sum():,.2f}\")\n",
    "\n",
    "print(f\"Average transaction: ${transactions['Amount'].mean():.2f}\")\n",
    "\n",
    "print(f\"Biggest single purchase: ${transactions['Amount'].max():.2f}\")\n",
    "\n",
    "daily_spending = transactions.groupby('Day_of_Week')['Amount'].sum()\n",
    "\n",
    "print(\"\\nSpending by day of week:\")\n",
    "print(daily_spending.sort_values(ascending=False))\n",
    "\n",
    "transactions.iloc[1:4]\n",
    "\n",
    "\n",
    "print (transactions)\n"
   ]
  },
  {
   "cell_type": "code",
   "execution_count": 15,
   "id": "23db53fa-2773-4bb4-8c92-15a9a6fff2a4",
   "metadata": {},
   "outputs": [
    {
     "name": "stdout",
     "output_type": "stream",
     "text": [
      "                    Date  Day_of_Week  \\\n",
      "0             09/20/2025            7   \n",
      "1             09/20/2025            7   \n",
      "2             09/20/2025            7   \n",
      "3             09/18/2025            5   \n",
      "4             09/18/2025            5   \n",
      "..                   ...          ...   \n",
      "630  2025-01-07 00:00:00            3   \n",
      "631  2025-01-06 00:00:00            2   \n",
      "632  2025-01-04 00:00:00            7   \n",
      "633  2025-01-03 00:00:00            6   \n",
      "634  2025-01-02 00:00:00            5   \n",
      "\n",
      "                                    Description       Card Member  Account #  \\\n",
      "0                       AMAZON MARKEPLACE NA PA   PAVAN TIPPARAJU    -1003.0   \n",
      "1    AMAZON MARKETPLACE PAMZN.COM/BILL       WA   PAVAN TIPPARAJU    -1003.0   \n",
      "2    AplPay TST* VANAM 00SCHAUMBURG          IL   PAVAN TIPPARAJU    -1003.0   \n",
      "3                       AMAZON MARKEPLACE NA PA   PAVAN TIPPARAJU    -1003.0   \n",
      "4    AMAZON MARKETPLACE PAMZN.COM/BILL       WA   PAVAN TIPPARAJU    -1003.0   \n",
      "..                                          ...               ...        ...   \n",
      "630               PP*P330C9DE2C 402-935-7733 NY               NaN        NaN   \n",
      "631                   ONLINE PAYMENT, THANK YOU   PAVAN TIPPARAJU        NaN   \n",
      "632                     ALDI 40017 ELK GROVE IL  SWETHA TIPPARAJU        NaN   \n",
      "633              COSTCO GAS #0387 SCHAUMBURG IL   PAVAN TIPPARAJU        NaN   \n",
      "634      TL* TLGOEBBERTS FARM A TICKETLEAP.COPA   PAVAN TIPPARAJU        NaN   \n",
      "\n",
      "     Amount                                   Extended Details  \\\n",
      "0     46.51  3L1O8NYQ9K2 MERCHANDISE\\nAMAZON MARKETPLACE NA...   \n",
      "1    -10.99  1F7Z00ABJL7 AMZN.COM/BILL\\nAMAZON MARKETPLACE ...   \n",
      "2     61.00  21105175264 RESTAURANT\\nAplPay TST* VANAM 0024...   \n",
      "3     23.57  6QQMRYUFS5G MERCHANDISE\\nAMAZON MARKETPLACE NA...   \n",
      "4     15.07  QRP8FD2TWB0 AMZN.COM/BILL\\nAMAZON MARKETPLACE ...   \n",
      "..      ...                                                ...   \n",
      "630    5.99                                                NaN   \n",
      "631     NaN                                                NaN   \n",
      "632   55.65                                                NaN   \n",
      "633   29.44                                                NaN   \n",
      "634   36.61                                                NaN   \n",
      "\n",
      "                   Appears On Your Statement As            Address  \\\n",
      "0    AMAZON MARKETPLACE NAMZN.COM/BILL       WA    410 TERRY AVE N   \n",
      "1    AMAZON MARKETPLACE PAMZN.COM/BILL       WA    440 TERRY AVE N   \n",
      "2    AplPay TST* VANAM 00SCHAUMBURG          IL  2575 BASIN TRL LN   \n",
      "3    AMAZON MARKETPLACE NAMZN.COM/BILL       WA    410 TERRY AVE N   \n",
      "4    AMAZON MARKETPLACE PAMZN.COM/BILL       WA    440 TERRY AVE N   \n",
      "..                                          ...                ...   \n",
      "630                                         NaN                NaN   \n",
      "631                                         NaN                NaN   \n",
      "632                                         NaN                NaN   \n",
      "633                                         NaN                NaN   \n",
      "634                                         NaN                NaN   \n",
      "\n",
      "         City/State Zip Code        Country     Reference  \\\n",
      "0       SEATTLE\\nWA    98109  UNITED STATES  3.202526e+17   \n",
      "1       SEATTLE\\nWA    98109  UNITED STATES  3.202526e+17   \n",
      "2    NAPERVILLE\\nIL    60563  UNITED STATES  3.202526e+17   \n",
      "3       SEATTLE\\nWA    98109  UNITED STATES  3.202526e+17   \n",
      "4       SEATTLE\\nWA    98109  UNITED STATES  3.202526e+17   \n",
      "..              ...      ...            ...           ...   \n",
      "630             NaN      NaN            NaN           NaN   \n",
      "631             NaN      NaN            NaN           NaN   \n",
      "632             NaN      NaN            NaN           NaN   \n",
      "633             NaN      NaN            NaN           NaN   \n",
      "634             NaN      NaN            NaN           NaN   \n",
      "\n",
      "                                     Category  \n",
      "0    Merchandise & Supplies-Internet Purchase  \n",
      "1    Merchandise & Supplies-Internet Purchase  \n",
      "2                       Restaurant-Restaurant  \n",
      "3    Merchandise & Supplies-Internet Purchase  \n",
      "4    Merchandise & Supplies-Internet Purchase  \n",
      "..                                        ...  \n",
      "630                                       NaN  \n",
      "631                                       NaN  \n",
      "632                                       NaN  \n",
      "633                                       NaN  \n",
      "634                                       NaN  \n",
      "\n",
      "[635 rows x 14 columns]\n"
     ]
    }
   ],
   "source": [
    "transactions.iloc[1:4]\n",
    "\n",
    "print (transactions)"
   ]
  },
  {
   "cell_type": "code",
   "execution_count": 18,
   "id": "37c5aa74-1ed0-4835-b7af-4990ec2eaa78",
   "metadata": {},
   "outputs": [
    {
     "name": "stdout",
     "output_type": "stream",
     "text": [
      "         Date  Day_of_Week                                 Description  \\\n",
      "0  09/20/2025            7                     AMAZON MARKEPLACE NA PA   \n",
      "1  09/20/2025            7  AMAZON MARKETPLACE PAMZN.COM/BILL       WA   \n",
      "2  09/20/2025            7  AplPay TST* VANAM 00SCHAUMBURG          IL   \n",
      "\n",
      "       Card Member  Account #  Amount  \\\n",
      "0  PAVAN TIPPARAJU    -1003.0   46.51   \n",
      "1  PAVAN TIPPARAJU    -1003.0  -10.99   \n",
      "2  PAVAN TIPPARAJU    -1003.0   61.00   \n",
      "\n",
      "                                    Extended Details  \\\n",
      "0  3L1O8NYQ9K2 MERCHANDISE\\nAMAZON MARKETPLACE NA...   \n",
      "1  1F7Z00ABJL7 AMZN.COM/BILL\\nAMAZON MARKETPLACE ...   \n",
      "2  21105175264 RESTAURANT\\nAplPay TST* VANAM 0024...   \n",
      "\n",
      "                 Appears On Your Statement As            Address  \\\n",
      "0  AMAZON MARKETPLACE NAMZN.COM/BILL       WA    410 TERRY AVE N   \n",
      "1  AMAZON MARKETPLACE PAMZN.COM/BILL       WA    440 TERRY AVE N   \n",
      "2  AplPay TST* VANAM 00SCHAUMBURG          IL  2575 BASIN TRL LN   \n",
      "\n",
      "       City/State Zip Code        Country     Reference  \\\n",
      "0     SEATTLE\\nWA    98109  UNITED STATES  3.202526e+17   \n",
      "1     SEATTLE\\nWA    98109  UNITED STATES  3.202526e+17   \n",
      "2  NAPERVILLE\\nIL    60563  UNITED STATES  3.202526e+17   \n",
      "\n",
      "                                   Category  \n",
      "0  Merchandise & Supplies-Internet Purchase  \n",
      "1  Merchandise & Supplies-Internet Purchase  \n",
      "2                     Restaurant-Restaurant  \n"
     ]
    }
   ],
   "source": [
    "first_three = transactions.iloc[:3]\n",
    "\n",
    "print (first_three)"
   ]
  },
  {
   "cell_type": "code",
   "execution_count": 19,
   "id": "fa0bb84c-49c5-4e22-a787-b068d9814003",
   "metadata": {},
   "outputs": [
    {
     "data": {
      "text/html": [
       "<div>\n",
       "<style scoped>\n",
       "    .dataframe tbody tr th:only-of-type {\n",
       "        vertical-align: middle;\n",
       "    }\n",
       "\n",
       "    .dataframe tbody tr th {\n",
       "        vertical-align: top;\n",
       "    }\n",
       "\n",
       "    .dataframe thead th {\n",
       "        text-align: right;\n",
       "    }\n",
       "</style>\n",
       "<table border=\"1\" class=\"dataframe\">\n",
       "  <thead>\n",
       "    <tr style=\"text-align: right;\">\n",
       "      <th></th>\n",
       "      <th>Day_of_Week</th>\n",
       "      <th>Account #</th>\n",
       "      <th>Amount</th>\n",
       "      <th>Reference</th>\n",
       "    </tr>\n",
       "  </thead>\n",
       "  <tbody>\n",
       "    <tr>\n",
       "      <th>count</th>\n",
       "      <td>635.000000</td>\n",
       "      <td>411.0</td>\n",
       "      <td>616.000000</td>\n",
       "      <td>4.110000e+02</td>\n",
       "    </tr>\n",
       "    <tr>\n",
       "      <th>mean</th>\n",
       "      <td>4.133858</td>\n",
       "      <td>-1003.0</td>\n",
       "      <td>19.551932</td>\n",
       "      <td>3.190127e+17</td>\n",
       "    </tr>\n",
       "    <tr>\n",
       "      <th>std</th>\n",
       "      <td>2.061982</td>\n",
       "      <td>0.0</td>\n",
       "      <td>204.880058</td>\n",
       "      <td>1.446588e+16</td>\n",
       "    </tr>\n",
       "    <tr>\n",
       "      <th>min</th>\n",
       "      <td>1.000000</td>\n",
       "      <td>-1003.0</td>\n",
       "      <td>-3840.810000</td>\n",
       "      <td>1.504181e+17</td>\n",
       "    </tr>\n",
       "    <tr>\n",
       "      <th>25%</th>\n",
       "      <td>2.000000</td>\n",
       "      <td>-1003.0</td>\n",
       "      <td>9.660000</td>\n",
       "      <td>3.202511e+17</td>\n",
       "    </tr>\n",
       "    <tr>\n",
       "      <th>50%</th>\n",
       "      <td>4.000000</td>\n",
       "      <td>-1003.0</td>\n",
       "      <td>21.230000</td>\n",
       "      <td>3.202516e+17</td>\n",
       "    </tr>\n",
       "    <tr>\n",
       "      <th>75%</th>\n",
       "      <td>6.000000</td>\n",
       "      <td>-1003.0</td>\n",
       "      <td>49.895000</td>\n",
       "      <td>3.202521e+17</td>\n",
       "    </tr>\n",
       "    <tr>\n",
       "      <th>max</th>\n",
       "      <td>7.000000</td>\n",
       "      <td>-1003.0</td>\n",
       "      <td>379.000000</td>\n",
       "      <td>3.202526e+17</td>\n",
       "    </tr>\n",
       "  </tbody>\n",
       "</table>\n",
       "</div>"
      ],
      "text/plain": [
       "       Day_of_Week  Account #       Amount     Reference\n",
       "count   635.000000      411.0   616.000000  4.110000e+02\n",
       "mean      4.133858    -1003.0    19.551932  3.190127e+17\n",
       "std       2.061982        0.0   204.880058  1.446588e+16\n",
       "min       1.000000    -1003.0 -3840.810000  1.504181e+17\n",
       "25%       2.000000    -1003.0     9.660000  3.202511e+17\n",
       "50%       4.000000    -1003.0    21.230000  3.202516e+17\n",
       "75%       6.000000    -1003.0    49.895000  3.202521e+17\n",
       "max       7.000000    -1003.0   379.000000  3.202526e+17"
      ]
     },
     "execution_count": 19,
     "metadata": {},
     "output_type": "execute_result"
    }
   ],
   "source": [
    "transactions.describe()\n"
   ]
  },
  {
   "cell_type": "code",
   "execution_count": 3,
   "id": "38d3488d-e853-48a5-9c14-813d6554062f",
   "metadata": {},
   "outputs": [
    {
     "name": "stdout",
     "output_type": "stream",
     "text": [
      "    Name   Age      City\n",
      "0  Alice  25.0  New York\n",
      "1    Bob  30.0       NaN\n",
      "2    NaN   NaN    London\n",
      "3  David  35.0     Paris\n"
     ]
    }
   ],
   "source": [
    "import pandas as pd\n",
    "import numpy as np\n",
    "\n",
    "# Sample DataFrame with missing values\n",
    "data = {'Name': ['Alice', 'Bob', np.nan, 'David'], \n",
    "        'Age': [25, 30, np.nan, 35], \n",
    "        'City': ['New York', np.nan, 'London', 'Paris']}\n",
    "df = pd.DataFrame(data)\n",
    "print (df)"
   ]
  },
  {
   "cell_type": "code",
   "execution_count": 4,
   "id": "f7e63fbd-09a0-444d-9720-0004e492285d",
   "metadata": {},
   "outputs": [
    {
     "name": "stdout",
     "output_type": "stream",
     "text": [
      "Missing value counts per column:\n",
      " Name    1\n",
      "Age     1\n",
      "City    1\n",
      "dtype: int64\n"
     ]
    }
   ],
   "source": [
    "# 1. Identifying missing values\n",
    "print(\"Missing value counts per column:\\n\", df.isnull().sum())"
   ]
  },
  {
   "cell_type": "code",
   "execution_count": 5,
   "id": "4546565a-383e-4f9e-b4dd-0b2570103a16",
   "metadata": {},
   "outputs": [
    {
     "name": "stdout",
     "output_type": "stream",
     "text": [
      "\n",
      "DataFrame after dropping rows with any missing value:\n",
      "     Name   Age      City\n",
      "0  Alice  25.0  New York\n",
      "3  David  35.0     Paris\n"
     ]
    }
   ],
   "source": [
    "df_dropped = df.dropna()\n",
    "print(\"\\nDataFrame after dropping rows with any missing value:\\n\", df_dropped)"
   ]
  },
  {
   "cell_type": "code",
   "execution_count": 6,
   "id": "86fcfc47-0d80-4e2d-b915-03f48ec7f769",
   "metadata": {},
   "outputs": [
    {
     "name": "stdout",
     "output_type": "stream",
     "text": [
      "\n",
      "DataFrame after filling missing 'Age' with mean:\n",
      "     Name   Age      City\n",
      "0  Alice  25.0  New York\n",
      "1    Bob  30.0       NaN\n",
      "2    NaN  30.0    London\n",
      "3  David  35.0     Paris\n"
     ]
    }
   ],
   "source": [
    "df_filled_mean = df.fillna(df.mean(numeric_only=True))\n",
    "print(\"\\nDataFrame after filling missing 'Age' with mean:\\n\", df_filled_mean)"
   ]
  },
  {
   "cell_type": "code",
   "execution_count": 10,
   "id": "933b06cb-7efb-450d-9f3e-da64a0939d14",
   "metadata": {},
   "outputs": [
    {
     "name": "stdout",
     "output_type": "stream",
     "text": [
      "\n",
      "DataFrame after filling missing 'Age' with median:\n",
      "     Name   Age      City\n",
      "0  Alice  25.0  New York\n",
      "1    Bob  30.0       NaN\n",
      "2    NaN  30.0    London\n",
      "3  David  35.0     Paris\n"
     ]
    }
   ],
   "source": [
    "df['Age'] = df['Age'].fillna(df['Age'].mean())\n",
    "print(\"\\nDataFrame after filling missing 'Age' with median:\\n\", df_filled_median)"
   ]
  },
  {
   "cell_type": "code",
   "execution_count": 2,
   "id": "6580d6f1-39f1-4cff-a100-e92465e84e71",
   "metadata": {},
   "outputs": [
    {
     "name": "stdout",
     "output_type": "stream",
     "text": [
      "<class 'pandas.core.frame.DataFrame'>\n",
      "RangeIndex: 128 entries, 0 to 127\n",
      "Data columns (total 13 columns):\n",
      " #   Column                        Non-Null Count  Dtype  \n",
      "---  ------                        --------------  -----  \n",
      " 0   Date                          128 non-null    object \n",
      " 1   Description                   128 non-null    object \n",
      " 2   Card Member                   128 non-null    object \n",
      " 3   Account #                     128 non-null    int64  \n",
      " 4   Amount                        128 non-null    float64\n",
      " 5   Extended Details              128 non-null    object \n",
      " 6   Appears On Your Statement As  128 non-null    object \n",
      " 7   Address                       123 non-null    object \n",
      " 8   City/State                    123 non-null    object \n",
      " 9   Zip Code                      123 non-null    object \n",
      " 10  Country                       123 non-null    object \n",
      " 11  Reference                     128 non-null    int64  \n",
      " 12  Category                      126 non-null    object \n",
      "dtypes: float64(1), int64(2), object(10)\n",
      "memory usage: 13.1+ KB\n",
      "None\n"
     ]
    }
   ],
   "source": [
    "import pandas as pd\n",
    "\n",
    "# Read the CSV file into a DataFrame\n",
    "transactions = pd.read_excel(\"Aug_Sep.xlsx\")\n",
    "\n",
    "# Display the first 5 rows\n",
    "print(transactions.info())"
   ]
  },
  {
   "cell_type": "code",
   "execution_count": 3,
   "id": "f1de1ba1-b2d4-493f-bd75-b7dd79c8809a",
   "metadata": {},
   "outputs": [
    {
     "name": "stdout",
     "output_type": "stream",
     "text": [
      "Dataset shape: (128, 13)\n",
      "\n",
      "Column names:\n",
      "['Date', 'Description', 'Card Member', 'Account #', 'Amount', 'Extended Details', 'Appears On Your Statement As', 'Address', 'City/State', 'Zip Code', 'Country', 'Reference', 'Category']\n",
      "\n",
      "First few rows:\n",
      "         Date                                 Description      Card Member  \\\n",
      "0  10/07/2025  AMAZON.COM          AMZN.COM/BILL       WA  PAVAN TIPPARAJU   \n",
      "1  10/06/2025                     AMAZON MARKEPLACE NA PA  PAVAN TIPPARAJU   \n",
      "2  10/05/2025  AplPay 2102 GREAT CLSCHAUMBURG          IL  PAVAN TIPPARAJU   \n",
      "3  10/05/2025  AplPay MCDONALD'S F4SCHAUMBURG          IL  PAVAN TIPPARAJU   \n",
      "4  10/04/2025  AplPay JEWEL OSCO 43SCHAUMBURG          IL  PAVAN TIPPARAJU   \n",
      "\n",
      "   Account #  Amount                                   Extended Details  \\\n",
      "0      -1003  -73.24  UWSG8PBSAAQ MERCHANDISE\\nAMAZON.COM\\nAMZN.COM/...   \n",
      "1      -1003   38.48  1W44IGXY4I3 MERCHANDISE\\nAMAZON MARKETPLACE NA...   \n",
      "2      -1003   14.99  10156320251 8473527475\\nAplPay 2102 GREAT CLIP...   \n",
      "3      -1003    8.49  000432779   7734683338\\nAplPay MCDONALD'S F449...   \n",
      "4      -1003   16.49  43080096    800-898-4027\\nAplPay JEWEL OSCO 43...   \n",
      "\n",
      "                 Appears On Your Statement As                Address  \\\n",
      "0  AMAZON.COM          AMZN.COM/BILL       WA        410 TERRY AVE N   \n",
      "1  AMAZON MARKETPLACE NAMZN.COM/BILL       WA        410 TERRY AVE N   \n",
      "2  AplPay 2102 GREAT CLSCHAUMBURG          IL  1109 SOUTH ROSELLE RD   \n",
      "3  AplPay MCDONALD'S F4SCHAUMBURG          IL   550 SOUTH ROSELLE RD   \n",
      "4  AplPay JEWEL OSCO 43SCHAUMBURG          IL  1151 SOUTH ROSELLE RD   \n",
      "\n",
      "       City/State Zip Code        Country           Reference  \\\n",
      "0     SEATTLE\\nWA    98109  UNITED STATES  320252800515856128   \n",
      "1     SEATTLE\\nWA    98109  UNITED STATES  320252790489105212   \n",
      "2  SCHAUMBURG\\nIL    60193  UNITED STATES  320252790507177838   \n",
      "3  SCHAUMBURG\\nIL    60193  UNITED STATES  320252790503202559   \n",
      "4  SCHAUMBURG\\nIL    60193  UNITED STATES  320252780462003779   \n",
      "\n",
      "                                   Category  \n",
      "0  Merchandise & Supplies-Internet Purchase  \n",
      "1  Merchandise & Supplies-Internet Purchase  \n",
      "2          Business Services-Other Services  \n",
      "3                     Restaurant-Bar & Café  \n",
      "4          Merchandise & Supplies-Groceries  \n",
      "\n",
      "Data types:\n",
      "Date                             object\n",
      "Description                      object\n",
      "Card Member                      object\n",
      "Account #                         int64\n",
      "Amount                          float64\n",
      "Extended Details                 object\n",
      "Appears On Your Statement As     object\n",
      "Address                          object\n",
      "City/State                       object\n",
      "Zip Code                         object\n",
      "Country                          object\n",
      "Reference                         int64\n",
      "Category                         object\n",
      "dtype: object\n"
     ]
    }
   ],
   "source": [
    "# Display basic info about the dataset\n",
    "print(\"Dataset shape:\", transactions.shape)\n",
    "print(\"\\nColumn names:\")\n",
    "print(transactions.columns.tolist())\n",
    "print(\"\\nFirst few rows:\")\n",
    "print(transactions.head())\n",
    "print(\"\\nData types:\")\n",
    "print(transactions.dtypes)"
   ]
  },
  {
   "cell_type": "code",
   "execution_count": 4,
   "id": "59dac026-3c00-4042-a71e-4d0cc3919938",
   "metadata": {},
   "outputs": [
    {
     "name": "stdout",
     "output_type": "stream",
     "text": [
      "Date range in dataset:\n",
      "From: 2025-08-01 00:00:00\n",
      "To: 2025-10-07 00:00:00\n",
      "\n",
      "Transactions by month:\n",
      "Date\n",
      "2025-08    72\n",
      "2025-09    45\n",
      "2025-10    11\n",
      "Freq: M, Name: count, dtype: int64\n",
      "\n",
      "==================================================\n",
      "MONTHLY SPENDING COMPARISON\n",
      "==================================================\n",
      "Date\n",
      "2025-08    310.57\n",
      "2025-09   -832.25\n",
      "2025-10    139.51\n",
      "Freq: M, Name: Amount, dtype: float64\n",
      "\n",
      "2025-08 spending: $310.57\n",
      "2025-09 spending: $-832.25\n",
      "Difference: $-1,142.82 (-368.0%)\n",
      "✅ Spending DECREASED by $1,142.82\n"
     ]
    }
   ],
   "source": [
    "transactions['Date'] = pd.to_datetime(transactions['Date'])\n",
    "\n",
    "# Check what months are actually in the dataset\n",
    "print(\"Date range in dataset:\")\n",
    "print(f\"From: {transactions['Date'].min()}\")\n",
    "print(f\"To: {transactions['Date'].max()}\")\n",
    "print(\"\\nTransactions by month:\")\n",
    "print(transactions['Date'].dt.to_period('M').value_counts().sort_index())\n",
    "\n",
    "# Group by month and sum the amounts\n",
    "monthly_spending = transactions.groupby(transactions['Date'].dt.to_period('M'))['Amount'].sum().sort_index()\n",
    "\n",
    "print(\"\\n\" + \"=\"*50)\n",
    "print(\"MONTHLY SPENDING COMPARISON\")\n",
    "print(\"=\"*50)\n",
    "print(monthly_spending)\n",
    "\n",
    "# Calculate the difference\n",
    "if len(monthly_spending) >= 2:\n",
    "    months = monthly_spending.index.tolist()\n",
    "    first_month = monthly_spending.iloc[0]\n",
    "    second_month = monthly_spending.iloc[1]\n",
    "    difference = second_month - first_month\n",
    "    pct_change = (difference / abs(first_month)) * 100\n",
    "    \n",
    "    print(f\"\\n{months[0]} spending: ${first_month:,.2f}\")\n",
    "    print(f\"{months[1]} spending: ${second_month:,.2f}\")\n",
    "    print(f\"Difference: ${difference:,.2f} ({pct_change:+.1f}%)\")\n",
    "    \n",
    "    if difference < 0:\n",
    "        print(f\"✅ Spending DECREASED by ${abs(difference):,.2f}\")\n",
    "    else:\n",
    "        print(f\"⚠️ Spending INCREASED by ${difference:,.2f}\")"
   ]
  },
  {
   "cell_type": "code",
   "execution_count": 5,
   "id": "8201e334-ff91-480e-af48-806bdaf7bcfd",
   "metadata": {},
   "outputs": [
    {
     "name": "stdout",
     "output_type": "stream",
     "text": [
      "Monthly Spending Summary:\n",
      "==============================\n",
      "2025-08: $310.57\n",
      "2025-09: $-832.25\n",
      "2025-10: $139.51\n"
     ]
    }
   ],
   "source": [
    "transactions['Date'] = pd.to_datetime(transactions['Date'])\n",
    "\n",
    "# Group by month and sum the amounts\n",
    "monthly_totals = transactions.groupby(transactions['Date'].dt.to_period('M'))['Amount'].sum().sort_index()\n",
    "\n",
    "# Display the results\n",
    "print(\"Monthly Spending Summary:\")\n",
    "print(\"=\"*30)\n",
    "for month, amount in monthly_totals.items():\n",
    "    print(f\"{month}: ${amount:,.2f}\")"
   ]
  },
  {
   "cell_type": "code",
   "execution_count": 6,
   "id": "e619354c-9c5d-4266-86a9-30204bc04fa0",
   "metadata": {},
   "outputs": [
    {
     "name": "stdout",
     "output_type": "stream",
     "text": [
      "Positive amounts (credits/refunds):\n",
      "3754.6300000000006\n",
      "Count: 117\n",
      "\n",
      "Negative amounts (charges):\n",
      "-4136.799999999999\n",
      "Count: 11\n",
      "\n",
      "Sample of positive amounts:\n",
      "        Date                                 Description  Amount\n",
      "1 2025-10-06                     AMAZON MARKEPLACE NA PA   38.48\n",
      "2 2025-10-05  AplPay 2102 GREAT CLSCHAUMBURG          IL   14.99\n",
      "3 2025-10-05  AplPay MCDONALD'S F4SCHAUMBURG          IL    8.49\n",
      "4 2025-10-04  AplPay JEWEL OSCO 43SCHAUMBURG          IL   16.49\n",
      "5 2025-10-03  AplPay INDIACO      HOFFMAN ESTAT       IL   27.04\n",
      "\n",
      "Sample of negative amounts:\n",
      "         Date                                 Description  Amount\n",
      "0  2025-10-07  AMAZON.COM          AMZN.COM/BILL       WA  -73.24\n",
      "6  2025-10-02  THE HOME DEPOT      ELK GROVE VILLAGE   IL  -16.47\n",
      "20 2025-09-23  AMAZON MARKETPLACE NAMZN.COM/BILL       WA  -19.79\n",
      "28 2025-09-20  AMAZON MARKETPLACE PAMZN.COM/BILL       WA  -10.99\n",
      "32 2025-09-18       Redeem Cash Back at Amazon.com Credit  -15.07\n"
     ]
    }
   ],
   "source": [
    "# Check the distribution of positive vs negative amounts\n",
    "print(\"Positive amounts (credits/refunds):\")\n",
    "print(transactions[transactions['Amount'] > 0]['Amount'].sum())\n",
    "print(f\"Count: {len(transactions[transactions['Amount'] > 0])}\")\n",
    "\n",
    "print(\"\\nNegative amounts (charges):\")\n",
    "print(transactions[transactions['Amount'] < 0]['Amount'].sum())\n",
    "print(f\"Count: {len(transactions[transactions['Amount'] < 0])}\")\n",
    "\n",
    "print(\"\\nSample of positive amounts:\")\n",
    "print(transactions[transactions['Amount'] > 0][['Date', 'Description', 'Amount']].head())\n",
    "\n",
    "print(\"\\nSample of negative amounts:\")\n",
    "print(transactions[transactions['Amount'] < 0][['Date', 'Description', 'Amount']].head())"
   ]
  },
  {
   "cell_type": "code",
   "execution_count": 7,
   "id": "32217e6e-c819-408d-a3d1-56b787ca1ab8",
   "metadata": {},
   "outputs": [
    {
     "name": "stdout",
     "output_type": "stream",
     "text": [
      "Monthly Spending (charges only):\n",
      "==============================\n",
      "Aug: $2,311.79\n",
      "Sep: $1,213.62\n",
      "Oct: $229.22\n",
      "\n",
      "==============================\n",
      "Comparison:\n",
      "Aug → Sep: $-1,098.17 (-47.5%)\n",
      "Sep → Oct: $-984.40 (-81.1%)\n"
     ]
    }
   ],
   "source": [
    "# Convert Date column to datetime (if not already done)\n",
    "transactions['Date'] = pd.to_datetime(transactions['Date'])\n",
    "\n",
    "# Filter to only charges (positive amounts) and group by month\n",
    "spending_only = transactions[transactions['Amount'] > 0]\n",
    "monthly_spending = spending_only.groupby(spending_only['Date'].dt.to_period('M'))['Amount'].sum().sort_index()\n",
    "\n",
    "# Display the results\n",
    "print(\"Monthly Spending (charges only):\")\n",
    "print(\"=\"*30)\n",
    "for month, amount in monthly_spending.items():\n",
    "    month_name = month.strftime('%b')\n",
    "    print(f\"{month_name}: ${amount:,.2f}\")\n",
    "\n",
    "# Show the breakdown\n",
    "print(\"\\n\" + \"=\"*30)\n",
    "print(\"Comparison:\")\n",
    "if len(monthly_spending) >= 2:\n",
    "    months = list(monthly_spending.items())\n",
    "    for i in range(len(months) - 1):\n",
    "        curr_month, curr_amt = months[i]\n",
    "        next_month, next_amt = months[i+1]\n",
    "        diff = next_amt - curr_amt\n",
    "        pct = (diff / curr_amt) * 100\n",
    "        print(f\"{curr_month.strftime('%b')} → {next_month.strftime('%b')}: ${diff:+,.2f} ({pct:+.1f}%)\")"
   ]
  },
  {
   "cell_type": "code",
   "execution_count": 2,
   "id": "5f3ba345-b6ab-42a6-b535-f433dcad4ee5",
   "metadata": {},
   "outputs": [
    {
     "name": "stdout",
     "output_type": "stream",
     "text": [
      "<class 'pandas.core.frame.DataFrame'>\n",
      "RangeIndex: 128 entries, 0 to 127\n",
      "Data columns (total 13 columns):\n",
      " #   Column                        Non-Null Count  Dtype  \n",
      "---  ------                        --------------  -----  \n",
      " 0   Date                          128 non-null    object \n",
      " 1   Description                   128 non-null    object \n",
      " 2   Card Member                   128 non-null    object \n",
      " 3   Account #                     128 non-null    int64  \n",
      " 4   Amount                        128 non-null    float64\n",
      " 5   Extended Details              128 non-null    object \n",
      " 6   Appears On Your Statement As  128 non-null    object \n",
      " 7   Address                       123 non-null    object \n",
      " 8   City/State                    123 non-null    object \n",
      " 9   Zip Code                      123 non-null    object \n",
      " 10  Country                       123 non-null    object \n",
      " 11  Reference                     128 non-null    int64  \n",
      " 12  Category                      126 non-null    object \n",
      "dtypes: float64(1), int64(2), object(10)\n",
      "memory usage: 13.1+ KB\n",
      "None\n"
     ]
    }
   ],
   "source": [
    "\n",
    "import pandas as pd\n",
    "transactions = pd.read_excel(\"aug_sep.xlsx\")\n",
    "\n",
    "#print(\"\\nDataFrame info:\")\n",
    "print(transactions.info())"
   ]
  },
  {
   "cell_type": "code",
   "execution_count": 17,
   "id": "eb04d335-3665-4a2d-9aa6-09fac58c80ae",
   "metadata": {},
   "outputs": [
    {
     "data": {
      "image/png": "[encoded data removed]",
      "text/plain": [
       "<Figure size 500x300 with 1 Axes>"
      ]
     },
     "metadata": {},
     "output_type": "display_data"
    }
   ],
   "source": [
    "import pandas as pd\n",
    "import matplotlib.pyplot as plt\n",
    "\n",
    "# Read and prepare data\n",
    "transactions = pd.read_excel(\"aug_sep.xlsx\")\n",
    "transactions['Date'] = pd.to_datetime(transactions['Date'])\n",
    "\n",
    "# Filter to only actual spending (positive amounts)\n",
    "spending = transactions[transactions['Amount'] > 0].copy()\n",
    "\n",
    "# 1. MONTHLY SPENDING TREND\n",
    "monthly_spending = spending.groupby(spending['Date'].dt.to_period('M'))['Amount'].sum()\n",
    "\n",
    "plt.figure(figsize=(5, 3))\n",
    "plt.subplot(1, 1, 1)\n",
    "monthly_spending.plot(kind='bar', color=['#2E86AB', '#A23B72', '#F18F01'])\n",
    "plt.title('Monthly Spending Trend', fontsize=14, fontweight='bold')\n",
    "plt.ylabel('Total Spending ($)')\n",
    "plt.xlabel('Month')\n",
    "plt.xticks(rotation=0)\n",
    "plt.grid(axis='y', alpha=0.3)"
   ]
  },
  {
   "cell_type": "code",
   "execution_count": 3,
   "id": "edde2d2b-c5d4-435b-81d8-89adde76e39f",
   "metadata": {},
   "outputs": [
    {
     "name": "stderr",
     "output_type": "stream",
     "text": [
      "/var/folders/sl/vj1nv3c95s71cfqncxqtvrcr0000gp/T/ipykernel_85603/1041144334.py:6: UserWarning: Could not infer format, so each element will be parsed individually, falling back to `dateutil`. To ensure parsing is consistent and as-expected, please specify a format.\n",
      "  transactions['Date'] = pd.to_datetime(transactions['Date'])\n"
     ]
    },
    {
     "name": "stdout",
     "output_type": "stream",
     "text": [
      "Date\n",
      "2025-01    1081.63\n",
      "2025-02    1373.16\n",
      "2025-03    1361.86\n",
      "2025-04     930.83\n",
      "2025-05    1381.10\n",
      "2025-06     977.25\n",
      "2025-07    1009.13\n",
      "2025-08    1388.47\n",
      "2025-09    1053.51\n",
      "2025-10     302.54\n",
      "Freq: M, Name: Amount, dtype: float64\n"
     ]
    },
    {
     "data": {
      "image/png": "[encoded data removed]",
      "text/plain": [
       "<Figure size 1000x600 with 1 Axes>"
      ]
     },
     "metadata": {},
     "output_type": "display_data"
    }
   ],
   "source": [
    "import pandas as pd\n",
    "import matplotlib.pyplot as plt\n",
    "\n",
    "# Read and prepare data\n",
    "transactions = pd.read_csv(\"citibank_ytd.csv\")\n",
    "transactions['Date'] = pd.to_datetime(transactions['Date'])\n",
    "\n",
    "# Filter to only actual spending (positive amounts)\n",
    "spending = transactions[transactions['Amount'] > 0].copy()\n",
    "\n",
    "# 1. MONTHLY SPENDING TREND\n",
    "monthly_spending = spending.groupby(spending['Date'].dt.to_period('M'))['Amount'].sum()\n",
    "\n",
    "print (monthly_spending)\n",
    "plt.figure(figsize=(10, 6))\n",
    "plt.subplot(2, 1, 1)\n",
    "monthly_spending.plot(kind='bar', color=['#2E86AB', '#A23B72', '#F18F01'])\n",
    "plt.title('Monthly Spending Trend', fontsize=14, fontweight='bold')\n",
    "plt.ylabel('Total Spending ($)')\n",
    "plt.xlabel('Month')\n",
    "plt.xticks(rotation=0)\n",
    "plt.grid(axis='y', alpha=0.3)"
   ]
  },
  {
   "cell_type": "code",
   "execution_count": 10,
   "id": "3cf0f0db-9bf3-44ca-83e8-2be69ad294cb",
   "metadata": {},
   "outputs": [
    {
     "name": "stdout",
     "output_type": "stream",
     "text": [
      "<class 'pandas.core.frame.DataFrame'>\n",
      "RangeIndex: 224 entries, 0 to 223\n",
      "Data columns (total 6 columns):\n",
      " #   Column       Non-Null Count  Dtype  \n",
      "---  ------       --------------  -----  \n",
      " 0   Status       224 non-null    object \n",
      " 1   Date         224 non-null    object \n",
      " 2   Description  224 non-null    object \n",
      " 3   Debit        205 non-null    float64\n",
      " 4   Credit       19 non-null     float64\n",
      " 5   Member Name  197 non-null    object \n",
      "dtypes: float64(2), object(4)\n",
      "memory usage: 10.6+ KB\n",
      "None\n"
     ]
    }
   ],
   "source": [
    "\n",
    "import pandas as pd\n",
    "transactions = pd.read_csv(\"citibank.csv\")\n",
    "\n",
    "#print(\"\\nDataFrame info:\")\n",
    "print(transactions.info())"
   ]
  },
  {
   "cell_type": "code",
   "execution_count": 20,
   "id": "0d9ead65-4fff-44cc-b886-6e664eacff04",
   "metadata": {},
   "outputs": [
    {
     "data": {
      "image/png": "[encoded data removed]",
      "text/plain": [
       "<Figure size 640x480 with 1 Axes>"
      ]
     },
     "metadata": {},
     "output_type": "display_data"
    }
   ],
   "source": [
    "import matplotlib.pyplot as plt\n",
    "import numpy as np\n",
    "\n",
    "x = np.linspace(0, 10, 100)  # Generate 100 evenly spaced points from 0 to 10\n",
    "y = np.sin(x)  # Compute the sine of each x value\n",
    "\n",
    "plt.plot(x, y)\n",
    "plt.xlabel('Time (days)')  # Label the x-axis\n",
    "plt.ylabel('Stock Price ($)')  # Label the y-axis\n",
    "plt.title('Stock Price Trend')  # Add a title\n",
    "plt.show()  # Display the plot"
   ]
  },
  {
   "cell_type": "code",
   "execution_count": 21,
   "id": "536ca7b0-5041-4cbf-a69c-667b893709d2",
   "metadata": {},
   "outputs": [
    {
     "data": {
      "image/png": "[encoded data removed]",
      "text/plain": [
       "<Figure size 640x480 with 1 Axes>"
      ]
     },
     "metadata": {},
     "output_type": "display_data"
    }
   ],
   "source": [
    "import matplotlib.pyplot as plt\n",
    "import numpy as np\n",
    "\n",
    "ages = np.linspace(20, 60, 100)  # Ages ranging from 20 to 60\n",
    "income = ages * 500 + np.random.normal(0, 10000, 100)  # Simulating a positive correlation with some noise\n",
    "\n",
    "plt.scatter(ages, income)\n",
    "plt.xlabel('Age')\n",
    "plt.ylabel('Income')\n",
    "plt.title('Age vs. Income')\n",
    "plt.show()"
   ]
  },
  {
   "cell_type": "code",
   "execution_count": 22,
   "id": "ef877151-4d82-484d-b396-e37b5f7fb2ba",
   "metadata": {},
   "outputs": [
    {
     "data": {
      "image/png": "[encoded data removed]",
      "text/plain": [
       "<Figure size 640x480 with 1 Axes>"
      ]
     },
     "metadata": {},
     "output_type": "display_data"
    }
   ],
   "source": [
    "import matplotlib.pyplot as plt\n",
    "\n",
    "categories = ['Product A', 'Product B', 'Product C', 'Product D']\n",
    "values = [1500, 2300, 1200, 3000]\n",
    "\n",
    "plt.bar(categories, values)\n",
    "plt.xlabel('Products')\n",
    "plt.ylabel('Sales')\n",
    "plt.title('Product Sales Comparison')\n",
    "plt.show()"
   ]
  },
  {
   "cell_type": "code",
   "execution_count": 23,
   "id": "b52ac54f-485a-43b5-a863-5d6f15e67f60",
   "metadata": {},
   "outputs": [
    {
     "data": {
      "image/png": "[encoded data removed]",
      "text/plain": [
       "<Figure size 640x480 with 1 Axes>"
      ]
     },
     "metadata": {},
     "output_type": "display_data"
    }
   ],
   "source": [
    "import matplotlib.pyplot as plt\n",
    "import numpy as np\n",
    "\n",
    "data = np.random.randn(1000)  # Generate 1000 random numbers from a standard normal distribution\n",
    "\n",
    "plt.hist(data, bins=30)  # Create a histogram with 30 bins\n",
    "plt.xlabel('Exam Score')\n",
    "plt.ylabel('Number of Students')\n",
    "plt.title('Distribution of Exam Scores')\n",
    "plt.show()"
   ]
  },
  {
   "cell_type": "code",
   "execution_count": 24,
   "id": "dfc31c0d-2142-457f-b3bb-8983a20e1f87",
   "metadata": {},
   "outputs": [
    {
     "data": {
      "image/png": "[encoded data removed]",
      "text/plain": [
       "<Figure size 640x480 with 1 Axes>"
      ]
     },
     "metadata": {},
     "output_type": "display_data"
    }
   ],
   "source": [
    "import matplotlib.pyplot as plt\n",
    "\n",
    "labels = ['Windows', 'macOS', 'Linux', 'Other']\n",
    "sizes = [70, 20, 5, 5]\n",
    "\n",
    "plt.pie(sizes, labels=labels, autopct='%1.1f%%')  # Display percentages on each slice\n",
    "plt.title('Market Share of Operating Systems')\n",
    "plt.show()"
   ]
  },
  {
   "cell_type": "code",
   "execution_count": null,
   "id": "b046af4c-6560-4afd-877d-47e42e032f17",
   "metadata": {},
   "outputs": [],
   "source": []
  }
 ],
 "metadata": {
  "kernelspec": {
   "display_name": "Python 3 (ipykernel)",
   "language": "python",
   "name": "python3"
  },
  "language_info": {
   "codemirror_mode": {
    "name": "ipython",
    "version": 3
   },
   "file_extension": ".py",
   "mimetype": "text/x-python",
   "name": "python",
   "nbconvert_exporter": "python",
   "pygments_lexer": "ipython3",
   "version": "3.9.6"
  }
 },
 "nbformat": 4,
 "nbformat_minor": 5
}
