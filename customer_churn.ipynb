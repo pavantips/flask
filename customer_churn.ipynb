{
 "cells": [
  {
   "cell_type": "markdown",
   "id": "65e7af58",
   "metadata": {
    "deletable": false,
    "editable": false,
    "nbgrader": {
     "cell_type": "markdown",
     "checksum": "fee175f65cc66b04b811b93c8f57307f",
     "grade": false,
     "grade_id": "cell-59191c7a1c7f0a87",
     "locked": true,
     "schema_version": 3,
     "solution": false,
     "task": false
    }
   },
   "source": [
    "## Objective\n",
    "In this lab, you will analyze a customer dataset to identify key factors influencing customer churn, create visualizations to explore the data, and build a predictive model using machine learning. The goal is to extract actionable insights and present your findings in a comprehensive report.\n",
    "## Scenario\n",
    "You are a data analyst at a fast-growing subscription-based service company. The company is concerned about customer churn—customers canceling their subscriptions—and has tasked you with analyzing customer data. Your objectives are to identify key factors that influence churn and build a predictive model to identify customers at risk of leaving.\n",
    "## Materials Provided\n",
    "- A dataset (`customer_churn.csv`) preloaded into a pandas DataFrame named `df`.\n",
    "- Python environment with essential libraries such as pandas, Scikit-Learn, and Matplotlib pre-installed.\n",
    "\n",
    "## High-Level Tasks\n",
    "1. **Load and Explore the Data**\n",
    "2. **Data Cleaning and Preprocessing**\n",
    "3. **Exploratory Data Analysis (EDA) and Visualization**\n",
    "4. **Machine Learning Model Building and Evaluation**\n",
    "5. **Presenting Findings in a Comprehensive Report**"
   ]
  },
  {
   "cell_type": "markdown",
   "id": "234ed846",
   "metadata": {
    "deletable": false,
    "editable": false,
    "nbgrader": {
     "cell_type": "markdown",
     "checksum": "ca86118a3f2a389312322b4b8d7e0731",
     "grade": false,
     "grade_id": "cell-e4ce7e813121158d",
     "locked": true,
     "schema_version": 3,
     "solution": false,
     "task": false
    }
   },
   "source": [
    "## Lab Instructions\n",
    "### 1. Load and Explore the Data (5 minutes)\n",
    "#### Step 1.1: Import the required Python library and load dataset.\n",
    "Code is provided."
   ]
  },
  {
   "cell_type": "code",
   "execution_count": 1,
   "id": "9fc26eb7",
   "metadata": {},
   "outputs": [
    {
     "data": {
      "text/html": [
       "<div>\n",
       "<style scoped>\n",
       "    .dataframe tbody tr th:only-of-type {\n",
       "        vertical-align: middle;\n",
       "    }\n",
       "\n",
       "    .dataframe tbody tr th {\n",
       "        vertical-align: top;\n",
       "    }\n",
       "\n",
       "    .dataframe thead th {\n",
       "        text-align: right;\n",
       "    }\n",
       "</style>\n",
       "<table border=\"1\" class=\"dataframe\">\n",
       "  <thead>\n",
       "    <tr style=\"text-align: right;\">\n",
       "      <th></th>\n",
       "      <th>Unnamed: 0</th>\n",
       "      <th>Churn</th>\n",
       "      <th>AccountWeeks</th>\n",
       "      <th>ContractRenewal</th>\n",
       "      <th>DataPlan</th>\n",
       "      <th>DataUsage</th>\n",
       "      <th>CustServCalls</th>\n",
       "      <th>DayMins</th>\n",
       "      <th>DayCalls</th>\n",
       "      <th>MonthlyCharge</th>\n",
       "      <th>OverageFee</th>\n",
       "      <th>RoamMins</th>\n",
       "    </tr>\n",
       "  </thead>\n",
       "  <tbody>\n",
       "    <tr>\n",
       "      <th>0</th>\n",
       "      <td>0</td>\n",
       "      <td>0</td>\n",
       "      <td>128</td>\n",
       "      <td>Yes</td>\n",
       "      <td>1</td>\n",
       "      <td>2.7</td>\n",
       "      <td>1</td>\n",
       "      <td>265.1</td>\n",
       "      <td>110</td>\n",
       "      <td>89.0</td>\n",
       "      <td>9.87</td>\n",
       "      <td>10.0</td>\n",
       "    </tr>\n",
       "    <tr>\n",
       "      <th>1</th>\n",
       "      <td>1</td>\n",
       "      <td>0</td>\n",
       "      <td>107</td>\n",
       "      <td>Yes</td>\n",
       "      <td>1</td>\n",
       "      <td>3.7</td>\n",
       "      <td>1</td>\n",
       "      <td>161.6</td>\n",
       "      <td>123</td>\n",
       "      <td>82.0</td>\n",
       "      <td>9.78</td>\n",
       "      <td>13.7</td>\n",
       "    </tr>\n",
       "    <tr>\n",
       "      <th>2</th>\n",
       "      <td>2</td>\n",
       "      <td>0</td>\n",
       "      <td>137</td>\n",
       "      <td>Yes</td>\n",
       "      <td>0</td>\n",
       "      <td>0.0</td>\n",
       "      <td>0</td>\n",
       "      <td>243.4</td>\n",
       "      <td>114</td>\n",
       "      <td>52.0</td>\n",
       "      <td>6.06</td>\n",
       "      <td>12.2</td>\n",
       "    </tr>\n",
       "    <tr>\n",
       "      <th>3</th>\n",
       "      <td>3</td>\n",
       "      <td>0</td>\n",
       "      <td>84</td>\n",
       "      <td>No</td>\n",
       "      <td>0</td>\n",
       "      <td>0.0</td>\n",
       "      <td>2</td>\n",
       "      <td>299.4</td>\n",
       "      <td>71</td>\n",
       "      <td>57.0</td>\n",
       "      <td>3.10</td>\n",
       "      <td>6.6</td>\n",
       "    </tr>\n",
       "    <tr>\n",
       "      <th>4</th>\n",
       "      <td>4</td>\n",
       "      <td>0</td>\n",
       "      <td>75</td>\n",
       "      <td>No</td>\n",
       "      <td>0</td>\n",
       "      <td>0.0</td>\n",
       "      <td>3</td>\n",
       "      <td>166.7</td>\n",
       "      <td>113</td>\n",
       "      <td>41.0</td>\n",
       "      <td>7.42</td>\n",
       "      <td>10.1</td>\n",
       "    </tr>\n",
       "  </tbody>\n",
       "</table>\n",
       "</div>"
      ],
      "text/plain": [
       "   Unnamed: 0  Churn  AccountWeeks ContractRenewal  DataPlan  DataUsage  \\\n",
       "0           0      0           128             Yes         1        2.7   \n",
       "1           1      0           107             Yes         1        3.7   \n",
       "2           2      0           137             Yes         0        0.0   \n",
       "3           3      0            84              No         0        0.0   \n",
       "4           4      0            75              No         0        0.0   \n",
       "\n",
       "   CustServCalls  DayMins  DayCalls  MonthlyCharge  OverageFee  RoamMins  \n",
       "0              1    265.1       110           89.0        9.87      10.0  \n",
       "1              1    161.6       123           82.0        9.78      13.7  \n",
       "2              0    243.4       114           52.0        6.06      12.2  \n",
       "3              2    299.4        71           57.0        3.10       6.6  \n",
       "4              3    166.7       113           41.0        7.42      10.1  "
      ]
     },
     "execution_count": 1,
     "metadata": {},
     "output_type": "execute_result"
    }
   ],
   "source": [
    "import pandas as pd \n",
    "df = pd.read_csv(\"customer_churn.csv\")\n",
    "\n",
    "# Display the first 5 rows of the DataFrame\n",
    "df.head()"
   ]
  },
  {
   "cell_type": "markdown",
   "id": "812c93f5",
   "metadata": {
    "deletable": false,
    "editable": false,
    "nbgrader": {
     "cell_type": "markdown",
     "checksum": "adad5df8ecdbfee7246a3e246376198c",
     "grade": false,
     "grade_id": "cell-c5919c794353da0c",
     "locked": true,
     "schema_version": 3,
     "solution": false,
     "task": false
    }
   },
   "source": [
    "#### Step 1.2: Examine Column Names and Data Types\n",
    "Inspect the column names and data types using `df.info()`. (code provided)"
   ]
  },
  {
   "cell_type": "code",
   "execution_count": 7,
   "id": "50f1c785",
   "metadata": {},
   "outputs": [
    {
     "name": "stdout",
     "output_type": "stream",
     "text": [
      "<class 'pandas.core.frame.DataFrame'>\n",
      "RangeIndex: 3333 entries, 0 to 3332\n",
      "Data columns (total 11 columns):\n",
      " #   Column           Non-Null Count  Dtype  \n",
      "---  ------           --------------  -----  \n",
      " 0   Churn            3333 non-null   int64  \n",
      " 1   AccountWeeks     3333 non-null   int64  \n",
      " 2   ContractRenewal  3333 non-null   object \n",
      " 3   DataPlan         3333 non-null   int64  \n",
      " 4   DataUsage        3333 non-null   float64\n",
      " 5   CustServCalls    3333 non-null   int64  \n",
      " 6   DayMins          3333 non-null   float64\n",
      " 7   DayCalls         3333 non-null   int64  \n",
      " 8   MonthlyCharge    3333 non-null   float64\n",
      " 9   OverageFee       3333 non-null   float64\n",
      " 10  RoamMins         3333 non-null   float64\n",
      "dtypes: float64(5), int64(5), object(1)\n",
      "memory usage: 286.6+ KB\n"
     ]
    }
   ],
   "source": [
    "# Display column names and data types\n",
    "df.info()"
   ]
  },
  {
   "cell_type": "markdown",
   "id": "ff0430b8",
   "metadata": {
    "deletable": false,
    "editable": false,
    "nbgrader": {
     "cell_type": "markdown",
     "checksum": "81c89b9b9edb15773a3ff783dc0b366a",
     "grade": false,
     "grade_id": "cell-41c64d088594a528",
     "locked": true,
     "schema_version": 3,
     "solution": false,
     "task": false
    }
   },
   "source": [
    "#### Step 1.3: Get Summary Statistics\n",
    "Get summary statistics of numerical columns using `df.describe()`. (code provided)"
   ]
  },
  {
   "cell_type": "code",
   "execution_count": 6,
   "id": "5e1285bb",
   "metadata": {},
   "outputs": [
    {
     "data": {
      "text/html": [
       "<div>\n",
       "<style scoped>\n",
       "    .dataframe tbody tr th:only-of-type {\n",
       "        vertical-align: middle;\n",
       "    }\n",
       "\n",
       "    .dataframe tbody tr th {\n",
       "        vertical-align: top;\n",
       "    }\n",
       "\n",
       "    .dataframe thead th {\n",
       "        text-align: right;\n",
       "    }\n",
       "</style>\n",
       "<table border=\"1\" class=\"dataframe\">\n",
       "  <thead>\n",
       "    <tr style=\"text-align: right;\">\n",
       "      <th></th>\n",
       "      <th>Churn</th>\n",
       "      <th>AccountWeeks</th>\n",
       "      <th>DataPlan</th>\n",
       "      <th>DataUsage</th>\n",
       "      <th>CustServCalls</th>\n",
       "      <th>DayMins</th>\n",
       "      <th>DayCalls</th>\n",
       "      <th>MonthlyCharge</th>\n",
       "      <th>OverageFee</th>\n",
       "      <th>RoamMins</th>\n",
       "    </tr>\n",
       "  </thead>\n",
       "  <tbody>\n",
       "    <tr>\n",
       "      <th>count</th>\n",
       "      <td>3333.000000</td>\n",
       "      <td>3333.000000</td>\n",
       "      <td>3333.000000</td>\n",
       "      <td>3333.000000</td>\n",
       "      <td>3333.000000</td>\n",
       "      <td>3333.000000</td>\n",
       "      <td>3333.000000</td>\n",
       "      <td>3333.000000</td>\n",
       "      <td>3333.000000</td>\n",
       "      <td>3333.000000</td>\n",
       "    </tr>\n",
       "    <tr>\n",
       "      <th>mean</th>\n",
       "      <td>0.144914</td>\n",
       "      <td>101.064806</td>\n",
       "      <td>0.276628</td>\n",
       "      <td>0.816475</td>\n",
       "      <td>1.562856</td>\n",
       "      <td>179.775098</td>\n",
       "      <td>100.435644</td>\n",
       "      <td>56.305161</td>\n",
       "      <td>10.051488</td>\n",
       "      <td>10.237294</td>\n",
       "    </tr>\n",
       "    <tr>\n",
       "      <th>std</th>\n",
       "      <td>0.352067</td>\n",
       "      <td>39.822106</td>\n",
       "      <td>0.447398</td>\n",
       "      <td>1.272668</td>\n",
       "      <td>1.315491</td>\n",
       "      <td>54.467389</td>\n",
       "      <td>20.069084</td>\n",
       "      <td>16.426032</td>\n",
       "      <td>2.535712</td>\n",
       "      <td>2.791840</td>\n",
       "    </tr>\n",
       "    <tr>\n",
       "      <th>min</th>\n",
       "      <td>0.000000</td>\n",
       "      <td>1.000000</td>\n",
       "      <td>0.000000</td>\n",
       "      <td>0.000000</td>\n",
       "      <td>0.000000</td>\n",
       "      <td>0.000000</td>\n",
       "      <td>0.000000</td>\n",
       "      <td>14.000000</td>\n",
       "      <td>0.000000</td>\n",
       "      <td>0.000000</td>\n",
       "    </tr>\n",
       "    <tr>\n",
       "      <th>25%</th>\n",
       "      <td>0.000000</td>\n",
       "      <td>74.000000</td>\n",
       "      <td>0.000000</td>\n",
       "      <td>0.000000</td>\n",
       "      <td>1.000000</td>\n",
       "      <td>143.700000</td>\n",
       "      <td>87.000000</td>\n",
       "      <td>45.000000</td>\n",
       "      <td>8.330000</td>\n",
       "      <td>8.500000</td>\n",
       "    </tr>\n",
       "    <tr>\n",
       "      <th>50%</th>\n",
       "      <td>0.000000</td>\n",
       "      <td>101.000000</td>\n",
       "      <td>0.000000</td>\n",
       "      <td>0.000000</td>\n",
       "      <td>1.000000</td>\n",
       "      <td>179.400000</td>\n",
       "      <td>101.000000</td>\n",
       "      <td>53.500000</td>\n",
       "      <td>10.070000</td>\n",
       "      <td>10.300000</td>\n",
       "    </tr>\n",
       "    <tr>\n",
       "      <th>75%</th>\n",
       "      <td>0.000000</td>\n",
       "      <td>127.000000</td>\n",
       "      <td>1.000000</td>\n",
       "      <td>1.780000</td>\n",
       "      <td>2.000000</td>\n",
       "      <td>216.400000</td>\n",
       "      <td>114.000000</td>\n",
       "      <td>66.200000</td>\n",
       "      <td>11.770000</td>\n",
       "      <td>12.100000</td>\n",
       "    </tr>\n",
       "    <tr>\n",
       "      <th>max</th>\n",
       "      <td>1.000000</td>\n",
       "      <td>243.000000</td>\n",
       "      <td>1.000000</td>\n",
       "      <td>5.400000</td>\n",
       "      <td>9.000000</td>\n",
       "      <td>350.800000</td>\n",
       "      <td>165.000000</td>\n",
       "      <td>111.300000</td>\n",
       "      <td>18.190000</td>\n",
       "      <td>20.000000</td>\n",
       "    </tr>\n",
       "  </tbody>\n",
       "</table>\n",
       "</div>"
      ],
      "text/plain": [
       "             Churn  AccountWeeks     DataPlan    DataUsage  CustServCalls  \\\n",
       "count  3333.000000   3333.000000  3333.000000  3333.000000    3333.000000   \n",
       "mean      0.144914    101.064806     0.276628     0.816475       1.562856   \n",
       "std       0.352067     39.822106     0.447398     1.272668       1.315491   \n",
       "min       0.000000      1.000000     0.000000     0.000000       0.000000   \n",
       "25%       0.000000     74.000000     0.000000     0.000000       1.000000   \n",
       "50%       0.000000    101.000000     0.000000     0.000000       1.000000   \n",
       "75%       0.000000    127.000000     1.000000     1.780000       2.000000   \n",
       "max       1.000000    243.000000     1.000000     5.400000       9.000000   \n",
       "\n",
       "           DayMins     DayCalls  MonthlyCharge   OverageFee     RoamMins  \n",
       "count  3333.000000  3333.000000    3333.000000  3333.000000  3333.000000  \n",
       "mean    179.775098   100.435644      56.305161    10.051488    10.237294  \n",
       "std      54.467389    20.069084      16.426032     2.535712     2.791840  \n",
       "min       0.000000     0.000000      14.000000     0.000000     0.000000  \n",
       "25%     143.700000    87.000000      45.000000     8.330000     8.500000  \n",
       "50%     179.400000   101.000000      53.500000    10.070000    10.300000  \n",
       "75%     216.400000   114.000000      66.200000    11.770000    12.100000  \n",
       "max     350.800000   165.000000     111.300000    18.190000    20.000000  "
      ]
     },
     "execution_count": 6,
     "metadata": {},
     "output_type": "execute_result"
    }
   ],
   "source": [
    "# Get summary statistics of numerical columns\n",
    "df.describe()"
   ]
  },
  {
   "cell_type": "markdown",
   "id": "b429bb6b",
   "metadata": {
    "deletable": false,
    "editable": false,
    "nbgrader": {
     "cell_type": "markdown",
     "checksum": "58e7f548fabf351c958106c38d3cb671",
     "grade": false,
     "grade_id": "cell-0e5a9d5bf6967c0c",
     "locked": true,
     "schema_version": 3,
     "solution": false,
     "task": false
    }
   },
   "source": [
    "#### Step 1.4: Remove CSV Index Column\n",
    "The index from the CSV turned into a column and should be dropped. Use `df.drop` to get rid of the `Unnamed: 0` column. Then use `df.describe()` again to confirm the column is removed."
   ]
  },
  {
   "cell_type": "code",
   "execution_count": 4,
   "id": "21665c45",
   "metadata": {},
   "outputs": [
    {
     "name": "stdout",
     "output_type": "stream",
     "text": [
      "Shape: (3333, 11). Expected is (3333, 11)\n"
     ]
    }
   ],
   "source": [
    "# Drop the \"Unnamed: 0\" column\n",
    "### YOUR CODE HERE ###\n",
    "\n",
    "df = df.drop(columns=['Unnamed: 0'])\n",
    "\n",
    "\n",
    "# Use df.describe() to confirm the column was removed (code provided)\n",
    "df.describe()\n",
    "\n",
    "# Expected shape of DataFrame is (3333,11) after dropping column. \n",
    "# Ensure the results are stored in the df variable\n",
    "print(f\"Shape: {df.shape}. Expected is (3333, 11)\")"
   ]
  },
  {
   "cell_type": "markdown",
   "id": "b4bf3b1f",
   "metadata": {
    "deletable": false,
    "editable": false,
    "nbgrader": {
     "cell_type": "markdown",
     "checksum": "94100f40b81a171f27c8e0144567ff97",
     "grade": false,
     "grade_id": "cell-8d149e8a0676842f",
     "locked": true,
     "schema_version": 3,
     "solution": false,
     "task": false
    }
   },
   "source": [
    "#### Check Your Results:"
   ]
  },
  {
   "cell_type": "code",
   "execution_count": 10,
   "id": "90cd413e",
   "metadata": {
    "deletable": false,
    "editable": false,
    "nbgrader": {
     "cell_type": "code",
     "checksum": "b4e296355b40ebad14afc288e3278e6e",
     "grade": true,
     "grade_id": "cell-9e569202d4ed92f9",
     "locked": true,
     "points": 1,
     "schema_version": 3,
     "solution": false,
     "task": false
    }
   },
   "outputs": [
    {
     "name": "stdout",
     "output_type": "stream",
     "text": [
      "Shape: (3333, 11).\n"
     ]
    }
   ],
   "source": [
    "# Checking DataFrame (df) shape\n",
    "print(f\"Shape: {df.shape}.\")"
   ]
  },
  {
   "cell_type": "markdown",
   "id": "ef5f21a9",
   "metadata": {
    "deletable": false,
    "editable": false,
    "nbgrader": {
     "cell_type": "markdown",
     "checksum": "b20c18c53e05fd743656d8a66afbb3d1",
     "grade": false,
     "grade_id": "cell-3e0dddd9fcc5b801",
     "locked": true,
     "schema_version": 3,
     "solution": false,
     "task": false
    }
   },
   "source": [
    "#### Step 1.5: Identify Potential Features and Target Variable, and Encode ContractRenewal\n",
    "Select all features from the dataset, except churn (e.g., `\"AccountWeeks\"`, `\"DataPlan\"`, `\"Data Usage\"`, etc) and set the target variable (`'churn'`).\n",
    "\n",
    "You are provided the code for one-hot encoding the `ContractRenewal` column. This column currently has text values (\"Yes\" or \"No\"). pd.get_dummies() converts these text values into numerical 1s and 0s. It creates new columns (`'ContractRenewal_Yes'`, `'ContractRenewal_No'`). A 'Yes' becomes a 1 in the 'Yes' column and 0 in the 'No' column, and vice versa. This allows us to use this information effectively in our machine learning models and in charts."
   ]
  },
  {
   "cell_type": "code",
   "execution_count": 8,
   "id": "22424b15",
   "metadata": {},
   "outputs": [
    {
     "name": "stdout",
     "output_type": "stream",
     "text": [
      "features shape: (3333, 11). Expected is (3333, 11)\n",
      "target_variable shape: (3333,). Expected is (3333,)\n"
     ]
    }
   ],
   "source": [
    "# Select all features and set target variable\n",
    "### YOUR CODE HERE ###\n",
    "features = df.drop('Churn', axis=1)\n",
    "target_variable = df['Churn']\n",
    "\n",
    "\n",
    "# One-hot encoding for 'ContractRenewal' feature (provided; do not change)\n",
    "features = pd.get_dummies(features,columns=['ContractRenewal'],dtype=int)\n",
    "# See results with one-hot encoding (Notice last 2 columns)\n",
    "features.head()\n",
    "\n",
    "# Expected shape of features DataFrame is (3333,11) after one-hot encoding. \n",
    "print(f\"features shape: {features.shape}. Expected is (3333, 11)\")\n",
    "# Expected shape of target_variable DataFrame is (3333,).\n",
    "print(f\"target_variable shape: {target_variable.shape}. Expected is (3333,)\")"
   ]
  },
  {
   "cell_type": "markdown",
   "id": "fea10396",
   "metadata": {
    "deletable": false,
    "editable": false,
    "nbgrader": {
     "cell_type": "markdown",
     "checksum": "f112454d49edba0b9bce7f3041afa3e3",
     "grade": false,
     "grade_id": "cell-cd5661f564e64f6d",
     "locked": true,
     "schema_version": 3,
     "solution": false,
     "task": false
    }
   },
   "source": [
    "#### Check Your Results:"
   ]
  },
  {
   "cell_type": "code",
   "execution_count": 9,
   "id": "e2c2853f",
   "metadata": {
    "deletable": false,
    "editable": false,
    "nbgrader": {
     "cell_type": "code",
     "checksum": "00d1d67a0619357a8ef3e80e6c647352",
     "grade": true,
     "grade_id": "cell-93ac3f3cef2868a4",
     "locked": true,
     "points": 1,
     "schema_version": 3,
     "solution": false,
     "task": false
    }
   },
   "outputs": [],
   "source": [
    "# Checking DataFrame (features and target_variable) shapes"
   ]
  },
  {
   "cell_type": "markdown",
   "id": "bb936a01",
   "metadata": {
    "deletable": false,
    "editable": false,
    "nbgrader": {
     "cell_type": "markdown",
     "checksum": "8260d6ba289932edaecb7ec95935dbb5",
     "grade": false,
     "grade_id": "cell-aaee18a9bde6dd9e",
     "locked": true,
     "schema_version": 3,
     "solution": false,
     "task": false
    }
   },
   "source": [
    "### 2. Data Cleaning and Preprocessing (5 minutes)\n",
    "#### Step 2.1: Split the Data\n",
    "Split the data into training and testing sets (70% train, 30% test) using `train_test_split` from Scikit-Learn. \n",
    "\n",
    "Make sure to set the `random_state` parameter to 42 to ensure reproducibility and obtain the same results as the expected solution."
   ]
  },
  {
   "cell_type": "code",
   "execution_count": 13,
   "id": "67161875",
   "metadata": {},
   "outputs": [
    {
     "name": "stdout",
     "output_type": "stream",
     "text": [
      "(2333, 11)\n",
      "(1000, 11)\n",
      "(2333,)\n",
      "(1000,)\n"
     ]
    }
   ],
   "source": [
    "from sklearn.model_selection import train_test_split\n",
    "# Assume \"x\" is features and \"y\" is target_variables\n",
    "x = features \n",
    "y = target_variable\n",
    "\n",
    "# Split the data\n",
    "x_train, x_test, y_train, y_test = train_test_split(x, y, test_size=0.3, random_state=42)\n",
    "\n",
    "\n",
    "print(x_train.shape) # Expected (2333,11)\n",
    "print(x_test.shape) # Expected (1000,11)\n",
    "print(y_train.shape) # Expected (2333,)\n",
    "print(y_test.shape) # Expected (1000,)\n"
   ]
  },
  {
   "cell_type": "markdown",
   "id": "4196528c",
   "metadata": {
    "deletable": false,
    "editable": false,
    "nbgrader": {
     "cell_type": "markdown",
     "checksum": "1669499cf6b4557bc8e6c09f6d86e469",
     "grade": false,
     "grade_id": "cell-5707688f97a2aec4",
     "locked": true,
     "schema_version": 3,
     "solution": false,
     "task": false
    }
   },
   "source": [
    "#### Check Your Results:"
   ]
  },
  {
   "cell_type": "code",
   "execution_count": null,
   "id": "2c1ceec3",
   "metadata": {
    "deletable": false,
    "editable": false,
    "nbgrader": {
     "cell_type": "code",
     "checksum": "5792e43c29d0a627205aaf41bd718d4f",
     "grade": true,
     "grade_id": "cell-7c671562a722f644",
     "locked": true,
     "points": 1,
     "schema_version": 3,
     "solution": false,
     "task": false
    }
   },
   "outputs": [],
   "source": [
    "# Checking DataFrame (features and target_variable) shapes"
   ]
  },
  {
   "cell_type": "markdown",
   "id": "48738ee8",
   "metadata": {
    "deletable": false,
    "editable": false,
    "nbgrader": {
     "cell_type": "markdown",
     "checksum": "82768914d0c91687dde14263d026f6b5",
     "grade": false,
     "grade_id": "cell-5c974cd8d0e4e10c",
     "locked": true,
     "schema_version": 3,
     "solution": false,
     "task": false
    }
   },
   "source": [
    "### 3. Exploratory Data Analysis (EDA) and Visualization (20 minutes)\n",
    "#### Step 3.1: Summary Statistics for Relevant Features\n",
    "Calculate and print summary statistics for relevant features (average tenure for churned vs. non-churned customers)."
   ]
  },
  {
   "cell_type": "code",
   "execution_count": 15,
   "id": "eb0826db",
   "metadata": {},
   "outputs": [
    {
     "name": "stdout",
     "output_type": "stream",
     "text": [
      "Average Account Weeks for Churned Customers: 102.66459627329192\n",
      "Average Account Weeks for Non-Churned Customers: 100.79368421052632\n"
     ]
    }
   ],
   "source": [
    "# Summary statistics for churned vs. non-churned customers\n",
    "#churned = # YOUR CODE HERE\n",
    "#non_churned = # YOUR CODE HERE\n",
    "\n",
    "# Print average tenure\n",
    "### YOUR CODE HERE ###\n",
    "\n",
    "# Summary statistics for churned vs. non-churned customers\n",
    "churned = df[df['Churn'] == 1]\n",
    "non_churned = df[df['Churn'] == 0]\n",
    "\n",
    "# Print average tenure (AccountWeeks)\n",
    "print(\"Average Account Weeks for Churned Customers:\", churned['AccountWeeks'].mean())\n",
    "print(\"Average Account Weeks for Non-Churned Customers:\", non_churned['AccountWeeks'].mean())"
   ]
  },
  {
   "cell_type": "markdown",
   "id": "764f9efc",
   "metadata": {
    "deletable": false,
    "editable": false,
    "nbgrader": {
     "cell_type": "markdown",
     "checksum": "b31567015f6d0264191cc35e984cc410",
     "grade": false,
     "grade_id": "cell-f4a7303017a09697",
     "locked": true,
     "schema_version": 3,
     "solution": false,
     "task": false
    }
   },
   "source": [
    "#### Step 3.2: Create Visualizations\n",
    "Create visualizations (bar chart, histogram, and box plot) to explore the relationships between features and the target variable (`'churn'`). The titles, labels, and commands to show the plots have been provided; you will just need to set up the plots in each cell below."
   ]
  },
  {
   "cell_type": "code",
   "execution_count": 17,
   "id": "ac3a1198",
   "metadata": {},
   "outputs": [
    {
     "data": {
      "image/png": "[encoded data removed]",
      "text/plain": [
       "<Figure size 640x480 with 1 Axes>"
      ]
     },
     "metadata": {},
     "output_type": "display_data"
    }
   ],
   "source": [
    "import matplotlib.pyplot as plt\n",
    "\n",
    "# Bar chart for contract renewal vs churn\n",
    "churn_counts = df.groupby('ContractRenewal')['Churn'].value_counts().unstack()\n",
    "\n",
    "# Chart options provided\n",
    "churn_counts.plot(kind='bar', stacked=True)\n",
    "plt.title('Contract Renewal vs. Churn')\n",
    "plt.xlabel('Contract Renewal')\n",
    "plt.ylabel('Count')\n",
    "plt.show()"
   ]
  },
  {
   "cell_type": "code",
   "execution_count": 18,
   "id": "b5e85d66",
   "metadata": {},
   "outputs": [
    {
     "data": {
      "image/png": "[encoded data removed]",
      "text/plain": [
       "<Figure size 640x480 with 1 Axes>"
      ]
     },
     "metadata": {},
     "output_type": "display_data"
    }
   ],
   "source": [
    "import matplotlib.pyplot as plt\n",
    "\n",
    "# Histogram for tenure distribution\n",
    "plt.hist([churned['AccountWeeks'], non_churned['AccountWeeks']], label=['Churned', 'Non-Churned'])\n",
    "\n",
    "# Chart options provided\n",
    "plt.title('Tenure Distribution by Churn Status')\n",
    "plt.xlabel('Account Weeks')\n",
    "plt.ylabel('Frequency')\n",
    "plt.legend()\n",
    "plt.show()"
   ]
  },
  {
   "cell_type": "code",
   "execution_count": 20,
   "id": "925c14ba",
   "metadata": {},
   "outputs": [
    {
     "data": {
      "image/png": "[encoded data removed]",
      "text/plain": [
       "<Figure size 640x480 with 1 Axes>"
      ]
     },
     "metadata": {},
     "output_type": "display_data"
    }
   ],
   "source": [
    "import matplotlib.pyplot as plt\n",
    "\n",
    "# Box plot for monthly charges\n",
    "df.boxplot(column='MonthlyCharge', by='Churn')\n",
    "\n",
    "# Chart options provided\n",
    "plt.title('Monthly Charges vs. Churn')\n",
    "plt.xlabel('Churn')\n",
    "plt.ylabel('Monthly Charge')\n",
    "plt.suptitle('')  # Remove the default suptitle\n",
    "plt.show()"
   ]
  },
  {
   "cell_type": "markdown",
   "id": "031461ca",
   "metadata": {
    "deletable": false,
    "editable": false,
    "nbgrader": {
     "cell_type": "markdown",
     "checksum": "17c349c001c31e2543bb58793be75108",
     "grade": false,
     "grade_id": "cell-90d557213d510545",
     "locked": true,
     "schema_version": 3,
     "solution": false,
     "task": false
    }
   },
   "source": [
    "#### Step 3.3: Interpret Visualizations\n",
    "Interpret the visualizations and identify key insights about factors influencing churn.  Enter your observations in the cell below. These will not be graded, but this may be useful if you want to add this to your portfolio."
   ]
  },
  {
   "cell_type": "markdown",
   "id": "632d93af",
   "metadata": {},
   "source": [
    "Enter your observations about the visualizations here:\n",
    "\n",
    "- Observation 1: \n",
    "- Observation 2: \n",
    "- Observation 3: "
   ]
  },
  {
   "cell_type": "markdown",
   "id": "c6ea6488",
   "metadata": {
    "deletable": false,
    "editable": false,
    "nbgrader": {
     "cell_type": "markdown",
     "checksum": "29311b5bfb09c028b4a8baeeb78a1290",
     "grade": false,
     "grade_id": "cell-b442585d321b14f2",
     "locked": true,
     "schema_version": 3,
     "solution": false,
     "task": false
    }
   },
   "source": [
    "### 4. Machine Learning Model Building and Evaluation (20 minutes)\n",
    "#### Step 4.1: Choose a Classification Algorithm and Train the Model\n",
    "Import a suitable classification algorithm (`LogisticRegression` in this case) and create an instance of it (provided). \n",
    "\n",
    "Setting `max_iter = 1000` in our Logistic Regression model means we're giving it a limit of 1000 attempts to learn the optimal patterns in the data, which is often a good initial value to allow for convergence without excessive training time, though the ideal number can vary depending on the specific dataset."
   ]
  },
  {
   "cell_type": "code",
   "execution_count": 21,
   "id": "284bf201",
   "metadata": {},
   "outputs": [
    {
     "data": {
      "text/html": [
       "<style>#sk-container-id-1 {color: black;background-color: white;}#sk-container-id-1 pre{padding: 0;}#sk-container-id-1 div.sk-toggleable {background-color: white;}#sk-container-id-1 label.sk-toggleable__label {cursor: pointer;display: block;width: 100%;margin-bottom: 0;padding: 0.3em;box-sizing: border-box;text-align: center;}#sk-container-id-1 label.sk-toggleable__label-arrow:before {content: \"▸\";float: left;margin-right: 0.25em;color: #696969;}#sk-container-id-1 label.sk-toggleable__label-arrow:hover:before {color: black;}#sk-container-id-1 div.sk-estimator:hover label.sk-toggleable__label-arrow:before {color: black;}#sk-container-id-1 div.sk-toggleable__content {max-height: 0;max-width: 0;overflow: hidden;text-align: left;background-color: #f0f8ff;}#sk-container-id-1 div.sk-toggleable__content pre {margin: 0.2em;color: black;border-radius: 0.25em;background-color: #f0f8ff;}#sk-container-id-1 input.sk-toggleable__control:checked~div.sk-toggleable__content {max-height: 200px;max-width: 100%;overflow: auto;}#sk-container-id-1 input.sk-toggleable__control:checked~label.sk-toggleable__label-arrow:before {content: \"▾\";}#sk-container-id-1 div.sk-estimator input.sk-toggleable__control:checked~label.sk-toggleable__label {background-color: #d4ebff;}#sk-container-id-1 div.sk-label input.sk-toggleable__control:checked~label.sk-toggleable__label {background-color: #d4ebff;}#sk-container-id-1 input.sk-hidden--visually {border: 0;clip: rect(1px 1px 1px 1px);clip: rect(1px, 1px, 1px, 1px);height: 1px;margin: -1px;overflow: hidden;padding: 0;position: absolute;width: 1px;}#sk-container-id-1 div.sk-estimator {font-family: monospace;background-color: #f0f8ff;border: 1px dotted black;border-radius: 0.25em;box-sizing: border-box;margin-bottom: 0.5em;}#sk-container-id-1 div.sk-estimator:hover {background-color: #d4ebff;}#sk-container-id-1 div.sk-parallel-item::after {content: \"\";width: 100%;border-bottom: 1px solid gray;flex-grow: 1;}#sk-container-id-1 div.sk-label:hover label.sk-toggleable__label {background-color: #d4ebff;}#sk-container-id-1 div.sk-serial::before {content: \"\";position: absolute;border-left: 1px solid gray;box-sizing: border-box;top: 0;bottom: 0;left: 50%;z-index: 0;}#sk-container-id-1 div.sk-serial {display: flex;flex-direction: column;align-items: center;background-color: white;padding-right: 0.2em;padding-left: 0.2em;position: relative;}#sk-container-id-1 div.sk-item {position: relative;z-index: 1;}#sk-container-id-1 div.sk-parallel {display: flex;align-items: stretch;justify-content: center;background-color: white;position: relative;}#sk-container-id-1 div.sk-item::before, #sk-container-id-1 div.sk-parallel-item::before {content: \"\";position: absolute;border-left: 1px solid gray;box-sizing: border-box;top: 0;bottom: 0;left: 50%;z-index: -1;}#sk-container-id-1 div.sk-parallel-item {display: flex;flex-direction: column;z-index: 1;position: relative;background-color: white;}#sk-container-id-1 div.sk-parallel-item:first-child::after {align-self: flex-end;width: 50%;}#sk-container-id-1 div.sk-parallel-item:last-child::after {align-self: flex-start;width: 50%;}#sk-container-id-1 div.sk-parallel-item:only-child::after {width: 0;}#sk-container-id-1 div.sk-dashed-wrapped {border: 1px dashed gray;margin: 0 0.4em 0.5em 0.4em;box-sizing: border-box;padding-bottom: 0.4em;background-color: white;}#sk-container-id-1 div.sk-label label {font-family: monospace;font-weight: bold;display: inline-block;line-height: 1.2em;}#sk-container-id-1 div.sk-label-container {text-align: center;}#sk-container-id-1 div.sk-container {/* jupyter's `normalize.less` sets `[hidden] { display: none; }` but bootstrap.min.css set `[hidden] { display: none !important; }` so we also need the `!important` here to be able to override the default hidden behavior on the sphinx rendered scikit-learn.org. See: https://github.com/scikit-learn/scikit-learn/issues/21755 */display: inline-block !important;position: relative;}#sk-container-id-1 div.sk-text-repr-fallback {display: none;}</style><div id=\"sk-container-id-1\" class=\"sk-top-container\"><div class=\"sk-text-repr-fallback\"><pre>LogisticRegression(max_iter=1000)</pre><b>In a Jupyter environment, please rerun this cell to show the HTML representation or trust the notebook. <br />On GitHub, the HTML representation is unable to render, please try loading this page with nbviewer.org.</b></div><div class=\"sk-container\" hidden><div class=\"sk-item\"><div class=\"sk-estimator sk-toggleable\"><input class=\"sk-toggleable__control sk-hidden--visually\" id=\"sk-estimator-id-1\" type=\"checkbox\" checked><label for=\"sk-estimator-id-1\" class=\"sk-toggleable__label sk-toggleable__label-arrow\">LogisticRegression</label><div class=\"sk-toggleable__content\"><pre>LogisticRegression(max_iter=1000)</pre></div></div></div></div></div>"
      ],
      "text/plain": [
       "LogisticRegression(max_iter=1000)"
      ]
     },
     "execution_count": 21,
     "metadata": {},
     "output_type": "execute_result"
    }
   ],
   "source": [
    "from sklearn.linear_model import LogisticRegression\n",
    "\n",
    "# Create an instance of the Logistic Regression model (provided)\n",
    "model = LogisticRegression(max_iter = 1000)\n",
    "\n",
    "# Train the model\n",
    "model.fit(x_train, y_train)"
   ]
  },
  {
   "cell_type": "markdown",
   "id": "6c5b7169",
   "metadata": {
    "deletable": false,
    "editable": false,
    "nbgrader": {
     "cell_type": "markdown",
     "checksum": "355a86e940eb84f9869c047ff0dcc17d",
     "grade": false,
     "grade_id": "cell-b25606449086003d",
     "locked": true,
     "schema_version": 3,
     "solution": false,
     "task": false
    }
   },
   "source": [
    "#### Step 4.2: Make Predictions\n",
    "Use the trained model to make predictions on the testing data."
   ]
  },
  {
   "cell_type": "code",
   "execution_count": 22,
   "id": "64bb9242",
   "metadata": {},
   "outputs": [],
   "source": [
    "# Make predictions on the test set\n",
    "y_pred = model.predict(x_test)"
   ]
  },
  {
   "cell_type": "markdown",
   "id": "2217073c",
   "metadata": {
    "deletable": false,
    "editable": false,
    "nbgrader": {
     "cell_type": "markdown",
     "checksum": "ff27df4a087d4c1a38ae4fedad8d4b64",
     "grade": false,
     "grade_id": "cell-ba2b48b41ac6eb45",
     "locked": true,
     "schema_version": 3,
     "solution": false,
     "task": false
    }
   },
   "source": [
    "#### Step 4.3: Evaluate the Model\n",
    "Evaluate the model's performance using appropriate metrics (`accuracy`, `precision`, `recall`, `f1`).\n",
    "\n",
    "**Note:** For grading purposes, calculate and store each of these metrics in the following variables:\n",
    "- `accuracy`\n",
    "- `precision`\n",
    "- `recall`\n",
    "- `f1`"
   ]
  },
  {
   "cell_type": "code",
   "execution_count": 23,
   "id": "03bfedb7",
   "metadata": {},
   "outputs": [
    {
     "name": "stdout",
     "output_type": "stream",
     "text": [
      "Accuracy: 0.866\n",
      "Precision: 0.596\n",
      "Recall: 0.196\n",
      "F1 Score: 0.295\n"
     ]
    }
   ],
   "source": [
    "from sklearn.metrics import accuracy_score, precision_score, recall_score, f1_score\n",
    "\n",
    "# Evaluate the model\n",
    "# Round all values to 3 decimal places\n",
    "\n",
    "accuracy = round(accuracy_score(y_test, y_pred), 3)\n",
    "precision = round(precision_score(y_test, y_pred), 3)\n",
    "recall = round(recall_score(y_test, y_pred), 3)\n",
    "f1 = round(f1_score(y_test, y_pred), 3)\n",
    "\n",
    "print(f\"Accuracy: {accuracy}\") # Expected: approximately 0.867\n",
    "print(f\"Precision: {precision}\") # Expected: approximately 0.604\n",
    "print(f\"Recall: {recall}\") # Expected: approximately 0.203\n",
    "print(f\"F1 Score: {f1}\") # Expected: approximately 0.304"
   ]
  },
  {
   "cell_type": "markdown",
   "id": "24b86667",
   "metadata": {
    "deletable": false,
    "editable": false,
    "nbgrader": {
     "cell_type": "markdown",
     "checksum": "df74daba87228f9953ec6fcabcdc20c7",
     "grade": false,
     "grade_id": "cell-67f9286f02e450fc",
     "locked": true,
     "schema_version": 3,
     "solution": false,
     "task": false
    }
   },
   "source": [
    "#### Check Your Results:"
   ]
  },
  {
   "cell_type": "code",
   "execution_count": 24,
   "id": "2500301c",
   "metadata": {
    "deletable": false,
    "editable": false,
    "nbgrader": {
     "cell_type": "code",
     "checksum": "20da24b03b22229dd2ac4d8614fdeec3",
     "grade": true,
     "grade_id": "cell-c06f9db7c1c75e78",
     "locked": true,
     "points": 3,
     "schema_version": 3,
     "solution": false,
     "task": false
    }
   },
   "outputs": [
    {
     "name": "stdout",
     "output_type": "stream",
     "text": [
      "Accuracy: 0.866\n"
     ]
    }
   ],
   "source": [
    "# Checking accuracy\n",
    "print(f\"Accuracy: {accuracy}\")"
   ]
  },
  {
   "cell_type": "code",
   "execution_count": 25,
   "id": "ab258f7b",
   "metadata": {
    "deletable": false,
    "editable": false,
    "nbgrader": {
     "cell_type": "code",
     "checksum": "3c7bf5794626c99ac3bac8fa1f848d12",
     "grade": true,
     "grade_id": "cell-34319de2b9ba8a09",
     "locked": true,
     "points": 3,
     "schema_version": 3,
     "solution": false,
     "task": false
    }
   },
   "outputs": [
    {
     "name": "stdout",
     "output_type": "stream",
     "text": [
      "Precision: 0.596\n"
     ]
    }
   ],
   "source": [
    "# Checking precision\n",
    "print(f\"Precision: {precision}\")"
   ]
  },
  {
   "cell_type": "code",
   "execution_count": 26,
   "id": "174c59d8",
   "metadata": {
    "deletable": false,
    "editable": false,
    "nbgrader": {
     "cell_type": "code",
     "checksum": "d491f812a89b56d38095c54cd9fdfd59",
     "grade": true,
     "grade_id": "cell-ce6bf102cb5584ef",
     "locked": true,
     "points": 3,
     "schema_version": 3,
     "solution": false,
     "task": false
    }
   },
   "outputs": [
    {
     "name": "stdout",
     "output_type": "stream",
     "text": [
      "Recall: 0.196\n"
     ]
    }
   ],
   "source": [
    "# Checking recall\n",
    "print(f\"Recall: {recall}\")"
   ]
  },
  {
   "cell_type": "code",
   "execution_count": 27,
   "id": "251a4cce",
   "metadata": {
    "deletable": false,
    "editable": false,
    "nbgrader": {
     "cell_type": "code",
     "checksum": "a4b73f13174c19af59ca7ebbe0450b57",
     "grade": true,
     "grade_id": "cell-3349eebffdb5793b",
     "locked": true,
     "points": 3,
     "schema_version": 3,
     "solution": false,
     "task": false
    }
   },
   "outputs": [
    {
     "name": "stdout",
     "output_type": "stream",
     "text": [
      "F1 Score: 0.295\n"
     ]
    }
   ],
   "source": [
    "# Checking f1\n",
    "print(f\"F1 Score: {f1}\")"
   ]
  },
  {
   "cell_type": "markdown",
   "id": "a959e74e",
   "metadata": {
    "deletable": false,
    "editable": false,
    "nbgrader": {
     "cell_type": "markdown",
     "checksum": "0f228db8bb772d864c1fc77288e3ab5b",
     "grade": false,
     "grade_id": "cell-e0c629442b08f506",
     "locked": true,
     "schema_version": 3,
     "solution": false,
     "task": false
    }
   },
   "source": [
    "### 5. Presenting Findings in a Comprehensive Report\n",
    "#### Step 5.1: Compile the Results\n",
    "Compile your analysis, visualizations, and model evaluation results into a comprehensive report. Fill them in as directed below. This will not be graded, but may be useful if you want to add this to your portfolio.\n",
    "- `Introduction:` Write a sentence or two describing the purpose of this analysis.\n",
    "- `Data Exploration:` Write a sentence or two highlighting the key factors in customer churn.\n",
    "- `Model Building and Evaluation:` Write a sentence or two describing how your model was trained, and the accuracy, precision, and recall rates.\n",
    "- `Key Insights:` Add two or three bullet points summarizing your findings.\n",
    "- `Recommendations:` Add two or three bullet points with the recommendations you would make based on this analysis."
   ]
  },
  {
   "cell_type": "markdown",
   "id": "95e50bd2",
   "metadata": {},
   "source": [
    "# Customer Churn Analysis Report\n",
    "\n",
    "## Introduction\n",
    "- \n",
    "\n",
    "\n",
    "## Data Exploration\n",
    "- \n",
    "\n",
    "\n",
    "## Model Building and Evaluation\n",
    "- \n",
    "\n",
    "\n",
    "## Key Insights\n",
    "- \n",
    "- \n",
    "- \n",
    "\n",
    "\n",
    "## Recommendations\n",
    "- \n",
    "- "
   ]
  },
  {
   "cell_type": "markdown",
   "id": "c2c96cd9",
   "metadata": {
    "deletable": false,
    "editable": false,
    "nbgrader": {
     "cell_type": "markdown",
     "checksum": "183b45f9e054bdd2e1628a31b253ebb3",
     "grade": false,
     "grade_id": "cell-4566ff80b0214cda",
     "locked": true,
     "schema_version": 3,
     "solution": false,
     "task": false
    }
   },
   "source": [
    "## Hints & Tips\n",
    "- Use the \"pandas cheat sheet\" for quick syntax reference on DataFrame operations.\n",
    "- Check the \"Scikit-Learn documentation\" for examples and explanations of classification models.\n",
    "- Use Matplotlib for creating informative visualizations. Reference various materials in Course 2.\n",
    "\n",
    "Good luck with your customer churn analysis!"
   ]
  }
 ],
 "metadata": {
  "kernelspec": {
   "display_name": "Python 3 (ipykernel)",
   "language": "python",
   "name": "python3"
  },
  "language_info": {
   "codemirror_mode": {
    "name": "ipython",
    "version": 3
   },
   "file_extension": ".py",
   "mimetype": "text/x-python",
   "name": "python",
   "nbconvert_exporter": "python",
   "pygments_lexer": "ipython3",
   "version": "3.10.6"
  }
 },
 "nbformat": 4,
 "nbformat_minor": 5
}
