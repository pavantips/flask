{
 "cells": [
  {
   "cell_type": "code",
   "execution_count": 1,
   "id": "de66f08a-efa8-41ce-9822-537dc95f767b",
   "metadata": {},
   "outputs": [
    {
     "name": "stdout",
     "output_type": "stream",
     "text": [
      "Requirement already satisfied: Flask in ./venv/lib/python3.12/site-packages (3.1.2)\n",
      "Requirement already satisfied: Flask-SQLAlchemy in ./venv/lib/python3.12/site-packages (3.1.1)\n",
      "Requirement already satisfied: blinker>=1.9.0 in ./venv/lib/python3.12/site-packages (from Flask) (1.9.0)\n",
      "Requirement already satisfied: click>=8.1.3 in ./venv/lib/python3.12/site-packages (from Flask) (8.2.1)\n",
      "Requirement already satisfied: itsdangerous>=2.2.0 in ./venv/lib/python3.12/site-packages (from Flask) (2.2.0)\n",
      "Requirement already satisfied: jinja2>=3.1.2 in ./venv/lib/python3.12/site-packages (from Flask) (3.1.6)\n",
      "Requirement already satisfied: markupsafe>=2.1.1 in ./venv/lib/python3.12/site-packages (from Flask) (3.0.2)\n",
      "Requirement already satisfied: werkzeug>=3.1.0 in ./venv/lib/python3.12/site-packages (from Flask) (3.1.3)\n",
      "Requirement already satisfied: sqlalchemy>=2.0.16 in ./venv/lib/python3.12/site-packages (from Flask-SQLAlchemy) (2.0.43)\n",
      "Requirement already satisfied: greenlet>=1 in ./venv/lib/python3.12/site-packages (from sqlalchemy>=2.0.16->Flask-SQLAlchemy) (3.2.4)\n",
      "Requirement already satisfied: typing-extensions>=4.6.0 in ./venv/lib/python3.12/site-packages (from sqlalchemy>=2.0.16->Flask-SQLAlchemy) (4.15.0)\n",
      "\n",
      "\u001b[1m[\u001b[0m\u001b[34;49mnotice\u001b[0m\u001b[1;39;49m]\u001b[0m\u001b[39;49m A new release of pip is available: \u001b[0m\u001b[31;49m24.2\u001b[0m\u001b[39;49m -> \u001b[0m\u001b[32;49m25.2\u001b[0m\n",
      "\u001b[1m[\u001b[0m\u001b[34;49mnotice\u001b[0m\u001b[1;39;49m]\u001b[0m\u001b[39;49m To update, run: \u001b[0m\u001b[32;49mpip install --upgrade pip\u001b[0m\n"
     ]
    }
   ],
   "source": [
    "!pip install Flask Flask-SQLAlchemy "
   ]
  },
  {
   "cell_type": "code",
   "execution_count": 2,
   "id": "c81d7dde-ae33-4134-a54e-bff2cd417abf",
   "metadata": {},
   "outputs": [
    {
     "ename": "ModuleNotFoundError",
     "evalue": "No module named 'flask'",
     "output_type": "error",
     "traceback": [
      "\u001b[31m---------------------------------------------------------------------------\u001b[39m",
      "\u001b[31mModuleNotFoundError\u001b[39m                       Traceback (most recent call last)",
      "\u001b[36mCell\u001b[39m\u001b[36m \u001b[39m\u001b[32mIn[2]\u001b[39m\u001b[32m, line 1\u001b[39m\n\u001b[32m----> \u001b[39m\u001b[32m1\u001b[39m \u001b[38;5;28;01mfrom\u001b[39;00m\u001b[38;5;250m \u001b[39m\u001b[34;01mflask\u001b[39;00m\u001b[38;5;250m \u001b[39m\u001b[38;5;28;01mimport\u001b[39;00m Flask\n\u001b[32m      2\u001b[39m \u001b[38;5;28;01mfrom\u001b[39;00m\u001b[38;5;250m \u001b[39m\u001b[34;01mflask_sqlalchemy\u001b[39;00m\u001b[38;5;250m \u001b[39m\u001b[38;5;28;01mimport\u001b[39;00m SQLAlchemy\n\u001b[32m      3\u001b[39m app = Flask(\u001b[34m__name__\u001b[39m)\n",
      "\u001b[31mModuleNotFoundError\u001b[39m: No module named 'flask'"
     ]
    }
   ],
   "source": [
    "from flask import Flask\n",
    "from flask_sqlalchemy import SQLAlchemy\n",
    "app = Flask(__name__)\n",
    "app.config['SQLALCHEMY_DATABASE_URI'] = 'sqlite:///hr_tool.db' \n",
    "db = SQLAlchemy(app)"
   ]
  },
  {
   "cell_type": "code",
   "execution_count": null,
   "id": "fe9ef0ee-3ff2-4039-88a3-15e09eb096db",
   "metadata": {},
   "outputs": [],
   "source": []
  }
 ],
 "metadata": {
  "kernelspec": {
   "display_name": "Python 3 (ipykernel)",
   "language": "python",
   "name": "python3"
  },
  "language_info": {
   "codemirror_mode": {
    "name": "ipython",
    "version": 3
   },
   "file_extension": ".py",
   "mimetype": "text/x-python",
   "name": "python",
   "nbconvert_exporter": "python",
   "pygments_lexer": "ipython3",
   "version": "3.13.2"
  }
 },
 "nbformat": 4,
 "nbformat_minor": 5
}
