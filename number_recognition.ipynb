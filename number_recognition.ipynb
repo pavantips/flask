{
 "cells": [
  {
   "cell_type": "code",
   "execution_count": 1,
   "id": "d9fdac9a-0bbd-4d2e-b13d-b34e9750cd39",
   "metadata": {},
   "outputs": [],
   "source": [
    "from sklearn.datasets import load_digits\n",
    "digits = load_digits()"
   ]
  },
  {
   "cell_type": "code",
   "execution_count": 2,
   "id": "8a3e050e-5f4e-4b56-a94e-a055b4cc2fd6",
   "metadata": {},
   "outputs": [
    {
     "name": "stdout",
     "output_type": "stream",
     "text": [
      "Number of samples: 1797\n",
      "Number of features: 64\n",
      "Image shape: (1797, 8, 8)\n"
     ]
    }
   ],
   "source": [
    "# See the shape\n",
    "print(f\"Number of samples: {digits.data.shape[0]}\")\n",
    "print(f\"Number of features: {digits.data.shape[1]}\")\n",
    "print(f\"Image shape: {digits.images.shape}\")"
   ]
  },
  {
   "cell_type": "code",
   "execution_count": 5,
   "id": "feb99a6d-b996-4e23-a7cb-fdea428eeb4f",
   "metadata": {},
   "outputs": [
    {
     "name": "stdout",
     "output_type": "stream",
     "text": [
      "First image label: 4\n",
      "First image data:\n",
      "[[ 0.  0.  0.  1. 11.  0.  0.  0.]\n",
      " [ 0.  0.  0.  7.  8.  0.  0.  0.]\n",
      " [ 0.  0.  1. 13.  6.  2.  2.  0.]\n",
      " [ 0.  0.  7. 15.  0.  9.  8.  0.]\n",
      " [ 0.  5. 16. 10.  0. 16.  6.  0.]\n",
      " [ 0.  4. 15. 16. 13. 16.  1.  0.]\n",
      " [ 0.  0.  0.  3. 15. 10.  0.  0.]\n",
      " [ 0.  0.  0.  2. 16.  4.  0.  0.]]\n"
     ]
    }
   ],
   "source": [
    "# Look at first digit\n",
    "print(f\"First image label: {digits.target[4]}\")\n",
    "print(f\"First image data:\\n{digits.images[4]}\")\n"
   ]
  },
  {
   "cell_type": "code",
   "execution_count": 6,
   "id": "0d5f7a06-84ab-48cf-91b9-b2094647e0b3",
   "metadata": {},
   "outputs": [
    {
     "data": {
      "image/png": "[encoded data removed]",
      "text/plain": [
       "<Figure size 640x480 with 1 Axes>"
      ]
     },
     "metadata": {},
     "output_type": "display_data"
    }
   ],
   "source": [
    "# Visualize a digit\n",
    "import matplotlib.pyplot as plt\n",
    "\n",
    "plt.imshow(digits.images[4], cmap='gray')\n",
    "plt.title(f\"Label: {digits.target[0]}\")\n",
    "plt.show()"
   ]
  },
  {
   "cell_type": "code",
   "execution_count": 7,
   "id": "df377d58-a5ce-4f48-b11a-5829b634e74e",
   "metadata": {},
   "outputs": [
    {
     "name": "stdout",
     "output_type": "stream",
     "text": [
      "Training samples: 1437\n",
      "Testing samples: 360\n"
     ]
    }
   ],
   "source": [
    "from sklearn.model_selection import train_test_split\n",
    "\n",
    "X_train, X_test, y_train, y_test = train_test_split(\n",
    "    digits.data, \n",
    "    digits.target, \n",
    "    test_size=0.2, \n",
    "    random_state=42\n",
    ")\n",
    "\n",
    "print(f\"Training samples: {X_train.shape[0]}\")\n",
    "print(f\"Testing samples: {X_test.shape[0]}\")"
   ]
  },
  {
   "cell_type": "code",
   "execution_count": 8,
   "id": "47eb0093-3974-4707-b9cb-845b19adfd72",
   "metadata": {},
   "outputs": [
    {
     "name": "stdout",
     "output_type": "stream",
     "text": [
      "Model trained!\n"
     ]
    }
   ],
   "source": [
    "from sklearn.tree import DecisionTreeClassifier\n",
    "\n",
    "# Create model\n",
    "clf = DecisionTreeClassifier(random_state=42)\n",
    "\n",
    "# Train\n",
    "clf.fit(X_train, y_train)\n",
    "\n",
    "print(\"Model trained!\")"
   ]
  },
  {
   "cell_type": "code",
   "execution_count": 9,
   "id": "82c00475-e551-4197-bbb3-5767f0894e33",
   "metadata": {},
   "outputs": [
    {
     "name": "stdout",
     "output_type": "stream",
     "text": [
      "First 10 predictions: [6 9 3 7 2 1 5 3 5 7]\n",
      "First 10 actual: [6 9 3 7 2 1 5 2 5 2]\n"
     ]
    }
   ],
   "source": [
    "# Predict on test set\n",
    "y_pred = clf.predict(X_test)\n",
    "\n",
    "print(f\"First 10 predictions: {y_pred[:10]}\")\n",
    "print(f\"First 10 actual: {y_test[:10]}\")"
   ]
  },
  {
   "cell_type": "code",
   "execution_count": 10,
   "id": "efd3de3e-b562-46f1-afaa-3f04b8d30d4b",
   "metadata": {},
   "outputs": [
    {
     "name": "stdout",
     "output_type": "stream",
     "text": [
      "Accuracy: 84.17%\n"
     ]
    }
   ],
   "source": [
    "from sklearn.metrics import accuracy_score\n",
    "\n",
    "accuracy = accuracy_score(y_test, y_pred)\n",
    "print(f\"Accuracy: {accuracy:.2%}\")"
   ]
  },
  {
   "cell_type": "code",
   "execution_count": 19,
   "id": "c671b74e-1c60-4e18-845d-04ef3b64219c",
   "metadata": {},
   "outputs": [
    {
     "data": {
      "image/png": "[encoded data removed]",
      "text/plain": [
       "<Figure size 640x480 with 1 Axes>"
      ]
     },
     "metadata": {},
     "output_type": "display_data"
    },
    {
     "name": "stdout",
     "output_type": "stream",
     "text": [
      "Model predicted: 0\n",
      "Actual digit: 0\n",
      "✓ Correct!\n"
     ]
    }
   ],
   "source": [
    "import random\n",
    "import matplotlib.pyplot as plt\n",
    "\n",
    "# Pick a random test image\n",
    "index = random.randint(0, len(X_test)-1)\n",
    "\n",
    "# Get the image and actual label\n",
    "test_image = X_test[index] \n",
    "actual_label = y_test[index] \n",
    "\n",
    "\n",
    "# Make prediction\n",
    "prediction = clf.predict([test_image])\n",
    "\n",
    "# Visualize\n",
    "plt.imshow(test_image.reshape(8, 8), cmap='gray')\n",
    "plt.title(f\"Predicted: {prediction[0]}, Actual: {actual_label}\")\n",
    "plt.show()\n",
    "\n",
    "print(f\"Model predicted: {prediction[0]}\")\n",
    "print(f\"Actual digit: {actual_label}\")\n",
    "if prediction[0] == actual_label:\n",
    "    print(\"✓ Correct!\")\n",
    "else:\n",
    "    print(\"✗ Wrong!\")"
   ]
  },
  {
   "cell_type": "code",
   "execution_count": null,
   "id": "731e1a22-d028-4697-8169-3281e1b25438",
   "metadata": {},
   "outputs": [],
   "source": []
  },
  {
   "cell_type": "code",
   "execution_count": null,
   "id": "9662cc89-a5c7-4333-9031-b70d4f60af9a",
   "metadata": {},
   "outputs": [],
   "source": []
  }
 ],
 "metadata": {
  "kernelspec": {
   "display_name": "Python 3 (ipykernel)",
   "language": "python",
   "name": "python3"
  },
  "language_info": {
   "codemirror_mode": {
    "name": "ipython",
    "version": 3
   },
   "file_extension": ".py",
   "mimetype": "text/x-python",
   "name": "python",
   "nbconvert_exporter": "python",
   "pygments_lexer": "ipython3",
   "version": "3.9.6"
  }
 },
 "nbformat": 4,
 "nbformat_minor": 5
}
